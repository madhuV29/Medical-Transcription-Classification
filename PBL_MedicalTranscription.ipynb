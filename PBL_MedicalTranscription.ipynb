{
  "nbformat": 4,
  "nbformat_minor": 0,
  "metadata": {
    "colab": {
      "name": "PBL_MedicalTranscription.ipynb",
      "provenance": [],
      "collapsed_sections": []
    },
    "kernelspec": {
      "display_name": "Python 3",
      "name": "python3"
    },
    "language_info": {
      "name": "python"
    },
    "accelerator": "GPU"
  },
  "cells": [
    {
      "cell_type": "code",
      "metadata": {
        "id": "fsPpbo0rfri0"
      },
      "source": [
        "import pandas as pd\n",
        "import numpy as np\n",
        "import matplotlib.pyplot as plt\n",
        "import seaborn as sns\n",
        "import string\n",
        "import re\n",
        "from sklearn.feature_extraction.text import TfidfVectorizer\n",
        "\n",
        "from nltk.tokenize import word_tokenize\n",
        "from nltk.tokenize import sent_tokenize\n",
        "from nltk.stem import WordNetLemmatizer \n"
      ],
      "execution_count": null,
      "outputs": []
    },
    {
      "cell_type": "code",
      "metadata": {
        "colab": {
          "base_uri": "https://localhost:8080/",
          "height": 354
        },
        "id": "lEU2ie4g3eUK",
        "outputId": "7abeb07d-8b4a-4527-b5e1-0f36391ed021"
      },
      "source": [
        "clinical_text_df = pd.read_csv('mtsamples.csv')\n",
        "\n",
        "print(clinical_text_df.columns)\n",
        "clinical_text_df.head(5)"
      ],
      "execution_count": null,
      "outputs": [
        {
          "output_type": "stream",
          "text": [
            "Index(['Unnamed: 0', 'description', 'medical_specialty', 'sample_name',\n",
            "       'transcription', 'keywords'],\n",
            "      dtype='object')\n"
          ],
          "name": "stdout"
        },
        {
          "output_type": "execute_result",
          "data": {
            "text/html": [
              "<div>\n",
              "<style scoped>\n",
              "    .dataframe tbody tr th:only-of-type {\n",
              "        vertical-align: middle;\n",
              "    }\n",
              "\n",
              "    .dataframe tbody tr th {\n",
              "        vertical-align: top;\n",
              "    }\n",
              "\n",
              "    .dataframe thead th {\n",
              "        text-align: right;\n",
              "    }\n",
              "</style>\n",
              "<table border=\"1\" class=\"dataframe\">\n",
              "  <thead>\n",
              "    <tr style=\"text-align: right;\">\n",
              "      <th></th>\n",
              "      <th>Unnamed: 0</th>\n",
              "      <th>description</th>\n",
              "      <th>medical_specialty</th>\n",
              "      <th>sample_name</th>\n",
              "      <th>transcription</th>\n",
              "      <th>keywords</th>\n",
              "    </tr>\n",
              "  </thead>\n",
              "  <tbody>\n",
              "    <tr>\n",
              "      <th>0</th>\n",
              "      <td>0</td>\n",
              "      <td>A 23-year-old white female presents with comp...</td>\n",
              "      <td>Allergy / Immunology</td>\n",
              "      <td>Allergic Rhinitis</td>\n",
              "      <td>SUBJECTIVE:,  This 23-year-old white female pr...</td>\n",
              "      <td>allergy / immunology, allergic rhinitis, aller...</td>\n",
              "    </tr>\n",
              "    <tr>\n",
              "      <th>1</th>\n",
              "      <td>1</td>\n",
              "      <td>Consult for laparoscopic gastric bypass.</td>\n",
              "      <td>Bariatrics</td>\n",
              "      <td>Laparoscopic Gastric Bypass Consult - 2</td>\n",
              "      <td>PAST MEDICAL HISTORY:, He has difficulty climb...</td>\n",
              "      <td>bariatrics, laparoscopic gastric bypass, weigh...</td>\n",
              "    </tr>\n",
              "    <tr>\n",
              "      <th>2</th>\n",
              "      <td>2</td>\n",
              "      <td>Consult for laparoscopic gastric bypass.</td>\n",
              "      <td>Bariatrics</td>\n",
              "      <td>Laparoscopic Gastric Bypass Consult - 1</td>\n",
              "      <td>HISTORY OF PRESENT ILLNESS: , I have seen ABC ...</td>\n",
              "      <td>bariatrics, laparoscopic gastric bypass, heart...</td>\n",
              "    </tr>\n",
              "    <tr>\n",
              "      <th>3</th>\n",
              "      <td>3</td>\n",
              "      <td>2-D M-Mode. Doppler.</td>\n",
              "      <td>Cardiovascular / Pulmonary</td>\n",
              "      <td>2-D Echocardiogram - 1</td>\n",
              "      <td>2-D M-MODE: , ,1.  Left atrial enlargement wit...</td>\n",
              "      <td>cardiovascular / pulmonary, 2-d m-mode, dopple...</td>\n",
              "    </tr>\n",
              "    <tr>\n",
              "      <th>4</th>\n",
              "      <td>4</td>\n",
              "      <td>2-D Echocardiogram</td>\n",
              "      <td>Cardiovascular / Pulmonary</td>\n",
              "      <td>2-D Echocardiogram - 2</td>\n",
              "      <td>1.  The left ventricular cavity size and wall ...</td>\n",
              "      <td>cardiovascular / pulmonary, 2-d, doppler, echo...</td>\n",
              "    </tr>\n",
              "  </tbody>\n",
              "</table>\n",
              "</div>"
            ],
            "text/plain": [
              "   Unnamed: 0  ...                                           keywords\n",
              "0           0  ...  allergy / immunology, allergic rhinitis, aller...\n",
              "1           1  ...  bariatrics, laparoscopic gastric bypass, weigh...\n",
              "2           2  ...  bariatrics, laparoscopic gastric bypass, heart...\n",
              "3           3  ...  cardiovascular / pulmonary, 2-d m-mode, dopple...\n",
              "4           4  ...  cardiovascular / pulmonary, 2-d, doppler, echo...\n",
              "\n",
              "[5 rows x 6 columns]"
            ]
          },
          "metadata": {
            "tags": []
          },
          "execution_count": 3
        }
      ]
    },
    {
      "cell_type": "code",
      "metadata": {
        "id": "xfzBSClC32wa"
      },
      "source": [
        "clinical_text_df = clinical_text_df[clinical_text_df['transcription'].notna()]"
      ],
      "execution_count": null,
      "outputs": []
    },
    {
      "cell_type": "code",
      "metadata": {
        "id": "HCkxSRlG5KF1"
      },
      "source": [
        "##returns no. of words and sentences in the context\n",
        "\n",
        "def get_sentence_word_count(text_list):\n",
        "    sent_count = 0\n",
        "    word_count = 0\n",
        "    vocab = {}\n",
        "    for text in text_list:\n",
        "        sentences=sent_tokenize(str(text).lower())\n",
        "        sent_count = sent_count + len(sentences)\n",
        "        for sentence in sentences:\n",
        "            words=word_tokenize(sentence)\n",
        "            for word in words:\n",
        "                if(word in vocab.keys()):\n",
        "                    vocab[word] = vocab[word] +1\n",
        "                else:\n",
        "                    vocab[word] =1 \n",
        "    word_count = len(vocab.keys())\n",
        "    return sent_count,word_count"
      ],
      "execution_count": null,
      "outputs": []
    },
    {
      "cell_type": "code",
      "metadata": {
        "colab": {
          "base_uri": "https://localhost:8080/"
        },
        "id": "4MSpRUf_548Y",
        "outputId": "7fd7dcfe-a4c4-42d6-b621-3db1187a899d"
      },
      "source": [
        "data_categories  = clinical_text_df.groupby(clinical_text_df['medical_specialty'])\n",
        "i = 1\n",
        "print('Categories :')\n",
        "for catName,dataCategory in data_categories:\n",
        "    print(str(i)+' '+catName + ' : '+ str(len(dataCategory)) )\n",
        "    i = i+1"
      ],
      "execution_count": null,
      "outputs": [
        {
          "output_type": "stream",
          "text": [
            "Categories :\n",
            "1  Allergy / Immunology : 7\n",
            "2  Autopsy : 8\n",
            "3  Bariatrics : 18\n",
            "4  Cardiovascular / Pulmonary : 371\n",
            "5  Chiropractic : 14\n",
            "6  Consult - History and Phy. : 516\n",
            "7  Cosmetic / Plastic Surgery : 27\n",
            "8  Dentistry : 27\n",
            "9  Dermatology : 29\n",
            "10  Diets and Nutritions : 10\n",
            "11  Discharge Summary : 108\n",
            "12  ENT - Otolaryngology : 96\n",
            "13  Emergency Room Reports : 75\n",
            "14  Endocrinology : 19\n",
            "15  Gastroenterology : 224\n",
            "16  General Medicine : 259\n",
            "17  Hematology - Oncology : 90\n",
            "18  Hospice - Palliative Care : 6\n",
            "19  IME-QME-Work Comp etc. : 16\n",
            "20  Lab Medicine - Pathology : 8\n",
            "21  Letters : 23\n",
            "22  Nephrology : 81\n",
            "23  Neurology : 223\n",
            "24  Neurosurgery : 94\n",
            "25  Obstetrics / Gynecology : 155\n",
            "26  Office Notes : 50\n",
            "27  Ophthalmology : 83\n",
            "28  Orthopedic : 355\n",
            "29  Pain Management : 61\n",
            "30  Pediatrics - Neonatal : 70\n",
            "31  Physical Medicine - Rehab : 21\n",
            "32  Podiatry : 47\n",
            "33  Psychiatry / Psychology : 53\n",
            "34  Radiology : 273\n",
            "35  Rheumatology : 10\n",
            "36  SOAP / Chart / Progress Notes : 166\n",
            "37  Sleep Medicine : 20\n",
            "38  Speech - Language : 9\n",
            "39  Surgery : 1088\n",
            "40  Urology : 156\n"
          ],
          "name": "stdout"
        }
      ]
    },
    {
      "cell_type": "code",
      "metadata": {
        "colab": {
          "base_uri": "https://localhost:8080/",
          "height": 606
        },
        "id": "QQFwMOSe8CDe",
        "outputId": "4d57052c-d690-4f62-994a-a0b5fe514479"
      },
      "source": [
        "plt.figure(figsize=(10,10))\n",
        "sns.countplot(y='medical_specialty', data = clinical_text_df )\n",
        "plt.show()"
      ],
      "execution_count": null,
      "outputs": [
        {
          "output_type": "display_data",
          "data": {
            "image/png": "[encoded data removed]",
            "text/plain": [
              "<Figure size 720x720 with 1 Axes>"
            ]
          },
          "metadata": {
            "tags": [],
            "needs_background": "light"
          }
        }
      ]
    },
    {
      "cell_type": "code",
      "metadata": {
        "colab": {
          "base_uri": "https://localhost:8080/"
        },
        "id": "I7dJcpDd8dVX",
        "outputId": "75a22fa0-3488-4782-ab4c-9bf73e8fefd2"
      },
      "source": [
        "filtered_data_categories = data_categories.filter(lambda x:x.shape[0] > 50 and x.shape[0] <200)\n",
        "final_data_categories = filtered_data_categories.groupby(filtered_data_categories['medical_specialty'])\n",
        "i=1\n",
        "print('Reduced Categories:')\n",
        "for catName,dataCategory in final_data_categories:\n",
        "    print(str(i)+' '+catName + ' : '+ str(len(dataCategory)) )\n",
        "    i = i+1\n"
      ],
      "execution_count": null,
      "outputs": [
        {
          "output_type": "stream",
          "text": [
            "Reduced Categories:\n",
            "1  Discharge Summary : 108\n",
            "2  ENT - Otolaryngology : 96\n",
            "3  Emergency Room Reports : 75\n",
            "4  Hematology - Oncology : 90\n",
            "5  Nephrology : 81\n",
            "6  Neurosurgery : 94\n",
            "7  Obstetrics / Gynecology : 155\n",
            "8  Ophthalmology : 83\n",
            "9  Pain Management : 61\n",
            "10  Pediatrics - Neonatal : 70\n",
            "11  Psychiatry / Psychology : 53\n",
            "12  SOAP / Chart / Progress Notes : 166\n",
            "13  Urology : 156\n"
          ],
          "name": "stdout"
        }
      ]
    },
    {
      "cell_type": "code",
      "metadata": {
        "colab": {
          "base_uri": "https://localhost:8080/",
          "height": 606
        },
        "id": "EJJO9RlD_cXD",
        "outputId": "18304d8c-2ab1-43b0-948e-8e76f0523c05"
      },
      "source": [
        "plt.figure(figsize=(10,10))\n",
        "sns.countplot(y='medical_specialty', data = filtered_data_categories )\n",
        "plt.show()"
      ],
      "execution_count": null,
      "outputs": [
        {
          "output_type": "display_data",
          "data": {
            "image/png": "[encoded data removed]",
            "text/plain": [
              "<Figure size 720x720 with 1 Axes>"
            ]
          },
          "metadata": {
            "tags": [],
            "needs_background": "light"
          }
        }
      ]
    },
    {
      "cell_type": "code",
      "metadata": {
        "colab": {
          "base_uri": "https://localhost:8080/"
        },
        "id": "WEZekaMz9WK6",
        "outputId": "1b90b170-5f47-4b41-b602-c956e6df3ddd"
      },
      "source": [
        "print('Reduced Categories Transcription sample[1]:')\n",
        "i=1\n",
        "for catName,dataCategory in final_data_categories:\n",
        "    print(str(i)+' '+catName + ' : '+ str(len(dataCategory)) )\n",
        "    dataList = dataCategory['transcription'].tolist()\n",
        "    print('Transcription:'+str(dataList[1]))\n",
        "    print('--------------------------------------------')\n",
        "    i = i+1\n"
      ],
      "execution_count": null,
      "outputs": [
        {
          "output_type": "stream",
          "text": [
            "Reduced Categories Transcription sample[1]:\n",
            "1  Discharge Summary : 108\n",
            "Transcription:ADMISSION DIAGNOSES:,1.  Severe menometrorrhagia unresponsive to medical therapy.,2.  Severe anemia.,3.  Symptomatic fibroid uterus.,DISCHARGE DIAGNOSES:,1.  Severe menometrorrhagia unresponsive to medical therapy.,2.  Severe anemia.,3.  Symptomatic fibroid uterus.,4.  Extensive adenomyosis by pathological report.,OPERATION PERFORMED: , On 6/10/2009 total abdominal hysterectomy (TAH).,COMPLICATIONS:,  None.,BLOOD TRANSFUSIONS: , None.,INFECTIONS: , None.,SIGNIFICANT LAB AND X-RAY: , On admission hemoglobin and hematocrit was 10.5 and 32.8 respectively.  On discharge, hemoglobin and hematocrit 7.9 and 25.2.,HOSPITAL COURSE AND TREATMENT:  ,The patient was admitted to the surgical suite and taken to the operating room on 6/10/2009 where a total abdominal hysterectomy (TAH) with low intraoperative complication was performed.  The patient tolerated all procedures well.  On the 1st postoperative day, the patient was afebrile and all vital signs were stable.  On the 3rd postoperative day, the patient was ambulating with difficulty and tolerating clear liquid diet.  On the 4th postoperative day, the patient was complaining of pain in her back and abdomen as well as incisional wound tenderness.  On the 5th postoperative day, the patient was afebrile.  Vital signs were stable.  The patient was tolerating a diet and ambulating without difficulty.  The patient was desirous of going home.  The patient denied any abdominal pain or flank pain.  The patient had minimal incisional wound tenderness.  The patient was desirous of going home and was discharged home.,DISCHARGE CONDITION: , Stable.,DISCHARGE INSTRUCTIONS:,  Regular diet, bedrest x1 week with slow return to normal activity over the ensuing 4 to 6 weeks, pelvic rest for 6 weeks.  Motrin 600 mg tablets 1 tablet p.o. q.8h. p.r.n. pain, Colace 100 mg tablets 1 tablet p.o. daily p.r.n. constipation and ferrous sulfate 60 mg tablets 1 tablet p.o. daily, and multiple vitamin 1 tablet p.o. daily.  The patient is to return on Wednesday 6/17/2009 for removal of staples.  The patient was given a full explanation of her clinical condition.  The patient was given full and complete postoperative and discharge instructions.  All her questions were answered.\n",
            "--------------------------------------------\n",
            "2  ENT - Otolaryngology : 96\n",
            "Transcription:PREOPERATIVE DIAGNOSIS:,  Obstructive sleep apnea.,POSTOPERATIVE DIAGNOSIS:  ,Obstructive sleep apnea.,PROCEDURE PERFORMED:,1.  Tonsillectomy.,2.  Uvulopalatopharyngoplasty.,ANESTHESIA:,  General endotracheal tube.,BLOOD LOSS: , Approximately 50 cc.,INDICATIONS: , The patient is a 41-year-old gentleman with a history of obstructive sleep apnea who has been using CPAP, however, he was not tolerating used of the machine and requested a surgical procedure for correction of his apnea.,PROCEDURE: , After all risks, benefits, and alternatives have been discussed with the patient, informed consent was obtained.  The patient was brought to the operative suite where he was placed in supine position and general endotracheal tube intubation was delivered by the Department of Anesthesia.  The patient was rotated 90 degrees away and a shoulder roll was placed and a McIvor mouthgag was inserted into the oral cavity.  Correct inspection and palpation did not reveal evidence of a bifid uvula or submucosal clots.  Attention was directed first to the right tonsil in which a curved Allis forceps was applied to the superior pole.  The needle-tip Bovie cautery was used to incise the mucosa of the anterior tonsillar pillar.  Once the tonsillar pillar was identified and the superior pole was released, the curved forceps with a straight Allis forceps and the dissection was carried down inferiorly, dissecting the tonsil free from all fascial attachments.  Once the tonsil was delivered from the oral cavity, hemostasis was obtained within the tonsillar fossa utilizing suction cautery.,Attention was then directed over to the left tonsil in which a similar procedure was performed.  Once all bleeding was controlled, the mucosa of both the hard and soft palate was anesthetized with a mixture of 1% lidocaine and 1:50000 epinephrine solution.  Now attention was directed to the posterior pillars.  A hemostat was used to clamp the posterior pillar, which was then taken down with Metzenbaum scissors.  The posterior pillar was then approximated to the anterior pillar with the use of #3-0 PDS suture so as to create a box shaped soft palate.  Now, the uvula was reflected onto the soft palate and #12 blade scalpel was used to incise the mucosa of the soft palate extending down onto the uvula.  The mucosa was dissected off with the use of Potts scissors.  Now the uvula was reflected onto the soft palate and sutured down in place with use of #3-0 PDS suture approximated with deep muscle layers.  Now the mucosa of the soft palate and the uvula were approximated with interrupted #3-0 PDS sutures.  Finally, #4-0 Vicryl sutures were placed intermittently between the PDS to further secure the uvula, which had been reflected onto the soft palate.  A final #3-0 PDS suture was used to further approximate the anterior and posterior tonsil pillars.  Final inspection did not reveal any further bleeding.  The mouth was then irrigated with saline and suctioned.  At this point, the procedure was complete.  He was awakened and taken to recovery room in stable condition.  He will be admitted as an observation patient to the Telemetry Floor for routine postoperative management.  Of note, IV Decadron was administered during the procedure.\n",
            "--------------------------------------------\n",
            "3  Emergency Room Reports : 75\n",
            "Transcription:SUBJECTIVE:  ,This 68-year-old man presents to the emergency department for three days of cough, claims that he has brought up some green and grayish sputum.  He says he does not feel short of breath.  He denies any fever or chills.,REVIEW OF SYSTEMS:,HEENT:  Denies any severe headache or sore throat.,CHEST:  No true pain.,GI:  No nausea, vomiting, or diarrhea.,PAST HISTORY:,  He states that he is on Coumadin because he had a cardioversion done two months ago for atrial fibrillation.  He also lists some other medications.  I do have his medications list.  He is on Pacerone, Zaroxolyn, albuterol inhaler, Neurontin, Lasix, and several other medicines.  Those are the predominant medicines.  He is not a diabetic.  The past history otherwise, he has had smoking history, but he quit several years ago and denies any COPD or emphysema.  No one else in the family is sick.,PHYSICAL EXAMINATION:,GENERAL:  The patient appears comfortable.  He did not appear to be in any respiratory distress.  He was alert.  I heard him cough once during the entire encounter.  He did not bring up any sputum at that time.,VITAL SIGNS:  His temperature is 98, pulse 71, respiratory rate 18, blood pressure 122/57, and pulse ox is 95% on room air.,HEENT:  Throat was normal.,RESPIRATORY:  He was breathing normally.  There was clear and equal breath sounds.  He was speaking in full sentences.  There was no accessory muscle use.,HEART:  Sounded regular.,SKIN:  Normal color, warm and dry.,NEUROLOGIC:  Neurologically he was alert.,IMPRESSION: , Viral syndrome, which we have been seeing in many cases throughout the week.  The patient asked me about antibiotics and I did not see a need to do this since he did not appear to have an infection other than viral given his normal temperature, normal pulse, normal respiratory rate, and near normal oxygen.  The patient being on Coumadin I explained to him that unless there was a solid reason to put him on antibiotics, he would be advised not to do so because antibiotics can alter the gut floor causing the INR to increase while on Coumadin which may cause serious bleeding.  The patient understands this.  I then asked him if the cough was annoying him, he said it was.  I offered him a cough syrup, which he agreed to take.  The patient was then discharged with Tussionex Pennkinetic a hydrocodone time-release cough syrup.  I told to check in three days, if the symptoms were not getting better.  The patient appeared to be content with this treatment and was discharged in approximately 30 to 45 minutes later.  His wife calls me very angry that I did not give him antibiotics.  I explained her exactly what I explained to him that they were not indicative at this time, and she became very upset saying that they came there specifically for antibiotics and I explained again that antibiotics are not indicated for viral infection and that I did not think he had a bacterial infection.,DIAGNOSIS: , Viral respiratory illness.\n",
            "--------------------------------------------\n",
            "4  Hematology - Oncology : 90\n",
            "Transcription:CHIEF COMPLAINT:,  Essential thrombocytosis.,HISTORY OF PRESENT ILLNESS: , This is an extremely pleasant 64-year-old gentleman who I am following for essential thrombocytosis.  He was first diagnosed when he first saw a hematologist on 07/09/07.  At that time, his platelet count was 1,240,000.  He was initially started on Hydrea 1000 mg q.d.  On 07/11/07, he underwent a bone marrow biopsy, which showed essential thrombocytosis.  He was positive for the JAK-2 mutation.  On 11/06/07, his platelets were noted to be 766,000.  His current Hydrea dose is now 1500 mg on Mondays and Fridays and 1000 mg on all other days.  He moved to ABCD in December 2009 in an attempt to improve his wife's rheumatoid arthritis.,Overall, he is doing well.  He has a good energy level, and his ECOG performance status is 0.  He denies any fevers, chills, or night sweats.  No lymphadenopathy.  No nausea or vomiting.  No change in bowel or bladder habits.,CURRENT MEDICATIONS: , Hydrea 1500 mg on Mondays and Fridays and 1000 mg the other days of the week,  Flomax q.d., vitamin D q.d, saw palmetto q.d., aspirin 81 mg q.d., and vitamin C q.d.,ALLERGIES: , No known drug allergies.,REVIEW OF SYSTEMS:,  As per the HPI, otherwise negative.,PAST MEDICAL HISTORY:,1.  He is status post an appendectomy.,2.  Status post a tonsillectomy and adenoidectomy.,3.  Status post bilateral cataract surgery.,4.  BPH.,SOCIAL HISTORY:  ,He has a history of tobacco use, which he quit at the age of 37.  He has one alcoholic drink per day.  He is married.  He is a retired lab manager.,FAMILY HISTORY:  ,There is no history of solid tumor or hematologic malignancies in his family.,PHYSICAL EXAM:,VIT:\n",
            "--------------------------------------------\n",
            "5  Nephrology : 81\n",
            "Transcription:PREOPERATIVE DIAGNOSIS:,  Right renal stone.,POSTOPERATIVE DIAGNOSIS:  ,Right renal stone.,PROCEDURE: , Right shockwave lithotripsy, cystoscopy, and stent removal x2.,ANESTHESIA: , LMA.,ESTIMATED BLOOD LOSS:,  Minimal.  The patient was given antibiotics preoperatively.,HISTORY: , This is a 47-year-old male who presented with right renal stone and right UPJ stone.  The right UPJ stone was removed using ureteroscopy and laser lithotripsy and the stone in the kidney.  The plan was for shockwave lithotripsy.  The patient had duplicated system on the right side.  Risk of anesthesia, bleeding, infection, pain, MI, DVT, PE was discussed.  Options such as watchful waiting, passing the stone on its own, and shockwave lithotripsy were discussed.  The patient wanted to proceed with the shockwave to break the stone into small pieces as possible to allow the stones to pass easily.  Consent was obtained.,DETAILS OF THE OPERATION:  ,The patient was brought to the OR.  Anesthesia was applied.  The patient was placed in the supine position.  Using Dornier lithotriptor total of 2500 shocks were applied.  Energy levels were slowly started at O2 increased up to 7; gradually the stone seem to have broken into smaller pieces as the number of shocks went up.  The shocks were started at 60 per minute and slowly increased up to 90 per minute.  The patient's heart rate and blood pressure were stable throughout the entire procedure.,After the end of the shockwave lithotripsy the patient was placed in dorsal lithotomy position.  The patient was prepped and draped in usual sterile fashion and cystoscopy was done.  Using graspers, the stent was grasped x2 and pulled out, both stents were removed.  The patient tolerated the procedure well.  The patient was brought to recovery in stable condition.  The plan was for the patient to follow up with us and plan for KUB in about two to three months.\n",
            "--------------------------------------------\n",
            "6  Neurosurgery : 94\n",
            "Transcription:TITLE OF OPERATION: , Placement of right new ventriculoperitoneal (VP) shunts Strata valve and to removal of right frontal Ommaya reservoir.,INDICATION FOR SURGERY: , The patient is a 2-month-old infant, born premature with intraventricular hemorrhage and Ommaya reservoir recommendation for removal and replacement with a new VP shunt.,PREOP DIAGNOSIS: , Hydrocephalus.,POSTOP DIAGNOSIS: , Hydrocephalus.,PROCEDURE DETAIL: , The patient was brought to the operating room, underwent induction of general endotracheal airway, positioned supine, head turned towards left.  The right side prepped and draped in the usual sterile fashion.  Next, using a 15 blade scalpel, two incisions were made, one in the parietooccipital region and.  The second just lateral to the umbilicus.  Once this was clear, the Bactiseal catheter was then tunneled.  This was connected to a Strata valve.  The Strata valve was programmed to a setting of 1.01 and this was ensured.  The small burr hole was then created.  The area was then coagulated.  Once this was completed, new Bactiseal catheter was then inserted.  It was connected to the Strata valve.  There was good distal flow.  The distal end was then inserted into the peritoneal region via trocar.  Once this was insured, all the wounds were irrigated copiously and closed with 3-0 Vicryl and 4-0 Caprosyn as well as Indermil glue.  The right frontal incision was then opened.  The Ommaya reservoir identified and removed.  The wound was then also closed with an inverted 3-0 Vicryl and 4-0 Caprosyn.  Once all the wounds were completed, dry sterile dressings were applied.  The patient was then transported back to the ICU in stable condition intubated.  Blood loss minimal.  All sponge and needle counts were correct.\n",
            "--------------------------------------------\n",
            "7  Obstetrics / Gynecology : 155\n",
            "Transcription:CHIEF COMPLAINT:,  The patient comes for her well-woman checkup.,HISTORY OF PRESENT ILLNESS:,  She feels well.  She has had no real problems.  She has not had any vaginal bleeding.  She had a hysterectomy.  She has done fairly well from that time till now.  She feels like she is doing pretty well.  She remains sexually active occasionally.  She has not had any urinary symptoms.  No irregular vaginal bleeding.  She has not had any problems with vasomotor symptoms and generally, she just feels like she has been doing pretty well.  She sometimes gets a catch in her right hip and sometimes she gets heaviness in her calves.  She says the only thing that works to relieve that is to sleep on her tummy with her legs pulled up and they relax and she goes off to sleep.  She does not report any swelling or inflammation, or pain.  She had a recent urinary tract infection, took medication, and has not rechecked on that urinalysis.,MEDICATIONS: , Tetracycline 250 mg daily, Inderal LA 80 mg every other day.,ALLERGIES:,  Sulfa.,PAST MEDICAL HISTORY:,  She had rosacea.  She also has problems with “tremors” and for that she takes Inderal LA.  Hysterectomy in the past.,SOCIAL HISTORY:,  She drinks four cups of coffee a day.  No soda.  No chocolate.  She said her husband hurt his hand and shoulder, and she has been having to care of him pretty much.  They walk every evening for one hour.,FAMILY HISTORY:,  Her mother is in a nursing home; she had a stroke.  Her father died at age 86 in January 2004 of congestive heart failure.  She has two brothers, one has kidney failure, the other brother donated a kidney to his other brother, but this young man is now an alcoholic and drug addict.,REVIEW OF SYSTEMS:,  Patient denies headache or trauma.  No blurred or double vision.  Hearing is fine, no tinnitus, or infection.  Infrequent sore throat, no hoarseness, or cough.,Neck:  No stiffness, pain, or swelling.,Respiratory:  No shortness of breath, cough, or hemoptysis.,Cardiovascular:  No chest pain, ankle edema, palpitations, or hypertension.,GI:  No nausea, vomiting, diarrhea, constipation, melena, or jaundice.,GU:  No dysuria, frequency, urgency, or stress incontinence.,Locomotor:  No weakness, joint pain, tremor, or swelling.,GYN:  See HPI.,Integumentary:  Patient performs self-breast examinations and denies any breast masses or nipple discharge.  No recent skin or hair changes.,Neuropsychiatric:  Denies depression, anxiety, tearfulness, or suicidal thought.,PHYSICAL EXAMINATION:,VITAL SIGNS:  Height:  62 inches.  Weight:  134 pounds.  Blood pressure:  116/74.  Pulse:  60.  Respirations:  12.  Age 59.,HEENT:  Head is normocephalic.  Eyes:  EOMs intact.  PERRLA.  Conjunctiva clear.  Fundi:  Discs flat, cups normal.  No AV nicking, hemorrhage or exudate.  Ears:  TMs intact.  Mouth:  No lesion.  Throat:  No inflammation.  She fell last winter on the ice and really cracked her head and has had some problems with headaches since then and she has not returned to her job which was very stressful and hard on her.  She wears glasses.,Neck:  Full range of motion.  No lymphadenopathy or thyromegaly.,Chest:  Clear to auscultation and percussion.,Heart:  Normal sinus rhythm, no murmur.,Integumentary:  Breasts are without masses, tenderness, nipple retraction, or discharge.  Reviewed self-breast examination.  No axillary nodes are palpable.,Abdomen:  Soft.  Liver, spleen, and kidneys are not palpable.  No masses felt, nontender.  Femoral pulses strong and equal.,Back:  No CVA or spinal tenderness.  No deformity noted.,Pelvic:  BUS negative.  Vaginal mucosa atrophic.  Cervix and uterus are absent.  No Pap was taken.  No adnexal masses.,Rectal:  Good sphincter tone.  No masses.  Stool guaiac negative.,Extremities:  No edema.  Pulses strong and equal.  Reflexes are intact.  Romberg and Babinski are negative.  She is oriented x 3.  Gait is normal.,ASSESSMENT:,  Middle-aged woman, status post hysterectomy, recent urinary tract infection.,PLAN:,  We will evaluate the adequacy of the therapy for her urinary tract infection with the urinalysis and culture.  I recommended mammogram and screening, hemoccult x 3, DEXA scan and screening, and she is fasting today.  We will screen with chem-12, lipid profile, and CBC because of her advancing age and notify of those results, as soon as they are available.  Continue same meds.  Recheck annually unless she has problems sooner.\n",
            "--------------------------------------------\n",
            "8  Ophthalmology : 83\n",
            "Transcription:PREOPERATIVE DIAGNOSIS: , Vitreous hemorrhage and retinal detachment, right eye.,POSTOPERATIVE DIAGNOSIS:,  Vitreous hemorrhage and retinal detachment, right eye.,NAME OF PROCEDURE: , Combined closed vitrectomy with membrane peeling, fluid-air exchange, and endolaser, right eye.,ANESTHESIA: , Local with standby.,PROCEDURE:  ,The patient was brought to the operating room, and an equal mixture of Marcaine 0.5% and lidocaine 2% was injected in a retrobulbar fashion.  As soon as satisfactory anesthesia and akinesia had been achieved, the patient was prepped and draped in the usual manner for sterile ophthalmic surgery.  A wire lid speculum was inserted.  Three modified sclerotomies were selected at 9, 10, and 1 o'clock.  At the 9 o'clock position, the Accurus infusion line was put in place and tied with a preplaced #7-0 Vicryl suture.  The two superior sites at 10 and 1 were opened up where the operating microscope with the optical illuminating system was brought into position, and closed vitrectomy was begun.  Initially formed core vitrectomy was performed and formed anterior vitreous was removed.  After this was completed, attention was placed in the posterior segment.  Several broad areas of vitreoretinal traction were noted over the posterior pole out of the equator where the previously noted retinal tears were noted.  These were carefully lifted and dissected off the edges of the flap tears and trimmed to the ora serrata.  After all the vitreous had been removed and the membranes released, the retina was completely mobilized.  Total fluid-air exchange was carried out with complete settling of the retina.  Endolaser was applied around the margins of the retinal tears, and altogether several 100 applications were placed in the periphery.  Good reaction was achieved.  The eye was inspected with an indirect ophthalmoscope.  The retina was noted to be completely attached.  The instruments were removed from the eye.  The sclerotomy sites were closed with #7-0 Vicryl suture.  The infusion line was removed from the eye and tied with a #7-0 Vicryl suture.  The conjunctivae and Tenon's were closed with #6-0 plain gut suture.  A collagen shield soaked with Tobrex placed over the surface of the globe, and a pressure bandage was put in place.  The patient left the operating room in a good condition.\n",
            "--------------------------------------------\n",
            "9  Pain Management : 61\n",
            "Transcription:OPERATION:,\n",
            "--------------------------------------------\n",
            "10  Pediatrics - Neonatal : 70\n",
            "Transcription:SUBJECTIVE:,  Patient presents with Mom and Dad for her 5-year 3-month well-child check.  Family has not concerns stating patient has been doing well overall since last visit.  Taking in a well-balanced diet consisting of milk and dairy products, fruits, vegetables, proteins and grains with minimal junk food and snack food.  No behavioral concerns.  Gets along well with peers as well as adults.  Is excited to start kindergarten this upcoming school year.  Does attend daycare.  Normal voiding and stooling pattern.  No concerns with hearing or vision.  Sees the dentist regularly.  Growth and development:  Denver II normal passing all developmental milestones per age in areas of fine motor, gross motor, personal and social interaction and speech and language development.  See Denver II form in the chart.,ALLERGIES:,  None.,MEDICATIONS: , None.,FAMILY SOCIAL HISTORY:,  Unchanged since last checkup.  Lives at home with mother, father and sibling.  No smoking in the home.,REVIEW OF SYSTEMS:,  As per HPI; otherwise negative.,OBJECTIVE:,Vital Signs:  Weight 43 pounds.  Height 42-1/4 inches.  Temperature 97.7.  Blood pressure 90/64.,General:  Well-developed, well-nourished, cooperative, alert and interactive 5-year -3month-old white female in no acute distress.,HEENT:  Atraumatic, normocephalic.  Pupils equal, round and reactive.  Sclerae clear.  Red reflex present bilaterally.  Extraocular muscles intact.  TMs clear bilaterally.  Oropharynx:  Mucous membranes moist and pink.  Good dentition.,Neck:  Supple, no lymphadenopathy.,Chest:  Clear to auscultation bilaterally.  No wheeze or crackles.  Good air exchange.,Cardiovascular:  Regular rate and rhythm.  No murmur.  Good pulses bilaterally.,Abdomen:  Soft, nontender.  Nondistended.  Positive bowel sounds.  No masses or organomegaly.,GU:  Tanner I female genitalia.  Femoral pulses equal bilaterally.  No rash.,Extremities:  Full range of motion.  No cyanosis, clubbing or edema.,Back:  Straight.  No scoliosis.,Integument:  Warm, dry and pink without lesions.,Neurological:  Alert.  Good muscle tone and strength.  Cranial nerves II-XII grossly intact.  DTRs 2+/4+ bilaterally.,ASSESSMENT/PLAN:,1. Well 5-year 3-month-old white female.,2. Anticipatory guidance for growth and diet development and safety issues as well as immunizations.  Will receive MMR, DTaP and IPV today.  Discussed risks and benefits as well as possible side effects and symptomatic treatment.  Gave 5-year well-child check handout to mom.  Completed school pre-participation physical.  Copy in the chart.  Completed vision and hearing screening.  Reviewed results with family.,3. Follow up in one year for next well-child check or as needed for acute care.\n",
            "--------------------------------------------\n",
            "11  Psychiatry / Psychology : 53\n",
            "Transcription:COMPREHENSIVE CLINICAL PSYCHOLOGICAL EVALUATION,CURRENT MEDICATIONS:,  Nexium 4 mg 4 times per day, Propanolol 10 mg 4 times a day, Spironolactone 100 mg 3 times per day, Lactulose 60 cc's 3 times a day.,GENERAL OBSERVATIONS:  ,Mr. Abc, a 54-year-old black married male who was referred for a Comprehensive Clinical Psychological Evaluation as part of a Disability Determination action.  Mr. Abc arrived five minutes late for his scheduled appointment.  He was accompanied to the office by his sister-in-law who drove him to the appt.  Mr. Abc currently does not receive Disability benefits.  This is the first time he has filed for Disability.  The Authorization form listed Mr. Abc's current complaints as \"cirrhosis of the liver and mental issues.\"  Mr. Abc was well groomed and wore casual attire.  He looked older than his stated age.  The whites of his eyes were very jaundiced.  His posture was slightly stooped and his gait was slow.  He was winded after walking up the stairs.  Psychomotor activity was retarded.  Mr. Abc was cooperative throughout the interview.  Although he appeared to be answering most questions to the best of his ability, he appeared to be minimizing his emotional distress.  ,PRESENT ILLNESS: , Most information was provided by Mr. Abc who appeared to be a fairly reliable source.  His information was supplemented by review of his medical records.  Mr. Abc has applied for Federal Disability benefits believing that he qualifies based on his cirrhosis of the liver and his cognitive dysfunction.  Mr. Abc was diagnosed with cirrhosis in 1991.  His condition has worsened to the point that he is experiencing liver failure and is awaiting a liver transplant.  He stated that his main symptom is extreme fatigue.  He has no energy and is unable to engage in many activities.  Over the past year he was admitted to the hospital four times for confusion and bizarre behavior.  He stated that his sister-in-law and his wife told him that he had become violent and he fought with the Sherriff who was trying to take him to the hospital.  He has no memory of this.  Mr. Abc stated that he was hospitalized one time.  Actually he had begun having problems with confusion in July of 2004 and he has been treated four times since that time.  According to his medical records, he was found wandering outside of his home.  He was apparently delusional believing that a tree branch was a doorknob.  Mr. Abc also suffers from edema and swelling in his legs and his feet.  Mr. Abc attempted to return to work and found that he was unable to do his job due to the necessity of walking one-quarter mile from the front to the back of the plant.  He was unable to walk very far without becoming fatigued.  He had instances where he had passed out after becoming faint.  He had trouble at work sitting for very long because his feet swelled.  He was unable to lift the required 10 pounds of medication boxes.  When he found himself unable to do his regular job, he tried another job at the same plant but was unable to do that job.  He also became confused easily at work.  His doctor advised him to quit and then he did so in March of this year.  In addition to his cognitive symptoms, Mr. Abc has had some disturbance in mood as well.  He related that he feels very sad since he lost his job.  A lot of his self-esteem came from working.  He worries about financial problems.  His sleep has been disturbed.  He sleeps four to five hours a night with trouble falling asleep and frequent awakening in the middle of the night.  His appetite is fair.  ,PERSONAL, FAMILY AND SOCIAL HISTORY:,  Mr. Abc completed the 11th grade. He went on to get his GED in 1971.  He stated that he has never failed a grade and he has no history of a learning disability.  He received no special education services.  His grades were Bs and Cs. He stated that he was suspended from school one time for fighting but got along well in general. Mr. Abc is currently unemployed.  His last job was at Baxter Health Care where he worked for four years.  It was his longest place of employment.  He quit in March of 2005 because of fatigue and inability to perform the necessary job duties.  He denies that he was ever fired from a job and he reported good work relationships.  Mr. Abc has been married for two years. He has no prior marriages.  He has one daughter age 13.  He currently lives with his wife. Has been at his current address for four years.  ,HISTORY OF OTHER PERTINENT MEDICAL EVENTS: , Mr. Abc has cirrhosis of the liver, hepatitis C, hepatic encephalopathy, and gastroesophageal reflux disease, and hypertension. Surgeries include a cardiac catheterization in 2001, a liver biopsy in 2003.  Over the past year he has been hospitalized four times due to confusion and bizarre behaviors stemming from his liver failure.  ,DAILY ACTIVITIES AND FUNCTIONING:  ,Mr. Abc stated that he tries to do things but he has been severely restricted due to his extreme fatigue.  He enjoys reading and does it regularly.  He tries to help his wife with the household chores as he can.  He has washed dishes, cooked, mopped, dusted, vacuumed and has done laundry occasionally over the past month but not as much as he used to.  He stated that he used to mow the yard and do yard work but he can no longer do it because of his extreme fatigue.  He has given up driving all together and he no longer goes out alone.  He spends most days at home.  He enjoys going to church and he prays daily.  ,MENTAL HEALTH HISTORY: , Mr. Abc has never been diagnosed or treated for a mental health disorder.  He denied any history of mental health problems in his family.  He stated that he was evaluated one time earlier this year by a psychiatrist to determine his suitability for a liver transplant.  He was approved and he is now on the waiting list to receive a liver.  ,SUBSTANCE USE HISTORY:  ,Mr. Abc has a history of substance use beginning in his teenage years.  He has used alcohol, marijuana and cocaine.  He stated that he only used the marijuana and cocaine a few times when he was young but he continued using alcohol until recently.  His alcohol use became problematic and he was arrested for DWI three times.  He attended AA and the DART program.  Mr. Abc stated that he has been clean for eight years and five months.\n",
            "--------------------------------------------\n",
            "12  SOAP / Chart / Progress Notes : 166\n",
            "Transcription:HISTORY OF PRESENT ILLNESS:,  Ms. Connor is a 50-year-old female who returns to clinic for a wound check.  The patient underwent an APR secondary to refractory ulcerative colitis.  Subsequently, she developed a wound infection, which has since healed.  On our most recent visit to our clinic, she has her perineal stitches removed and presents today for followup of her perineal wound.  She describes no drainage or erythema from her bottom.  She is having good ostomy output.  She does not describe any fevers, chills, nausea, or vomiting.  The patient does describe some intermittent pain beneath the upper portion of the incision as well as in the right lower quadrant below her ostomy.  She has been taking Percocet for this pain and it does work.  She has since run out has been trying extra strength Tylenol, which will occasionally help this intermittent pain.  She is requesting additional pain medications for this occasional abdominal pain, which she still experiences.,PHYSICAL EXAMINATION: , Temperature 95.8, pulse 68, blood pressure 132/73, and weight 159 pounds.  This is a pleasant female in no acute distress.  The patient's abdomen is soft, nontender, nondistended with a well-healed midline scar.  There is an ileostomy in the right hemiabdomen, which is pink, patent, productive, and protuberant.  There are no signs of masses or hernias over the patient's abdomen.,ASSESSMENT AND PLAN: , This is a pleasant 50-year-old female who has undergone an APR secondary to refractory ulcerative colitis.  Overall, her quality of life has significantly improved since she had her APR.  She is functioning well with her ileostomy.  She did have concerns or questions about her diet and we discussed the BRAT diet, which consisted of foods that would slow down the digestive tract such as bananas, rice, toast, cheese, and peanut butter.  I discussed the need to monitor her ileostomy output and preferential amount of daily output is 2 liters or less.  I have counseled her on refraining from soft drinks and fruit drinks.  I have also discussed with her that this diet is moreover a trial and error and that she may try certain foods that did not agree with her ileostomy, however others may and that this is something she will just have to perform trials with over the next several months until she finds what foods that she can and cannot eat with her ileostomy.  She also had questions about her occasional abdominal pain.  I told her that this was probably continue to improve as months went by and I gave her a refill of her Percocet for the continued occasional pain.  I told her that this would the last time I would refill the Percocet and if she has continued pain after she finishes this bottle then she would need to start ibuprofen or Tylenol if she had continued pain.  The patient then brought up some right hand and arm numbness, which has been there postsurgically and was thought to be from positioning during surgery.  This is all primarily gone away except for a little bit of numbness at the tip of the third digit as well as some occasional forearm muscle cramping.  I told her that I felt that this would continue to improve as it has done over the past two months since her surgery.  I told her to continue doing hand exercises as she has been doing and this seems to be working for her.  Overall, I think she has healed from her surgery and is doing very well.  Again, her quality of life is significantly improved.  She is happy with her performance.  We will see her back in six months just for a general routine checkup and see how she is doing at that time.\n",
            "--------------------------------------------\n",
            "13  Urology : 156\n",
            "Transcription:INDICATION:,  Prostate Cancer.,TECHNIQUE:,  3.5 hours following the intravenous administration of 26.5 mCi of Technetium 99m MDP, the skeleton was imaged in the anterior and posterior projections.,FINDINGS:,  There is a focus of abnormal increased tracer activity overlying the right parietal region of the skull.  The uptake in the remainder of the skeleton is within normal limits.  The kidneys image normally.  There is increased activity in the urinary bladder suggesting possible urinary retention.,CONCLUSION:,1.  Focus of abnormal increased tracer activity overlying the right parietal region of the skull.  CT scanning of magnetic resonance imaging of the skull and brain could be done for further assessment if it is clinically indicated.,2.  There is probably some degree of urinary retention.,\n",
            "--------------------------------------------\n"
          ],
          "name": "stdout"
        }
      ]
    },
    {
      "cell_type": "code",
      "metadata": {
        "colab": {
          "base_uri": "https://localhost:8080/"
        },
        "id": "6qnt95a8-S44",
        "outputId": "e1fa20e6-59ca-4a7a-d329-fcbe9f5437b4"
      },
      "source": [
        "data = filtered_data_categories[['transcription', 'medical_specialty']]\n",
        "data = data.drop(data[data['transcription'].isna()].index)\n",
        "data.shape"
      ],
      "execution_count": null,
      "outputs": [
        {
          "output_type": "execute_result",
          "data": {
            "text/plain": [
              "(1288, 2)"
            ]
          },
          "metadata": {
            "tags": []
          },
          "execution_count": 11
        }
      ]
    },
    {
      "cell_type": "markdown",
      "metadata": {
        "id": "yyhPY_EYB_6B"
      },
      "source": [
        "CLEANING TEXT"
      ]
    },
    {
      "cell_type": "code",
      "metadata": {
        "colab": {
          "base_uri": "https://localhost:8080/"
        },
        "id": "az0sXWPR-iP0",
        "outputId": "8cf3b68f-6e65-4842-f984-1d0fe10fb60b"
      },
      "source": [
        "##printing sample transcritpion\n",
        "\n",
        "print('1: '+data.iloc[5]['medical_specialty']+\"  \"+data.iloc[5]['transcription']+'\\n')\n",
        "print('2: '+data.iloc[50]['medical_specialty']+\"  \"+data.iloc[50]['transcription']+'\\n')\n",
        "print('3: '+data.iloc[500]['medical_specialty']+\"  \"+data.iloc[500]['transcription']+'\\n')\n"
      ],
      "execution_count": null,
      "outputs": [
        {
          "output_type": "stream",
          "text": [
            "1:  Urology  DIAGNOSIS:,  Desires vasectomy.,NAME OF OPERATION: , Vasectomy.,ANESTHESIA:,  General.,HISTORY: , Patient, 37, desires a vasectomy.,PROCEDURE: , Through a midline scrotal incision, the right vas was identified and separated from the surrounding tissues, clamped, transected, and tied off with a 4-0 chromic.  No bleeding was identified.,Through the same incision the left side was identified, transected, tied off, and dropped back into the wound.  Again no bleeding was noted.,The wound was closed with 4-0 Vicryl times two.  He tolerated the procedure well.  A sterile dressing was applied.  He was awakened and transferred to the recovery room in stable condition.\n",
            "\n",
            "2:  Urology  XYZ, M.D. ,Suite 123, ABC Avenue ,City, STATE 12345 ,RE:  XXXX, XXXX ,MR#:  0000000,Dear Dr. XYZ: ,XXXX was seen in followup in the Pediatric Urology Clinic.  I appreciate you speaking with me while he was in clinic.  He continues to have abdominal pain, and he had a diuretic renal scan, which indicates no evidence of obstruction and good differential function bilaterally. ,When I examined him, he seems to indicate that his pain is essentially in the lower abdomen in the suprapubic region; however, on actual physical examination, he seems to complain of pain through his entire right side.  His parents have brought up the question of whether this could be gastrointestinal in origin and that is certainly an appropriate consideration.  They also feel that since he has been on Detrol, his pain levels have been somewhat worse, and so, I have given them the option of stopping the Detrol initially.  I think he should stay on MiraLax for management of his bowels.  I would also suggest that he be referred to Pediatric Gastroenterology for evaluation.  If they do not find any abnormalities from a gastrointestinal perspective, then the next step would be to endoscope his bladder and then make sure that he does not have any evidence of bladder anatomic abnormalities that is leading to this pain. ,Thank you for following XXXX along with us in Pediatric Urology Clinic.  If you have any questions, please feel free to contact me. ,Sincerely yours,\n",
            "\n",
            "3:  Pain Management  CERVICAL FACET JOINT INJECTION WITH CONTRAST.,PREPROCEDURE PREPARATION:,  After being explained the risks and benefits of the procedure, the patient signed the standard informed consent form. the patient was placed in the prone position and standard ASA monitors applied.  Intravenous access was established and IV sedation was used.  For further details of IV sedation and infusion, please refer to anesthesia notes.  Fluoroscopy was used to identify the appropriate anatomy and symptomatic facet joints.  The skin was prepped and draped in a sterile fashion and sterile technique was maintained throughout the procedure.,PROCEDURE DETAILS:,  The patient was laid supine.  Appropriate view of facet joints was achieved by placing pillow below the shoulder and turning the head.  The neck was aseptically prepared.  1% lidocaine was used for local infiltration and subsequently a 25-gauge spinal needle was passed down to the C4-5 facet joint under fluoroscopic control.  Positioning was checked and 0.2 mL of dye was injected.  Acceptable dye pattern was seen.  Subsequent 1 mL of a mixture of 0.5 mL of 1% lidocaine and 0.5 mL of Celestone was injected after aspiration and the patient was monitored.  Needle was removed and same procedure carried out on the other side.  Postprocedure, no complications were noted.\n",
            "\n"
          ],
          "name": "stdout"
        }
      ]
    },
    {
      "cell_type": "code",
      "metadata": {
        "id": "0jrLh-kNpC4r"
      },
      "source": [
        ""
      ],
      "execution_count": null,
      "outputs": []
    },
    {
      "cell_type": "code",
      "metadata": {
        "colab": {
          "base_uri": "https://localhost:8080/"
        },
        "id": "kVIleo2sKowd",
        "outputId": "23271c31-19a6-43a6-9eb8-98b3afa9d0b6"
      },
      "source": [
        "from nltk.corpus import stopwords\n",
        "import nltk\n",
        "nltk.download(\"stopwords\")"
      ],
      "execution_count": null,
      "outputs": [
        {
          "output_type": "stream",
          "text": [
            "[nltk_data] Downloading package stopwords to /root/nltk_data...\n",
            "[nltk_data]   Unzipping corpora/stopwords.zip.\n"
          ],
          "name": "stdout"
        },
        {
          "output_type": "execute_result",
          "data": {
            "text/plain": [
              "True"
            ]
          },
          "metadata": {
            "tags": []
          },
          "execution_count": 13
        }
      ]
    },
    {
      "cell_type": "code",
      "metadata": {
        "colab": {
          "base_uri": "https://localhost:8080/"
        },
        "id": "j2kuZk2UMCr4",
        "outputId": "eb85bfdc-0963-42ef-8ee2-0b2f90b9cd52"
      },
      "source": [
        "nltk.download('punkt')\n",
        "nltk.download('wordnet')"
      ],
      "execution_count": null,
      "outputs": [
        {
          "output_type": "stream",
          "text": [
            "[nltk_data] Downloading package punkt to /root/nltk_data...\n",
            "[nltk_data]   Unzipping tokenizers/punkt.zip.\n",
            "[nltk_data] Downloading package wordnet to /root/nltk_data...\n",
            "[nltk_data]   Unzipping corpora/wordnet.zip.\n"
          ],
          "name": "stdout"
        },
        {
          "output_type": "execute_result",
          "data": {
            "text/plain": [
              "True"
            ]
          },
          "metadata": {
            "tags": []
          },
          "execution_count": 14
        }
      ]
    },
    {
      "cell_type": "code",
      "metadata": {
        "colab": {
          "base_uri": "https://localhost:8080/"
        },
        "id": "oATU-iTLe8Kj",
        "outputId": "5c172adb-55ec-40c5-cde1-8bc9f784187f"
      },
      "source": [
        "get_sentence_word_count(data.iloc[500]['transcription'])"
      ],
      "execution_count": null,
      "outputs": [
        {
          "output_type": "execute_result",
          "data": {
            "text/plain": [
              "(1104, 35)"
            ]
          },
          "metadata": {
            "tags": []
          },
          "execution_count": 15
        }
      ]
    },
    {
      "cell_type": "code",
      "metadata": {
        "id": "kqOOjQVDB1sn"
      },
      "source": [
        "def clean_text(text ): \n",
        "    text = text.translate(str.maketrans('', '', string.punctuation))\n",
        "    #text1 = ''.join([w for w in text if not w.isdigit()]) \n",
        "    REPLACE_BY_SPACE_RE = re.compile('[/(){}\\[\\]\\|@,;]')\n",
        "    #BAD_SYMBOLS_RE = re.compile('[^0-9a-z #+_]')\n",
        "    \n",
        "    text2 = text.lower()\n",
        "    text2 = REPLACE_BY_SPACE_RE.sub('', text2) # replace REPLACE_BY_SPACE_RE symbols by space in text\n",
        "    #text2 = BAD_SYMBOLS_RE.sub('', text2)\n",
        "    return text2\n",
        "\n",
        "def lemmatize_text(text):\n",
        "    wordlist=[]\n",
        "    lemmatizer = WordNetLemmatizer() \n",
        "    sentences=sent_tokenize(text)\n",
        "    \n",
        "    for sentence in sentences:\n",
        "        words=word_tokenize(sentence)\n",
        "        for word in words:\n",
        "            wordlist.append(lemmatizer.lemmatize(word))\n",
        "\n",
        "    return ' '.join(wordlist)\n",
        "\n",
        "\n",
        "def stop_word(text):\n",
        "  stop_words = stopwords.words(\"english\")\n",
        "  text = ' '.join([word for word in text.split(' ') if word not in stop_words])\n",
        "  return text"
      ],
      "execution_count": null,
      "outputs": []
    },
    {
      "cell_type": "code",
      "metadata": {
        "id": "I7pInXfsH0VB"
      },
      "source": [
        "data['transcription'] = data['transcription'].apply(stop_word)\n",
        "data['transcription'] = data['transcription'].apply(lemmatize_text)\n",
        "data['transcription'] = data['transcription'].apply(clean_text)\n"
      ],
      "execution_count": null,
      "outputs": []
    },
    {
      "cell_type": "code",
      "metadata": {
        "colab": {
          "base_uri": "https://localhost:8080/"
        },
        "id": "VF8UQr5lH-Ju",
        "outputId": "d7ccbc93-5a2e-4f3d-b7a4-9cf03fe38d95"
      },
      "source": [
        "print('1: '+data.iloc[5]['medical_specialty']+\"  \"+data.iloc[5]['transcription']+'\\n')\n",
        "print('2: '+data.iloc[50]['medical_specialty']+\"  \"+data.iloc[50]['transcription']+'\\n')\n",
        "print('3: '+data.iloc[500]['medical_specialty']+\"  \"+data.iloc[500]['transcription']+'\\n')\n"
      ],
      "execution_count": null,
      "outputs": [
        {
          "output_type": "stream",
          "text": [
            "1:  Urology  diagnosis   desires vasectomy  name of operation   vasectomy  anesthesia   general  history   patient  37  desire vasectomy  procedure   through midline scrotal incision  right va identified separated surrounding tissue  clamped  transected  tied 40 chromic  no bleeding identified  through incision left side identified  transected  tied off  dropped back wound  again bleeding noted  the wound closed 40 vicryl time two  he tolerated procedure well  a sterile dressing applied  he awakened transferred recovery room stable condition \n",
            "\n",
            "2:  Urology  xyz  md   suite 123  abc avenue  city  state 12345  re  xxxx  xxxx  mr   0000000  dear dr xyz   xxxx seen followup pediatric urology clinic  i appreciate speaking clinic  he continues abdominal pain  diuretic renal scan  indicates evidence obstruction good differential function bilaterally   when i examined him  seems indicate pain essentially lower abdomen suprapubic region  however  actual physical examination  seems complain pain entire right side  his parent brought question whether could gastrointestinal origin certainly appropriate consideration  they also feel since detrol  pain level somewhat worse  so  i given option stopping detrol initially  i think stay miralax management bowel  i would also suggest referred pediatric gastroenterology evaluation  if find abnormality gastrointestinal perspective  next step would endoscope bladder make sure evidence bladder anatomic abnormality leading pain   thank following xxxx along u pediatric urology clinic  if question  please feel free contact me   sincerely yours \n",
            "\n",
            "3:  Pain Management  cervical facet joint injection with contrast  preprocedure preparation   after explained risk benefit procedure  patient signed standard informed consent form  patient placed prone position standard asa monitor applied  intravenous access established iv sedation used  for detail iv sedation infusion  please refer anesthesia note  fluoroscopy used identify appropriate anatomy symptomatic facet joint  the skin prepped draped sterile fashion sterile technique maintained throughout procedure  procedure details   the patient laid supine  appropriate view facet joint achieved placing pillow shoulder turning head  the neck aseptically prepared  1  lidocaine used local infiltration subsequently 25gauge spinal needle passed c45 facet joint fluoroscopic control  positioning checked 02 ml dye injected  acceptable dye pattern seen  subsequent 1 ml mixture 05 ml 1  lidocaine 05 ml celestone injected aspiration patient monitored  needle removed procedure carried side  postprocedure  complication noted \n",
            "\n"
          ],
          "name": "stdout"
        }
      ]
    },
    {
      "cell_type": "code",
      "metadata": {
        "colab": {
          "base_uri": "https://localhost:8080/"
        },
        "id": "ugBauhbQMUWd",
        "outputId": "35ef3af2-d74d-43ab-dd47-4ac68b535e7c"
      },
      "source": [
        "get_sentence_word_count(data.iloc[500]['transcription'])"
      ],
      "execution_count": null,
      "outputs": [
        {
          "output_type": "execute_result",
          "data": {
            "text/plain": [
              "(850, 30)"
            ]
          },
          "metadata": {
            "tags": []
          },
          "execution_count": 19
        }
      ]
    },
    {
      "cell_type": "code",
      "metadata": {
        "colab": {
          "base_uri": "https://localhost:8080/"
        },
        "id": "QOV1PglFo1kd",
        "outputId": "3e92256a-1a21-45bd-92f1-4ae478fa597e"
      },
      "source": [
        "\n",
        "vectorizer = TfidfVectorizer(analyzer='word', stop_words='english',ngram_range=(1,2), min_df= 0.05, max_df=0.80, use_idf=True, smooth_idf=True, max_features=500)\n",
        "tfIdfMat  = vectorizer.fit_transform(data['transcription'].tolist() )\n",
        "feature_names = sorted(vectorizer.get_feature_names())\n",
        "print(feature_names)\n"
      ],
      "execution_count": null,
      "outputs": [
        {
          "output_type": "stream",
          "text": [
            "['10', '100', '12', '15', '20', '25', '30', '40', '50', '60', 'abc', 'abdomen', 'abdomen soft', 'abdominal', 'able', 'abnormality', 'active', 'activity', 'acute', 'additional', 'adequate', 'admission', 'admitted', 'age', 'ago', 'air', 'alcohol', 'alert', 'allergies', 'anesthesia', 'anesthesia general', 'anesthetic', 'anterior', 'antibiotic', 'appeared', 'appears', 'applied', 'appropriate', 'approximately', 'area', 'arm', 'artery', 'aspect', 'assessment', 'attention', 'auscultation', 'benefit', 'better', 'bid', 'bilateral', 'bilaterally', 'biopsy', 'bladder', 'blade', 'bleeding', 'blood', 'blood loss', 'blood pressure', 'body', 'bone', 'bovie', 'bowel', 'breast', 'breath', 'brought', 'cancer', 'carcinoma', 'cardiac', 'cardiovascular', 'care', 'carried', 'case', 'catheter', 'cavity', 'cc', 'cell', 'cervical', 'cervix', 'change', 'chest', 'chest pain', 'chief', 'chief complaint', 'child', 'chronic', 'clamp', 'clear', 'clear auscultation', 'clinic', 'closed', 'closure', 'cm', 'complaint', 'complete', 'completed', 'completely', 'complication', 'complications', 'condition', 'consent', 'consistent', 'continue', 'continued', 'control', 'cord', 'correct', 'cough', 'count', 'course', 'creatinine', 'ct', 'culture', 'current', 'currently', 'cut', 'daily', 'data', 'day', 'decreased', 'deep', 'delivery', 'denies', 'department', 'description', 'diabetes', 'diagnoses', 'diagnosis', 'diet', 'difficulty', 'direct', 'discharge', 'discharged', 'discussed', 'disease', 'disorder', 'dissected', 'dissection', 'distal', 'distress', 'dorsal', 'dose', 'dr', 'drain', 'draped', 'draped usual', 'dressing', 'drug', 'ear', 'edema', 'electrocautery', 'elevated', 'emergency', 'emergency room', 'end', 'endotracheal', 'episode', 'estimated', 'estimated blood', 'evaluation', 'evidence', 'exam', 'examination', 'extended', 'external', 'extremities', 'extremity', 'eye', 'failure', 'family', 'family history', 'fascia', 'fashion', 'feel', 'felt', 'female', 'fever', 'finding', 'findings', 'flap', 'fluid', 'foley', 'follow', 'followed', 'following', 'followup', 'free', 'general', 'general endotracheal', 'given', 'going', 'good', 'grasped', 'head', 'headache', 'heart', 'heent', 'hemoglobin', 'hemostasis', 'high', 'history', 'history patient', 'history present', 'home', 'hospital', 'hospital course', 'hour', 'hypertension', 'identified', 'illness', 'illness patient', 'impression', 'improved', 'incision', 'including', 'increased', 'indications', 'infection', 'inferior', 'informed', 'informed consent', 'initially', 'injected', 'injection', 'injury', 'inserted', 'intact', 'interrupted', 'irrigated', 'iv', 'kidney', 'known', 'laboratory', 'large', 'lateral', 'layer', 'left', 'leg', 'length', 'lesion', 'level', 'lidocaine', 'life', 'ligament', 'like', 'likely', 'liver', 'local', 'loss', 'low', 'lower', 'lung', 'lungs', 'lymph', 'make', 'male', 'mass', 'medial', 'medical', 'medical history', 'medication', 'medications', 'membrane', 'mg', 'middle', 'midline', 'mild', 'minimal', 'minute', 'ml', 'mm', 'month', 'morning', 'mother', 'mouth', 'mucosa', 'multiple', 'murmur', 'muscle', 'nasal', 'nausea', 'nausea vomiting', 'neck', 'need', 'needed', 'needle', 'negative', 'nerve', 'neurologic', 'night', 'node', 'nontender', 'normal', 'nose', 'note', 'noted', 'obstruction', 'obtained', 'office', 'open', 'operating', 'operating room', 'operation', 'operative', 'oral', 'pain', 'passed', 'past', 'past medical', 'pathology', 'patient brought', 'patient denies', 'patient placed', 'patient taken', 'patient tolerated', 'pelvic', 'pelvis', 'performed', 'physical', 'physical examination', 'place', 'placed', 'placed supine', 'placement', 'plan', 'po', 'point', 'portion', 'position', 'positive', 'possible', 'post', 'posterior', 'postoperative', 'postoperative diagnosis', 'pound', 'pregnancy', 'preoperative', 'preoperative diagnosis', 'prepped', 'prepped draped', 'present', 'present illness', 'presented', 'pressure', 'previous', 'primary', 'prior', 'prn', 'problem', 'procedure', 'procedure patient', 'procedure performed', 'proceed', 'process', 'prostate', 'pulmonary', 'pulse', 'quadrant', 'question', 'quite', 'rash', 'rate', 'rate rhythm', 'reason', 'received', 'recent', 'recently', 'recovery', 'recovery room', 'recurrent', 'region', 'regular', 'regular rate', 'removal', 'removed', 'renal', 'repair', 'report', 'reported', 'resection', 'respiratory', 'return', 'revealed', 'reveals', 'review', 'review systems', 'reviewed', 'rhythm', 'right', 'risk', 'room', 'round', 'running', 'saline', 'scan', 'scissors', 'second', 'secondary', 'seen', 'sent', 'severe', 'shortness', 'shortness breath', 'showed', 'sign', 'significant', 'signs', 'sinus', 'site', 'size', 'skin', 'slightly', 'small', 'social', 'social history', 'soft', 'solution', 'sound', 'space', 'specimen', 'spinal', 'sponge', 'stable', 'stable condition', 'started', 'state', 'stated', 'status', 'status post', 'sterile', 'sterile fashion', 'stitch', 'subcutaneous', 'subsequently', 'superior', 'supine', 'supine position', 'supple', 'surgery', 'surgical', 'suture', 'swelling', 'symptom', 'systems', 'table', 'taken', 'taken operating', 'taking', 'technique', 'temperature', 'tenderness', 'test', 'therapy', 'thought', 'time', 'tip', 'tissue', 'today', 'tolerated', 'tolerated procedure', 'total', 'transferred', 'treated', 'treatment', 'tube', 'tumor', 'turned', 'ultrasound', 'underwent', 'unit', 'unremarkable', 'upper', 'urinary', 'urine', 'use', 'used', 'using', 'usual', 'uterine', 'uterus', 'vaginal', 'vein', 'vicryl', 'vicryl suture', 'vision', 'visit', 'visualized', 'vital', 'vital signs', 'vomiting', 'wall', 'week', 'weight', 'went', 'white', 'work', 'wound', 'xray', 'xyz', 'year']\n"
          ],
          "name": "stdout"
        }
      ]
    },
    {
      "cell_type": "code",
      "metadata": {
        "colab": {
          "base_uri": "https://localhost:8080/"
        },
        "id": "ml3Hc3lqMFo0",
        "outputId": "f2dabc9a-6b65-4216-9898-6c6ac15b3e6d"
      },
      "source": [
        "len(feature_names)"
      ],
      "execution_count": null,
      "outputs": [
        {
          "output_type": "execute_result",
          "data": {
            "text/plain": [
              "500"
            ]
          },
          "metadata": {
            "tags": []
          },
          "execution_count": 21
        }
      ]
    },
    {
      "cell_type": "code",
      "metadata": {
        "id": "ed33Yn7pO0ts"
      },
      "source": [
        "vec = pd.DataFrame(tfIdfMat.todense(),columns=vectorizer.get_feature_names())"
      ],
      "execution_count": null,
      "outputs": []
    },
    {
      "cell_type": "code",
      "metadata": {
        "colab": {
          "base_uri": "https://localhost:8080/"
        },
        "id": "SSHshBztuLB8",
        "outputId": "48a2bec4-7e13-467d-c1be-bd3e778b60a2"
      },
      "source": [
        "vec.iloc[500]"
      ],
      "execution_count": null,
      "outputs": [
        {
          "output_type": "execute_result",
          "data": {
            "text/plain": [
              "10       0.0\n",
              "100      0.0\n",
              "12       0.0\n",
              "15       0.0\n",
              "20       0.0\n",
              "        ... \n",
              "work     0.0\n",
              "wound    0.0\n",
              "xray     0.0\n",
              "xyz      0.0\n",
              "year     0.0\n",
              "Name: 500, Length: 500, dtype: float64"
            ]
          },
          "metadata": {
            "tags": []
          },
          "execution_count": 23
        }
      ]
    },
    {
      "cell_type": "code",
      "metadata": {
        "id": "IecJ60lh2Oek"
      },
      "source": [
        "arr = vec.to_numpy()"
      ],
      "execution_count": null,
      "outputs": []
    },
    {
      "cell_type": "code",
      "metadata": {
        "id": "aY0L_NcM2OUV"
      },
      "source": [
        ""
      ],
      "execution_count": null,
      "outputs": []
    },
    {
      "cell_type": "code",
      "metadata": {
        "colab": {
          "base_uri": "https://localhost:8080/"
        },
        "id": "_HFavAut2OGs",
        "outputId": "145d3a99-7788-491e-c047-b2a848e65615"
      },
      "source": [
        "arr.shape"
      ],
      "execution_count": null,
      "outputs": [
        {
          "output_type": "execute_result",
          "data": {
            "text/plain": [
              "(1288, 500)"
            ]
          },
          "metadata": {
            "tags": []
          },
          "execution_count": 26
        }
      ]
    },
    {
      "cell_type": "code",
      "metadata": {
        "id": "At4wfET9uKsW"
      },
      "source": [
        "  # import gc\n",
        "  # gc.collect()\n",
        "  # tfIdfMatrix = tfIdfMat.todense()\n",
        "  # labels = data['medical_specialty'].tolist()\n",
        "  # tsne_results = TSNE(n_components=2,init='random',random_state=0, perplexity=40).fit_transform(tfIdfMatrix)\n",
        "  # plt.figure(figsize=(16,10))\n",
        "  # palette = sns.hls_palette(21, l=.6, s=.9)\n",
        "  # sns.scatterplot(\n",
        "  #     x=tsne_results[:,0], y=tsne_results[:,1],\n",
        "  #     hue=labels,\n",
        "  #     palette= palette,\n",
        "  #     legend=\"full\",\n",
        "  #     alpha=0.3\n",
        "  # )\n",
        "  # plt.show()"
      ],
      "execution_count": null,
      "outputs": []
    },
    {
      "cell_type": "code",
      "metadata": {
        "id": "O51uqptnyBId"
      },
      "source": [
        "from sklearn.decomposition import PCA\n",
        "pca = PCA(n_components=0.95)\n",
        "tfIdfMat_reduced = pca.fit_transform(tfIdfMat.toarray())\n",
        "labels = data['medical_specialty'].tolist()\n",
        "category_list = data.medical_specialty.unique()"
      ],
      "execution_count": null,
      "outputs": []
    },
    {
      "cell_type": "code",
      "metadata": {
        "colab": {
          "base_uri": "https://localhost:8080/"
        },
        "id": "SwbdgkcRyAzq",
        "outputId": "4de0b23c-20cc-4436-a6b5-eb5bdf1a5a27"
      },
      "source": [
        "category_list"
      ],
      "execution_count": null,
      "outputs": [
        {
          "output_type": "execute_result",
          "data": {
            "text/plain": [
              "array([' Urology', ' SOAP / Chart / Progress Notes',\n",
              "       ' Psychiatry / Psychology', ' Pediatrics - Neonatal',\n",
              "       ' Pain Management', ' Ophthalmology', ' Obstetrics / Gynecology',\n",
              "       ' Neurosurgery', ' Nephrology', ' Hematology - Oncology',\n",
              "       ' ENT - Otolaryngology', ' Emergency Room Reports',\n",
              "       ' Discharge Summary'], dtype=object)"
            ]
          },
          "metadata": {
            "tags": []
          },
          "execution_count": 29
        }
      ]
    },
    {
      "cell_type": "code",
      "metadata": {
        "id": "PKN6EPS60t2Y"
      },
      "source": [
        ""
      ],
      "execution_count": null,
      "outputs": []
    },
    {
      "cell_type": "code",
      "metadata": {
        "id": "qQi1jAGc0tp5"
      },
      "source": [
        ""
      ],
      "execution_count": null,
      "outputs": []
    },
    {
      "cell_type": "code",
      "metadata": {
        "id": "NOYwAMxO0te7"
      },
      "source": [
        ""
      ],
      "execution_count": null,
      "outputs": []
    },
    {
      "cell_type": "code",
      "metadata": {
        "id": "WY6TSob60tO2"
      },
      "source": [
        ""
      ],
      "execution_count": null,
      "outputs": []
    },
    {
      "cell_type": "markdown",
      "metadata": {
        "id": "W88awmax3Egz"
      },
      "source": [
        "Training"
      ]
    },
    {
      "cell_type": "code",
      "metadata": {
        "id": "3wviUcKFB0US"
      },
      "source": [
        "from sklearn.feature_extraction.text import TfidfVectorizer\n",
        "from  sklearn.decomposition import PCA\n",
        "from sklearn.linear_model import LogisticRegression\n",
        "from sklearn.model_selection import train_test_split\n",
        "\n",
        "from sklearn.metrics import confusion_matrix\n",
        "from sklearn.metrics import classification_report\n",
        "from sklearn.manifold import TSNE"
      ],
      "execution_count": null,
      "outputs": []
    },
    {
      "cell_type": "code",
      "metadata": {
        "id": "SuwaCONqqCPF"
      },
      "source": [
        "import gc\n",
        "gc.collect()\n",
        "pca = PCA(n_components=0.95)\n",
        "tfIdfMat_reduced = pca.fit_transform(tfIdfMat.toarray())\n",
        "labels = data['medical_specialty'].tolist()\n",
        "category_list = data.medical_specialty.unique()\n",
        "X_train, X_test, y_train, y_test = train_test_split(tfIdfMat_reduced, labels, stratify=labels,random_state=1)"
      ],
      "execution_count": null,
      "outputs": []
    },
    {
      "cell_type": "code",
      "metadata": {
        "colab": {
          "base_uri": "https://localhost:8080/"
        },
        "id": "vUqUtcVHqujp",
        "outputId": "221b2a4e-4c61-4e53-b8eb-ebf2a6816709"
      },
      "source": [
        "print(X_train.shape,X_test.shape)"
      ],
      "execution_count": null,
      "outputs": [
        {
          "output_type": "stream",
          "text": [
            "(966, 315) (322, 315)\n"
          ],
          "name": "stdout"
        }
      ]
    },
    {
      "cell_type": "code",
      "metadata": {
        "id": "3NOFePWVqJ8x"
      },
      "source": [
        "clf = LogisticRegression(penalty= 'elasticnet', solver= 'saga', l1_ratio=0.5, random_state=1).fit(X_train, y_train)\n",
        "y_test_pred= clf.predict(X_test)"
      ],
      "execution_count": null,
      "outputs": []
    },
    {
      "cell_type": "code",
      "metadata": {
        "id": "ep-oTd73qCL0"
      },
      "source": [
        "labels = category_list\n",
        "cm = confusion_matrix(y_test, y_test_pred, labels)"
      ],
      "execution_count": null,
      "outputs": []
    },
    {
      "cell_type": "code",
      "metadata": {
        "colab": {
          "base_uri": "https://localhost:8080/",
          "height": 696
        },
        "id": "itSjjJLsqYqf",
        "outputId": "ef138d84-5e06-4c00-a494-67ebf5c292ae"
      },
      "source": [
        "fig = plt.figure(figsize=(10,10))\n",
        "ax= fig.add_subplot(1,1,1)\n",
        "sns.heatmap(cm, annot=True, cmap=\"Greens\",ax = ax,fmt='g'); #annot=True to annotate cells\n",
        "\n",
        "# labels, title and ticks\n",
        "ax.set_xlabel('Predicted labels');ax.set_ylabel('True labels'); \n",
        "ax.set_title('Confusion Matrix'); \n",
        "ax.xaxis.set_ticklabels(labels); ax.yaxis.set_ticklabels(labels);\n",
        "plt.setp(ax.get_yticklabels(), rotation=30, horizontalalignment='right')\n",
        "plt.setp(ax.get_xticklabels(), rotation=30, horizontalalignment='right')     \n",
        "plt.show()"
      ],
      "execution_count": null,
      "outputs": [
        {
          "output_type": "display_data",
          "data": {
            "image/png": "[encoded data removed]",
            "text/plain": [
              "<Figure size 720x720 with 2 Axes>"
            ]
          },
          "metadata": {
            "tags": [],
            "needs_background": "light"
          }
        }
      ]
    },
    {
      "cell_type": "code",
      "metadata": {
        "colab": {
          "base_uri": "https://localhost:8080/"
        },
        "id": "PSMqh35VqCJw",
        "outputId": "4ad4de3f-73c7-41ff-fda7-cf9f1e4d1b8a"
      },
      "source": [
        "score = clf.score(X_test, y_test)\n",
        "print( score)"
      ],
      "execution_count": null,
      "outputs": [
        {
          "output_type": "stream",
          "text": [
            "0.6863354037267081\n"
          ],
          "name": "stdout"
        }
      ]
    },
    {
      "cell_type": "code",
      "metadata": {
        "colab": {
          "base_uri": "https://localhost:8080/",
          "height": 137
        },
        "id": "4eUjmriGqkWX",
        "outputId": "1209df84-fd5c-4119-aade-b2b383e2b326"
      },
      "source": [
        "classification_report(y_test, y_test_pred)"
      ],
      "execution_count": null,
      "outputs": [
        {
          "output_type": "execute_result",
          "data": {
            "application/vnd.google.colaboratory.intrinsic+json": {
              "type": "string"
            },
            "text/plain": [
              "'                                precision    recall  f1-score   support\\n\\n             Discharge Summary       0.67      0.96      0.79        27\\n          ENT - Otolaryngology       0.90      0.75      0.82        24\\n        Emergency Room Reports       0.52      0.58      0.55        19\\n         Hematology - Oncology       0.50      0.35      0.41        23\\n                    Nephrology       0.79      0.55      0.65        20\\n                  Neurosurgery       0.79      0.83      0.81        23\\n       Obstetrics / Gynecology       0.79      0.79      0.79        39\\n                 Ophthalmology       0.95      0.95      0.95        21\\n               Pain Management       0.71      0.67      0.69        15\\n         Pediatrics - Neonatal       0.67      0.24      0.35        17\\n       Psychiatry / Psychology       0.80      0.62      0.70        13\\n SOAP / Chart / Progress Notes       0.51      0.67      0.58        42\\n                       Urology       0.63      0.69      0.66        39\\n\\n                      accuracy                           0.69       322\\n                     macro avg       0.71      0.66      0.67       322\\n                  weighted avg       0.70      0.69      0.68       322\\n'"
            ]
          },
          "metadata": {
            "tags": []
          },
          "execution_count": 41
        }
      ]
    },
    {
      "cell_type": "code",
      "metadata": {
        "id": "IP5AJVGaqkS0"
      },
      "source": [
        ""
      ],
      "execution_count": null,
      "outputs": []
    },
    {
      "cell_type": "code",
      "metadata": {
        "id": "IrvSa33qqkQD"
      },
      "source": [
        "import pickle\n",
        "# save the model to disk\n",
        "filename = 'finalized_model.sav'\n",
        "pickle.dump(clf, open(filename, 'wb'))"
      ],
      "execution_count": null,
      "outputs": []
    },
    {
      "cell_type": "code",
      "metadata": {
        "colab": {
          "base_uri": "https://localhost:8080/"
        },
        "id": "T5hg7owA7-HS",
        "outputId": "cb7db1c8-49ba-4faa-ab01-57cd586f1d2f"
      },
      "source": [
        "import pickle\n",
        "# load the model from disk\n",
        "filename = 'finalized_model.sav'\n",
        "loaded_model = pickle.load(open(filename, 'rb'))\n",
        "result = loaded_model.score(X_test, y_test)\n",
        "print(result)"
      ],
      "execution_count": null,
      "outputs": [
        {
          "output_type": "stream",
          "text": [
            "0.6863354037267081\n"
          ],
          "name": "stdout"
        }
      ]
    },
    {
      "cell_type": "code",
      "metadata": {
        "id": "3c0r53UEqkH4"
      },
      "source": [
        "PRED=loaded_model.predict(X_test)"
      ],
      "execution_count": null,
      "outputs": []
    },
    {
      "cell_type": "code",
      "metadata": {
        "colab": {
          "base_uri": "https://localhost:8080/"
        },
        "id": "kr5H-pn4yFIf",
        "outputId": "bb0c50d8-d149-4bcc-e2ba-96b0a813ecc6"
      },
      "source": [
        "##RESULT:\n",
        "n=227\n",
        "print(\"Actual Medical speciality: \",y_test[n])\n",
        "print(\"Predicted Medical speciality: \",PRED[n])"
      ],
      "execution_count": null,
      "outputs": [
        {
          "output_type": "stream",
          "text": [
            "Actual Medical speciality:   Pediatrics - Neonatal\n",
            "Predicted Medical speciality:   SOAP / Chart / Progress Notes\n"
          ],
          "name": "stdout"
        }
      ]
    },
    {
      "cell_type": "code",
      "metadata": {
        "id": "xkp82E0IqCG0"
      },
      "source": [
        ""
      ],
      "execution_count": null,
      "outputs": []
    },
    {
      "cell_type": "code",
      "metadata": {
        "id": "kYssVEQcqCEt"
      },
      "source": [
        ""
      ],
      "execution_count": null,
      "outputs": []
    },
    {
      "cell_type": "code",
      "metadata": {
        "id": "JgsyKncsSaYZ"
      },
      "source": [
        ""
      ],
      "execution_count": null,
      "outputs": []
    },
    {
      "cell_type": "code",
      "metadata": {
        "id": "f-M1jLmSSaU-"
      },
      "source": [
        ""
      ],
      "execution_count": null,
      "outputs": []
    },
    {
      "cell_type": "code",
      "metadata": {
        "id": "SMvkfW2cSaSH"
      },
      "source": [
        ""
      ],
      "execution_count": null,
      "outputs": []
    },
    {
      "cell_type": "code",
      "metadata": {
        "id": "T4Mo7t4MSaPJ"
      },
      "source": [
        ""
      ],
      "execution_count": null,
      "outputs": []
    },
    {
      "cell_type": "code",
      "metadata": {
        "id": "Dha6vl6xSaBo"
      },
      "source": [
        ""
      ],
      "execution_count": null,
      "outputs": []
    },
    {
      "cell_type": "code",
      "metadata": {
        "id": "HZDsYE-eqCBv",
        "colab": {
          "base_uri": "https://localhost:8080/"
        },
        "outputId": "6fb56a3a-43aa-469a-cc1c-f4331a9d632d"
      },
      "source": [
        "import pandas as pd\n",
        "import numpy as np\n",
        "import matplotlib.pyplot as plt\n",
        "import seaborn as sns\n",
        "import string\n",
        "import re\n",
        "from sklearn.feature_extraction.text import TfidfVectorizer\n",
        "\n",
        "from nltk.tokenize import word_tokenize\n",
        "from nltk.tokenize import sent_tokenize\n",
        "from nltk.stem import WordNetLemmatizer \n",
        "\n",
        "from nltk.corpus import stopwords\n",
        "import nltk\n",
        "nltk.download(\"stopwords\")\n",
        "nltk.download('punkt')\n",
        "nltk.download('wordnet')\n",
        "\n",
        "from sklearn.feature_extraction.text import TfidfVectorizer\n",
        "from  sklearn.decomposition import PCA\n",
        "from sklearn.linear_model import LogisticRegression\n",
        "from sklearn.model_selection import train_test_split\n",
        "\n",
        "from sklearn.metrics import confusion_matrix\n",
        "from sklearn.metrics import classification_report\n",
        "from sklearn.manifold import TSNE\n",
        "from io import StringIO\n",
        "\n",
        "\n",
        "StringData = StringIO(\"\"\"transcription\n",
        "    CHIEF COMPLAINT,:  This 32 year-old female presents today for an initial obstetrical examination.  Home pregnancy test was positive.,The patient indicates fetal activity is not yet detected (due to early stage of pregnancy).  LMP:  02/13/2002 EDD:  11/20/2002 GW:  8.0 weeks.  Patient has been trying to conceive for 6 months.,Menses:  Onset:  12 years old.  Interval:  24-26 days.  Duration:  4-6 days.  Flow:  moderate.  Complications:  PMS - mild.,Last Pap smear taken on 11/2/2001.  Contraception:  Patient is currently using none.,ALLERGIES:,  Patient admits allergies to venom - bee/wasp resulting in difficulty breathing, severe rash, pet dander resulting in nasal stuffiness.  Medication History:  None.,PAST MEDICAL HISTORY:,  Past medical history is unremarkable.  Past Surgical History:  Patient admits past surgical history of tonsillectomy in 1980.  Social History:  Patient admits alcohol use Drinking is described as social, Patient denies illegal drug use, Patient denies STD history, Patient denies tobacco use.,FAMILY HISTORY:,  Patient admits a family history of cancer of breast associated with mother.,REVIEW OF SYSTEMS:,Neurological: (+) unremarkable.,Respiratory: (+) difficulty sleeping, (-) breathing difficulties, respiratory symptoms.,Psychiatric: (+) anxious feelings.,Cardiovascular: (-) cardiovascular problems or chest symptoms.,Genitourinary: (-) decreased libido, (-) vaginal dryness, (-) vaginal bleeding.  Diet is high in empty calories, high in fats and low in fiber.,PHYSICAL EXAM:,  BP Standing:  126/84 Resp:  22 HR:  78 Temp:  99.1 Height:  5 ft.  6 in.  Weight:  132 lbs.,Pre-Gravid Weight is 125 lbs.,Patient is a 32 year old female who appears pleasant, in no apparent distress, her given age, well developed,,well nourished and with good attention to hygiene and body habitus.,Oriented to person, place and time.,Mood and affect normal and appropriate to situation.,HEENT:Head & Face:  Examination of head and face is unremarkable.,Skin:  No skin rash, subcutaneous nodules, lesions or ulcers observed.  No edema observed.,Cardiovascular:  Heart auscultation reveals no murmurs, gallop, rubs or clicks.,Respiratory:  Lungs CTA.,Breast:  Chest (Breasts):  Breast inspection and palpation shows no abnormal findings.,Abdomen:  Abdomen soft, nontender, bowel sounds present x 4 without palpable masses.,Genitourinary:  External genitalia are normal in appearance.  Examination of urethra shows no abnormalities.  Examination of vaginal vault reveals no abnormalities.  Cervix shows no pathology.  Uterine portion of bimanual exam reveals contour normal, shape regular and size normal.  Adnexa and parametria show no masses, tenderness, organomegaly or nodularity.  Examination of anus and perineum shows no abnormalities.,TEST RESULTS: , Urine pregnancy test:  positive. CBC results within normal limits.  Blood type:  O positive.  Rh:  positive.  FBS:  88 mg/dl.,IMPRESSION:,  Pregnancy, normal first.  Maternal nutrition is inadequate for protein and poor and high in empty calories and junk foods and sweets.,PLAN:,  Pap smear submitted for manual screening.  Ordered CBC.  Ordered blood type.  Ordered hemoglobin.  Ordered Rh.,Ordered fasting blood glucose.,COUNSELING:,  Counseling was given regarding adverse effects of alcohol, physical activity and sexual activity.  Educational supplies dispensed to patient.,Return to clinic in 4 week (s).,PRESCRIPTIONS:,  NatalCare Plus Dosage:  Prenatal Multivitamins tablet Sig:  QD Dispense:  60 Refills:  4 Allow Generic:  Yes,PATIENT INSTRUCTIONS:,  Patient received written information regarding pre-eclampsia and eclampsia.  Patient was instructed to restrict activity.  Patient instructed to limit caffeine use.  Patient instructed to limit salt intake.\n",
        "    \"\"\")\n",
        "\n",
        "df = pd.read_csv(StringData, sep =\";\")\n",
        "\n",
        "print(\"Transcript\",df.iloc[0]['transcription'])\n",
        "\n",
        "def clean_text(text ): \n",
        "    text = text.translate(str.maketrans('', '', string.punctuation))\n",
        "    #text1 = ''.join([w for w in text if not w.isdigit()]) \n",
        "    REPLACE_BY_SPACE_RE = re.compile('[/(){}\\[\\]\\|@,;]')\n",
        "    #BAD_SYMBOLS_RE = re.compile('[^0-9a-z #+_]')\n",
        "    \n",
        "    text2 = text.lower()\n",
        "    text2 = REPLACE_BY_SPACE_RE.sub('', text2) # replace REPLACE_BY_SPACE_RE symbols by space in text\n",
        "    #text2 = BAD_SYMBOLS_RE.sub('', text2)\n",
        "    return text2\n",
        "\n",
        "def lemmatize_text(text):\n",
        "    wordlist=[]\n",
        "    lemmatizer = WordNetLemmatizer() \n",
        "    sentences=sent_tokenize(text)\n",
        "    \n",
        "    for sentence in sentences:\n",
        "        words=word_tokenize(sentence)\n",
        "        for word in words:\n",
        "            wordlist.append(lemmatizer.lemmatize(word))\n",
        "\n",
        "    return ' '.join(wordlist)\n",
        "\n",
        "\n",
        "def stop_word(text):\n",
        "  stop_words = stopwords.words(\"english\")\n",
        "  text = ' '.join([word for word in text.split(' ') if word not in stop_words])\n",
        "  return text\n",
        "\n",
        "df['transcription'] = df['transcription'].apply(stop_word)\n",
        "df['transcription'] = df['transcription'].apply(lemmatize_text)\n",
        "df['transcription'] = df['transcription'].apply(clean_text)\n",
        "\n",
        "vectorizer = TfidfVectorizer(analyzer='word', stop_words='english',ngram_range=(1,2),  use_idf=True, smooth_idf=True, max_features=113)\n",
        "tfIdfMat  = vectorizer.fit_transform(df['transcription'].tolist() )\n",
        "#feature_names = sorted(vectorizer.get_feature_names())\n",
        "\n",
        "#from sklearn.feature_extraction.text import CountVectorizer\n",
        "\n",
        "#vectorizer = CountVectorizer()\n",
        "#tfIdfMat = vectorizer.fit_transform(df['transcription'].tolist())\n",
        "\n",
        "# from sklearn.decomposition import PCA\n",
        "# pca = PCA()\n",
        "# tfIdfMat_reduced = pca.fit_transform(tfIdfMat.toarray())\n",
        "\n",
        "# import gc\n",
        "# gc.collect()\n",
        "# pca = PCA(n_components=0.95)\n",
        "# tfIdfMat_reduced = pca.fit_transform(tfIdfMat.toarray())\n",
        "\n",
        "import pickle\n",
        "# load the model from disk\n",
        "filename = 'finalized_model.sav'\n",
        "loaded_model = pickle.load(open(filename, 'rb'))\n",
        "#result = loaded_model.score(X_test, y_test)\n",
        "#print(result)\n",
        "\n",
        "PRED=loaded_model.predict(tfIdfMat)\n",
        "print(\"Predicted class:\", PRED)"
      ],
      "execution_count": null,
      "outputs": [
        {
          "output_type": "stream",
          "text": [
            "[nltk_data] Downloading package stopwords to /root/nltk_data...\n",
            "[nltk_data]   Package stopwords is already up-to-date!\n",
            "[nltk_data] Downloading package punkt to /root/nltk_data...\n",
            "[nltk_data]   Package punkt is already up-to-date!\n",
            "[nltk_data] Downloading package wordnet to /root/nltk_data...\n",
            "[nltk_data]   Package wordnet is already up-to-date!\n",
            "Transcript     CHIEF COMPLAINT,:  This 32 year-old female presents today for an initial obstetrical examination.  Home pregnancy test was positive.,The patient indicates fetal activity is not yet detected (due to early stage of pregnancy).  LMP:  02/13/2002 EDD:  11/20/2002 GW:  8.0 weeks.  Patient has been trying to conceive for 6 months.,Menses:  Onset:  12 years old.  Interval:  24-26 days.  Duration:  4-6 days.  Flow:  moderate.  Complications:  PMS - mild.,Last Pap smear taken on 11/2/2001.  Contraception:  Patient is currently using none.,ALLERGIES:,  Patient admits allergies to venom - bee/wasp resulting in difficulty breathing, severe rash, pet dander resulting in nasal stuffiness.  Medication History:  None.,PAST MEDICAL HISTORY:,  Past medical history is unremarkable.  Past Surgical History:  Patient admits past surgical history of tonsillectomy in 1980.  Social History:  Patient admits alcohol use Drinking is described as social, Patient denies illegal drug use, Patient denies STD history, Patient denies tobacco use.,FAMILY HISTORY:,  Patient admits a family history of cancer of breast associated with mother.,REVIEW OF SYSTEMS:,Neurological: (+) unremarkable.,Respiratory: (+) difficulty sleeping, (-) breathing difficulties, respiratory symptoms.,Psychiatric: (+) anxious feelings.,Cardiovascular: (-) cardiovascular problems or chest symptoms.,Genitourinary: (-) decreased libido, (-) vaginal dryness, (-) vaginal bleeding.  Diet is high in empty calories, high in fats and low in fiber.,PHYSICAL EXAM:,  BP Standing:  126/84 Resp:  22 HR:  78 Temp:  99.1 Height:  5 ft.  6 in.  Weight:  132 lbs.,Pre-Gravid Weight is 125 lbs.,Patient is a 32 year old female who appears pleasant, in no apparent distress, her given age, well developed,,well nourished and with good attention to hygiene and body habitus.,Oriented to person, place and time.,Mood and affect normal and appropriate to situation.,HEENT:Head & Face:  Examination of head and face is unremarkable.,Skin:  No skin rash, subcutaneous nodules, lesions or ulcers observed.  No edema observed.,Cardiovascular:  Heart auscultation reveals no murmurs, gallop, rubs or clicks.,Respiratory:  Lungs CTA.,Breast:  Chest (Breasts):  Breast inspection and palpation shows no abnormal findings.,Abdomen:  Abdomen soft, nontender, bowel sounds present x 4 without palpable masses.,Genitourinary:  External genitalia are normal in appearance.  Examination of urethra shows no abnormalities.  Examination of vaginal vault reveals no abnormalities.  Cervix shows no pathology.  Uterine portion of bimanual exam reveals contour normal, shape regular and size normal.  Adnexa and parametria show no masses, tenderness, organomegaly or nodularity.  Examination of anus and perineum shows no abnormalities.,TEST RESULTS: , Urine pregnancy test:  positive. CBC results within normal limits.  Blood type:  O positive.  Rh:  positive.  FBS:  88 mg/dl.,IMPRESSION:,  Pregnancy, normal first.  Maternal nutrition is inadequate for protein and poor and high in empty calories and junk foods and sweets.,PLAN:,  Pap smear submitted for manual screening.  Ordered CBC.  Ordered blood type.  Ordered hemoglobin.  Ordered Rh.,Ordered fasting blood glucose.,COUNSELING:,  Counseling was given regarding adverse effects of alcohol, physical activity and sexual activity.  Educational supplies dispensed to patient.,Return to clinic in 4 week (s).,PRESCRIPTIONS:,  NatalCare Plus Dosage:  Prenatal Multivitamins tablet Sig:  QD Dispense:  60 Refills:  4 Allow Generic:  Yes,PATIENT INSTRUCTIONS:,  Patient received written information regarding pre-eclampsia and eclampsia.  Patient was instructed to restrict activity.  Patient instructed to limit caffeine use.  Patient instructed to limit salt intake.\n",
            "Predicted class: [' Discharge Summary']\n"
          ],
          "name": "stdout"
        }
      ]
    },
    {
      "cell_type": "code",
      "metadata": {
        "id": "RUaoz4aRqB_s"
      },
      "source": [
        ""
      ],
      "execution_count": null,
      "outputs": []
    },
    {
      "cell_type": "code",
      "metadata": {
        "id": "AtstjlXAqB9V"
      },
      "source": [
        ""
      ],
      "execution_count": null,
      "outputs": []
    },
    {
      "cell_type": "code",
      "metadata": {
        "id": "7eEJSPesqB6Y"
      },
      "source": [
        ""
      ],
      "execution_count": null,
      "outputs": []
    },
    {
      "cell_type": "code",
      "metadata": {
        "id": "U4cuzxOBqB3N"
      },
      "source": [
        ""
      ],
      "execution_count": null,
      "outputs": []
    },
    {
      "cell_type": "code",
      "metadata": {
        "id": "ZbWewoBVqBzQ"
      },
      "source": [
        ""
      ],
      "execution_count": null,
      "outputs": []
    },
    {
      "cell_type": "code",
      "metadata": {
        "id": "F0013Vi3qBoI"
      },
      "source": [
        ""
      ],
      "execution_count": null,
      "outputs": []
    },
    {
      "cell_type": "code",
      "metadata": {
        "id": "41nOuqHVqBaT"
      },
      "source": [
        ""
      ],
      "execution_count": null,
      "outputs": []
    },
    {
      "cell_type": "code",
      "metadata": {
        "id": "Hx7i2pZi3GOm"
      },
      "source": [
        "#labels = data['medical_specialty'].tolist()\n",
        "#category_list = data.medical_specialty.unique()\n",
        "X_train, X_test, y_train, y_test = train_test_split(tfIdfMat_reduced, Y,random_state=1)"
      ],
      "execution_count": null,
      "outputs": []
    },
    {
      "cell_type": "code",
      "metadata": {
        "id": "L3MkoSggB1i6"
      },
      "source": [
        "X_test, X_valid, y_test, y_valid = train_test_split(X_test, y_test,random_state=1)"
      ],
      "execution_count": null,
      "outputs": []
    },
    {
      "cell_type": "code",
      "metadata": {
        "colab": {
          "base_uri": "https://localhost:8080/"
        },
        "id": "hIxgX2NKCK40",
        "outputId": "84dc799f-8bf4-4251-abd8-eb35e0fe406b"
      },
      "source": [
        "X_train.shape"
      ],
      "execution_count": null,
      "outputs": [
        {
          "output_type": "execute_result",
          "data": {
            "text/plain": [
              "(966, 315)"
            ]
          },
          "metadata": {
            "tags": []
          },
          "execution_count": 91
        }
      ]
    },
    {
      "cell_type": "code",
      "metadata": {
        "colab": {
          "base_uri": "https://localhost:8080/"
        },
        "id": "vrHdB8ARo9HU",
        "outputId": "a6bd2777-7dc4-431e-9650-0a0cf4826a27"
      },
      "source": [
        "y_test.shape"
      ],
      "execution_count": null,
      "outputs": [
        {
          "output_type": "execute_result",
          "data": {
            "text/plain": [
              "(241, 13)"
            ]
          },
          "metadata": {
            "tags": []
          },
          "execution_count": 92
        }
      ]
    },
    {
      "cell_type": "code",
      "metadata": {
        "colab": {
          "base_uri": "https://localhost:8080/"
        },
        "id": "_Xyz1e0wCNrv",
        "outputId": "4dc30beb-7906-4aa8-b926-548017667f9d"
      },
      "source": [
        "X_test.shape"
      ],
      "execution_count": null,
      "outputs": [
        {
          "output_type": "execute_result",
          "data": {
            "text/plain": [
              "(241, 315)"
            ]
          },
          "metadata": {
            "tags": []
          },
          "execution_count": 93
        }
      ]
    },
    {
      "cell_type": "code",
      "metadata": {
        "colab": {
          "base_uri": "https://localhost:8080/"
        },
        "id": "uMR6kn4GCZ4J",
        "outputId": "c4eb3688-ab7d-4f0f-b4ee-40a86a5ed037"
      },
      "source": [
        "X_valid.shape"
      ],
      "execution_count": null,
      "outputs": [
        {
          "output_type": "execute_result",
          "data": {
            "text/plain": [
              "(81, 315)"
            ]
          },
          "metadata": {
            "tags": []
          },
          "execution_count": 94
        }
      ]
    },
    {
      "cell_type": "code",
      "metadata": {
        "id": "aH7WQpdiCb0z"
      },
      "source": [
        "from keras.models import Sequential\n",
        "from keras.layers import Dense\n",
        "from keras.layers import LSTM\n",
        "from keras.layers import Dropout\n",
        "from keras.layers.core import SpatialDropout1D\n",
        "from keras.layers.embeddings import Embedding"
      ],
      "execution_count": null,
      "outputs": []
    },
    {
      "cell_type": "code",
      "metadata": {
        "id": "2uva3E_rfhXE"
      },
      "source": [
        "MAX_NB_WORDS = 5000\n",
        "# Max number of words in each complaint.\n",
        "MAX_SEQUENCE_LENGTH = 250\n",
        "EMBEDDING_DIM = 100"
      ],
      "execution_count": null,
      "outputs": []
    },
    {
      "cell_type": "code",
      "metadata": {
        "id": "WqQ39FEeDdOL"
      },
      "source": [
        "regressor = Sequential()\n",
        "regressor.add(Embedding(MAX_NB_WORDS, 100, input_length=X_train.shape[1]))\n",
        "regressor.add(LSTM(units = 100, return_sequences = True, input_shape = (X_train.shape[1], 1)))\n",
        "#regressor.add(Dropout(0.2))\n",
        "\n",
        "#regressor.add(LSTM(units = 50, return_sequences = True))\n",
        "#regressor.add(Dropout(0.2))\n",
        "\n",
        "#regressor.add(LSTM(units = 50, return_sequences = True))\n",
        "#regressor.add(Dropout(0.2))\n",
        "\n",
        "regressor.add(LSTM(units = 50))\n",
        "regressor.add(Dropout(0.2))\n",
        "\n",
        "regressor.add(Dense(units = 20))\n",
        "\n",
        "regressor.compile(optimizer = 'adam', loss = 'categorical_crossentropy', metrics=['accuracy'])\n",
        "\n"
      ],
      "execution_count": null,
      "outputs": []
    },
    {
      "cell_type": "code",
      "metadata": {
        "id": "ucDzJXstUC1z"
      },
      "source": [
        "# model = Sequential()\n",
        "# model.add(Embedding(MAX_NB_WORDS, EMBEDDING_DIM, input_length=tfIdfMat.shape[1]))\n",
        "# model.add(SpatialDropout1D(0.2))\n",
        "# model.add(LSTM(100, dropout=0.2, recurrent_dropout=0.2))\n",
        "# model.add(Dense(13, activation='softmax'))\n",
        "# model.compile(loss='categorical_crossentropy', optimizer='adam', metrics=['accuracy'])\n",
        "\n",
        "# epochs = 5\n",
        "# batch_size = 64\n",
        "\n",
        "# history = model.fit(X_train, y_train, epochs=epochs, batch_size=batch_size,validation_split=0.1)\n",
        "#                     #callbacks=[EarlyStopping(monitor='val_loss', patience=3, min_delta=0.0001)])"
      ],
      "execution_count": null,
      "outputs": []
    },
    {
      "cell_type": "code",
      "metadata": {
        "id": "EtSri5DjKN4q"
      },
      "source": [
        "X = X_train.toarray()"
      ],
      "execution_count": null,
      "outputs": []
    },
    {
      "cell_type": "code",
      "metadata": {
        "colab": {
          "base_uri": "https://localhost:8080/"
        },
        "id": "tXpDMfMRDrCr",
        "outputId": "2f3da6c1-d562-4659-99b9-c11e6f84d40c"
      },
      "source": [
        "regressor.fit(X_train, y_train, epochs = 10, batch_size = 10)"
      ],
      "execution_count": null,
      "outputs": [
        {
          "output_type": "stream",
          "text": [
            "Epoch 1/10\n",
            "264/264 [==============================] - 8s 29ms/step - loss: 7.9834 - accuracy: 0.0859\n",
            "Epoch 2/10\n",
            "264/264 [==============================] - 8s 29ms/step - loss: 7.9213 - accuracy: 0.0699\n",
            "Epoch 3/10\n",
            "264/264 [==============================] - 8s 29ms/step - loss: 8.0682 - accuracy: 0.0760\n",
            "Epoch 4/10\n",
            "264/264 [==============================] - 8s 29ms/step - loss: 8.0682 - accuracy: 0.0764\n",
            "Epoch 5/10\n",
            "264/264 [==============================] - 8s 29ms/step - loss: 8.1111 - accuracy: 0.0783\n",
            "Epoch 6/10\n",
            "264/264 [==============================] - 8s 29ms/step - loss: 8.0621 - accuracy: 0.0749\n",
            "Epoch 7/10\n",
            "264/264 [==============================] - 8s 29ms/step - loss: 8.0437 - accuracy: 0.0768\n",
            "Epoch 8/10\n",
            "264/264 [==============================] - 8s 29ms/step - loss: 7.9947 - accuracy: 0.0802\n",
            "Epoch 9/10\n",
            "264/264 [==============================] - 8s 29ms/step - loss: 7.8906 - accuracy: 0.0878\n",
            "Epoch 10/10\n",
            "264/264 [==============================] - 8s 29ms/step - loss: 7.9947 - accuracy: 0.0726\n"
          ],
          "name": "stdout"
        },
        {
          "output_type": "execute_result",
          "data": {
            "text/plain": [
              "<keras.callbacks.History at 0x7f29be2f5a90>"
            ]
          },
          "metadata": {
            "tags": []
          },
          "execution_count": 98
        }
      ]
    },
    {
      "cell_type": "code",
      "metadata": {
        "colab": {
          "base_uri": "https://localhost:8080/"
        },
        "id": "kPket8MnCtGa",
        "outputId": "521c13ea-1bd0-4de4-d4d7-4c310f6588cc"
      },
      "source": [
        "accr = regressor.evaluate(X_test,y_test)\n",
        "print('Test set\\n  Loss: {:0.3f}\\n  Accuracy: {:0.3f}'.format(accr[0],accr[1]))\n",
        "#accr[0]"
      ],
      "execution_count": null,
      "outputs": [
        {
          "output_type": "stream",
          "text": [
            "21/21 [==============================] - 0s 19ms/step - loss: 7.9856 - accuracy: 0.0638\n",
            "Test set\n",
            "  Loss: 7.986\n",
            "  Accuracy: 0.064\n"
          ],
          "name": "stdout"
        }
      ]
    },
    {
      "cell_type": "code",
      "metadata": {
        "colab": {
          "base_uri": "https://localhost:8080/"
        },
        "id": "Tp9gRkAwDIuF",
        "outputId": "b7d26abb-46f3-401c-b951-d7ceeeeeab48"
      },
      "source": [
        "accr"
      ],
      "execution_count": null,
      "outputs": [
        {
          "output_type": "execute_result",
          "data": {
            "text/plain": [
              "0.04629991948604584"
            ]
          },
          "metadata": {
            "tags": []
          },
          "execution_count": 58
        }
      ]
    },
    {
      "cell_type": "code",
      "metadata": {
        "colab": {
          "base_uri": "https://localhost:8080/",
          "height": 337
        },
        "id": "ir-NS_2LDSLZ",
        "outputId": "c5e5a812-3c20-4ed7-8282-7fdc01f7ea60"
      },
      "source": [
        "from sklearn.metrics import confusion_matrix\n",
        "y_test_pred= regressor.predict(X_test)\n",
        "category_list = data.medical_specialty.unique()\n",
        "labels = category_list\n",
        "cm = confusion_matrix(y_test, y_test_pred,labels)"
      ],
      "execution_count": null,
      "outputs": [
        {
          "output_type": "error",
          "ename": "ValueError",
          "evalue": "ignored",
          "traceback": [
            "\u001b[0;31m---------------------------------------------------------------------------\u001b[0m",
            "\u001b[0;31mValueError\u001b[0m                                Traceback (most recent call last)",
            "\u001b[0;32m<ipython-input-94-c98c91f178bd>\u001b[0m in \u001b[0;36m<module>\u001b[0;34m()\u001b[0m\n\u001b[1;32m      3\u001b[0m \u001b[0mcategory_list\u001b[0m \u001b[0;34m=\u001b[0m \u001b[0mdata\u001b[0m\u001b[0;34m.\u001b[0m\u001b[0mmedical_specialty\u001b[0m\u001b[0;34m.\u001b[0m\u001b[0munique\u001b[0m\u001b[0;34m(\u001b[0m\u001b[0;34m)\u001b[0m\u001b[0;34m\u001b[0m\u001b[0;34m\u001b[0m\u001b[0m\n\u001b[1;32m      4\u001b[0m \u001b[0mlabels\u001b[0m \u001b[0;34m=\u001b[0m \u001b[0mcategory_list\u001b[0m\u001b[0;34m\u001b[0m\u001b[0;34m\u001b[0m\u001b[0m\n\u001b[0;32m----> 5\u001b[0;31m \u001b[0mcm\u001b[0m \u001b[0;34m=\u001b[0m \u001b[0mconfusion_matrix\u001b[0m\u001b[0;34m(\u001b[0m\u001b[0my_test\u001b[0m\u001b[0;34m,\u001b[0m \u001b[0my_test_pred\u001b[0m\u001b[0;34m,\u001b[0m\u001b[0mlabels\u001b[0m\u001b[0;34m)\u001b[0m\u001b[0;34m\u001b[0m\u001b[0;34m\u001b[0m\u001b[0m\n\u001b[0m",
            "\u001b[0;32m/usr/local/lib/python3.7/dist-packages/sklearn/metrics/_classification.py\u001b[0m in \u001b[0;36mconfusion_matrix\u001b[0;34m(y_true, y_pred, labels, sample_weight, normalize)\u001b[0m\n\u001b[1;32m    266\u001b[0m \u001b[0;34m\u001b[0m\u001b[0m\n\u001b[1;32m    267\u001b[0m     \"\"\"\n\u001b[0;32m--> 268\u001b[0;31m     \u001b[0my_type\u001b[0m\u001b[0;34m,\u001b[0m \u001b[0my_true\u001b[0m\u001b[0;34m,\u001b[0m \u001b[0my_pred\u001b[0m \u001b[0;34m=\u001b[0m \u001b[0m_check_targets\u001b[0m\u001b[0;34m(\u001b[0m\u001b[0my_true\u001b[0m\u001b[0;34m,\u001b[0m \u001b[0my_pred\u001b[0m\u001b[0;34m)\u001b[0m\u001b[0;34m\u001b[0m\u001b[0;34m\u001b[0m\u001b[0m\n\u001b[0m\u001b[1;32m    269\u001b[0m     \u001b[0;32mif\u001b[0m \u001b[0my_type\u001b[0m \u001b[0;32mnot\u001b[0m \u001b[0;32min\u001b[0m \u001b[0;34m(\u001b[0m\u001b[0;34m\"binary\"\u001b[0m\u001b[0;34m,\u001b[0m \u001b[0;34m\"multiclass\"\u001b[0m\u001b[0;34m)\u001b[0m\u001b[0;34m:\u001b[0m\u001b[0;34m\u001b[0m\u001b[0;34m\u001b[0m\u001b[0m\n\u001b[1;32m    270\u001b[0m         \u001b[0;32mraise\u001b[0m \u001b[0mValueError\u001b[0m\u001b[0;34m(\u001b[0m\u001b[0;34m\"%s is not supported\"\u001b[0m \u001b[0;34m%\u001b[0m \u001b[0my_type\u001b[0m\u001b[0;34m)\u001b[0m\u001b[0;34m\u001b[0m\u001b[0;34m\u001b[0m\u001b[0m\n",
            "\u001b[0;32m/usr/local/lib/python3.7/dist-packages/sklearn/metrics/_classification.py\u001b[0m in \u001b[0;36m_check_targets\u001b[0;34m(y_true, y_pred)\u001b[0m\n\u001b[1;32m     88\u001b[0m     \u001b[0;32mif\u001b[0m \u001b[0mlen\u001b[0m\u001b[0;34m(\u001b[0m\u001b[0my_type\u001b[0m\u001b[0;34m)\u001b[0m \u001b[0;34m>\u001b[0m \u001b[0;36m1\u001b[0m\u001b[0;34m:\u001b[0m\u001b[0;34m\u001b[0m\u001b[0;34m\u001b[0m\u001b[0m\n\u001b[1;32m     89\u001b[0m         raise ValueError(\"Classification metrics can't handle a mix of {0} \"\n\u001b[0;32m---> 90\u001b[0;31m                          \"and {1} targets\".format(type_true, type_pred))\n\u001b[0m\u001b[1;32m     91\u001b[0m \u001b[0;34m\u001b[0m\u001b[0m\n\u001b[1;32m     92\u001b[0m     \u001b[0;31m# We can't have more than one value on y_type => The set is no more needed\u001b[0m\u001b[0;34m\u001b[0m\u001b[0;34m\u001b[0m\u001b[0;34m\u001b[0m\u001b[0m\n",
            "\u001b[0;31mValueError\u001b[0m: Classification metrics can't handle a mix of multilabel-indicator and continuous-multioutput targets"
          ]
        }
      ]
    },
    {
      "cell_type": "code",
      "metadata": {
        "id": "Y9SVKcvmEAc2"
      },
      "source": [
        "# #gc.collect()\n",
        "# pca = PCA(n_components=0.95)\n",
        "# tfIdfMat_reduced = pca.fit_transform(tfIdfMat.toarray())\n",
        "# labels = data['medical_specialty'].tolist()\n",
        "# category_list = data.medical_specialty.unique()\n",
        "# X_train, X_test, y_train, y_test = train_test_split(tfIdfMat_reduced, labels, stratify=labels,random_state=1)"
      ],
      "execution_count": null,
      "outputs": []
    },
    {
      "cell_type": "code",
      "metadata": {
        "id": "j-Qxvf37Kw0L"
      },
      "source": [
        ""
      ],
      "execution_count": null,
      "outputs": []
    },
    {
      "cell_type": "code",
      "metadata": {
        "id": "h92KDmCRMJk7"
      },
      "source": [
        ""
      ],
      "execution_count": null,
      "outputs": []
    },
    {
      "cell_type": "code",
      "metadata": {
        "id": "Y9xVl5WWMJnk"
      },
      "source": [
        "from keras.preprocessing.text import Tokenizer\n",
        "from keras.preprocessing.sequence import pad_sequences\n",
        "from keras.layers import Dense, Embedding, LSTM, SpatialDropout1D"
      ],
      "execution_count": null,
      "outputs": []
    },
    {
      "cell_type": "code",
      "metadata": {
        "colab": {
          "base_uri": "https://localhost:8080/"
        },
        "id": "2Ew_npORMJp-",
        "outputId": "c1dd8ba1-6858-43b6-d8f4-7bee5a042b11"
      },
      "source": [
        "!pip install tokenizer\n",
        "import tokenizer"
      ],
      "execution_count": null,
      "outputs": [
        {
          "output_type": "stream",
          "text": [
            "Collecting tokenizer\n",
            "\u001b[?25l  Downloading https://files.pythonhosted.org/packages/eb/55/077d1d428bd6fd6e3d306ff375c06320ccd20d36b29542cff8ab700d45d0/tokenizer-3.1.2-py2.py3-none-any.whl (77kB)\n",
            "\r\u001b[K     |████▎                           | 10kB 13.8MB/s eta 0:00:01\r\u001b[K     |████████▌                       | 20kB 18.7MB/s eta 0:00:01\r\u001b[K     |████████████▊                   | 30kB 23.2MB/s eta 0:00:01\r\u001b[K     |█████████████████               | 40kB 26.5MB/s eta 0:00:01\r\u001b[K     |█████████████████████▏          | 51kB 29.1MB/s eta 0:00:01\r\u001b[K     |█████████████████████████▍      | 61kB 31.2MB/s eta 0:00:01\r\u001b[K     |█████████████████████████████▋  | 71kB 28.6MB/s eta 0:00:01\r\u001b[K     |████████████████████████████████| 81kB 7.1MB/s \n",
            "\u001b[?25hInstalling collected packages: tokenizer\n",
            "Successfully installed tokenizer-3.1.2\n"
          ],
          "name": "stdout"
        }
      ]
    },
    {
      "cell_type": "code",
      "metadata": {
        "id": "TVDmgf0lMJtb"
      },
      "source": [
        ""
      ],
      "execution_count": null,
      "outputs": []
    },
    {
      "cell_type": "code",
      "metadata": {
        "colab": {
          "base_uri": "https://localhost:8080/"
        },
        "id": "gNX0uHmXMKYW",
        "outputId": "a4820348-d3f4-4864-fd6d-8e50af4e068a"
      },
      "source": [
        "tokenizer = Tokenizer(num_words=MAX_NB_WORDS, filters='!\"#$%&()*+,-./:;<=>?@[\\]^_`{|}~', lower=True)\n",
        "tokenizer.fit_on_texts(data['transcription'].values)\n",
        "word_index = tokenizer.word_index\n",
        "print('Found %s unique tokens.' % len(word_index))"
      ],
      "execution_count": null,
      "outputs": [
        {
          "output_type": "stream",
          "text": [
            "Found 27997 unique tokens.\n"
          ],
          "name": "stdout"
        }
      ]
    },
    {
      "cell_type": "code",
      "metadata": {
        "colab": {
          "base_uri": "https://localhost:8080/"
        },
        "id": "kRVkRK3fMVAU",
        "outputId": "d8794689-1e32-4e5c-c26d-188c05a53d5d"
      },
      "source": [
        "X = tokenizer.texts_to_sequences(data['transcription'].values)\n",
        "X = pad_sequences(X, maxlen=MAX_SEQUENCE_LENGTH)\n",
        "print('Shape of data tensor:', X.shape)"
      ],
      "execution_count": null,
      "outputs": [
        {
          "output_type": "stream",
          "text": [
            "Shape of data tensor: (3509, 250)\n"
          ],
          "name": "stdout"
        }
      ]
    },
    {
      "cell_type": "code",
      "metadata": {
        "colab": {
          "base_uri": "https://localhost:8080/"
        },
        "id": "pFf03CfONEth",
        "outputId": "2d1c72cf-f145-4662-c7e5-cf08e2d8b981"
      },
      "source": [
        "Y = pd.get_dummies(data['medical_specialty']).values\n",
        "print('Shape of label tensor:', Y.shape)"
      ],
      "execution_count": null,
      "outputs": [
        {
          "output_type": "stream",
          "text": [
            "Shape of label tensor: (3509, 20)\n"
          ],
          "name": "stdout"
        }
      ]
    },
    {
      "cell_type": "code",
      "metadata": {
        "colab": {
          "base_uri": "https://localhost:8080/"
        },
        "id": "cnDQAbP3NJTw",
        "outputId": "7f439d7d-6eda-4277-bb53-05f9f1c35b6c"
      },
      "source": [
        "X_train, X_test, Y_train, Y_test = train_test_split(X,Y, test_size = 0.10, random_state = 42)\n",
        "print(X_train.shape,Y_train.shape)\n",
        "print(X_test.shape,Y_test.shape)"
      ],
      "execution_count": null,
      "outputs": [
        {
          "output_type": "stream",
          "text": [
            "(3158, 250) (3158, 20)\n",
            "(351, 250) (351, 20)\n"
          ],
          "name": "stdout"
        }
      ]
    },
    {
      "cell_type": "code",
      "metadata": {
        "id": "OKpX0pFSNgsO"
      },
      "source": [
        "\n",
        "# model = Sequential()\n",
        "# model.add(Embedding(MAX_NB_WORDS, 100, input_length=X.shape[1]))\n",
        "# model.add(SpatialDropout1D(0.2))\n",
        "# model.add(LSTM(100, dropout=0.2, recurrent_dropout=0.2))\n",
        "# model.add(LSTM(50, dropout=0.2, recurrent_dropout=0.2))\n",
        "# model.add(LSTM(50, dropout=0.2, recurrent_dropout=0.2))\n",
        "# model.add(Dense(20, activation='softmax'))\n",
        "# model.compile(loss='categorical_crossentropy', optimizer='adam', metrics=['accuracy'])\n",
        "# print(model.summary())\n",
        "regressor = Sequential()\n",
        "regressor.add(Embedding(MAX_NB_WORDS, 100, input_length=X_train.shape[1]))\n",
        "regressor.add(LSTM(units = 50, return_sequences = True, input_shape = (X_train.shape[1], 1)))\n",
        "regressor.add(Dropout(0.2))\n",
        "\n",
        "regressor.add(LSTM(units = 50, return_sequences = True))\n",
        "regressor.add(Dropout(0.2))\n",
        "\n",
        "regressor.add(LSTM(units = 50, return_sequences = True))\n",
        "regressor.add(Dropout(0.2))\n",
        "\n",
        "regressor.add(LSTM(units = 50))\n",
        "regressor.add(Dropout(0.2))\n",
        "\n",
        "regressor.add(Dense(units = 20))\n",
        "\n",
        "regressor.compile(loss='categorical_crossentropy', optimizer='adam', metrics=['accuracy'])\n",
        "\n"
      ],
      "execution_count": null,
      "outputs": []
    },
    {
      "cell_type": "code",
      "metadata": {
        "id": "XDRiai1K1fMN"
      },
      "source": [
        "from keras.callbacks import EarlyStopping"
      ],
      "execution_count": null,
      "outputs": []
    },
    {
      "cell_type": "code",
      "metadata": {
        "colab": {
          "base_uri": "https://localhost:8080/"
        },
        "id": "8HEkZJjnNkfI",
        "outputId": "fd0468c5-da9a-4747-8e84-2dbe1892a719"
      },
      "source": [
        "epochs = 50\n",
        "batch_size = 64\n",
        "\n",
        "history = regressor.fit(X_train, y_train, epochs=epochs, batch_size=batch_size,validation_split=0.1) \n",
        "                        #callbacks=[EarlyStopping(monitor='val_loss', patience=3, min_delta=0.0001)])"
      ],
      "execution_count": null,
      "outputs": [
        {
          "output_type": "stream",
          "text": [
            "Epoch 1/50\n",
            "37/37 [==============================] - 9s 103ms/step - loss: 7.7482 - accuracy: 0.0808 - val_loss: 9.2801 - val_accuracy: 0.1174\n",
            "Epoch 2/50\n",
            "37/37 [==============================] - 2s 60ms/step - loss: 8.3568 - accuracy: 0.0540 - val_loss: 6.7285 - val_accuracy: 0.1174\n",
            "Epoch 3/50\n",
            "37/37 [==============================] - 2s 60ms/step - loss: 8.5067 - accuracy: 0.0612 - val_loss: 8.6910 - val_accuracy: 0.1174\n",
            "Epoch 4/50\n",
            "37/37 [==============================] - 2s 60ms/step - loss: 8.4243 - accuracy: 0.0486 - val_loss: 5.9832 - val_accuracy: 0.0189\n",
            "Epoch 5/50\n",
            "37/37 [==============================] - 2s 60ms/step - loss: 8.1572 - accuracy: 0.0424 - val_loss: 8.4864 - val_accuracy: 0.0189\n",
            "Epoch 6/50\n",
            "37/37 [==============================] - 2s 60ms/step - loss: 8.3797 - accuracy: 0.0504 - val_loss: 10.1349 - val_accuracy: 0.0189\n",
            "Epoch 7/50\n",
            "37/37 [==============================] - 2s 60ms/step - loss: 8.7294 - accuracy: 0.0509 - val_loss: 10.1506 - val_accuracy: 0.1174\n",
            "Epoch 8/50\n",
            "37/37 [==============================] - 2s 60ms/step - loss: 8.5725 - accuracy: 0.0576 - val_loss: 8.1674 - val_accuracy: 0.0189\n",
            "Epoch 9/50\n",
            "37/37 [==============================] - 2s 60ms/step - loss: 8.1245 - accuracy: 0.0464 - val_loss: 8.4254 - val_accuracy: 0.0189\n",
            "Epoch 10/50\n",
            "37/37 [==============================] - 2s 60ms/step - loss: 7.9460 - accuracy: 0.0526 - val_loss: 8.1201 - val_accuracy: 0.1174\n",
            "Epoch 11/50\n",
            "37/37 [==============================] - 2s 60ms/step - loss: 8.3386 - accuracy: 0.0550 - val_loss: 7.9980 - val_accuracy: 0.1174\n",
            "Epoch 12/50\n",
            "37/37 [==============================] - 2s 59ms/step - loss: 8.1745 - accuracy: 0.0586 - val_loss: 7.9980 - val_accuracy: 0.1174\n",
            "Epoch 13/50\n",
            "37/37 [==============================] - 2s 59ms/step - loss: 8.1539 - accuracy: 0.0699 - val_loss: 7.9980 - val_accuracy: 0.1174\n",
            "Epoch 14/50\n",
            "37/37 [==============================] - 2s 60ms/step - loss: 7.9097 - accuracy: 0.0691 - val_loss: 7.9980 - val_accuracy: 0.1174\n",
            "Epoch 15/50\n",
            "37/37 [==============================] - 2s 59ms/step - loss: 7.7911 - accuracy: 0.0678 - val_loss: 7.9980 - val_accuracy: 0.1174\n",
            "Epoch 16/50\n",
            "37/37 [==============================] - 2s 60ms/step - loss: 7.9664 - accuracy: 0.0618 - val_loss: 7.9980 - val_accuracy: 0.1174\n",
            "Epoch 17/50\n",
            "37/37 [==============================] - 2s 60ms/step - loss: 7.9388 - accuracy: 0.0700 - val_loss: 7.9980 - val_accuracy: 0.1174\n",
            "Epoch 18/50\n",
            "37/37 [==============================] - 2s 60ms/step - loss: 8.2055 - accuracy: 0.0764 - val_loss: 7.9980 - val_accuracy: 0.1174\n",
            "Epoch 19/50\n",
            "37/37 [==============================] - 2s 60ms/step - loss: 8.1419 - accuracy: 0.0717 - val_loss: 7.9980 - val_accuracy: 0.1174\n",
            "Epoch 20/50\n",
            "37/37 [==============================] - 2s 60ms/step - loss: 7.7041 - accuracy: 0.0642 - val_loss: 8.5475 - val_accuracy: 0.0265\n",
            "Epoch 21/50\n",
            "37/37 [==============================] - 2s 60ms/step - loss: 8.0277 - accuracy: 0.0394 - val_loss: 8.5478 - val_accuracy: 0.0265\n",
            "Epoch 22/50\n",
            "37/37 [==============================] - 2s 60ms/step - loss: 8.0773 - accuracy: 0.0390 - val_loss: 7.5706 - val_accuracy: 0.0265\n",
            "Epoch 23/50\n",
            "37/37 [==============================] - 2s 61ms/step - loss: 7.8774 - accuracy: 0.0401 - val_loss: 8.5475 - val_accuracy: 0.0265\n",
            "Epoch 24/50\n",
            "37/37 [==============================] - 2s 60ms/step - loss: 7.4033 - accuracy: 0.0423 - val_loss: 7.5706 - val_accuracy: 0.0265\n",
            "Epoch 25/50\n",
            "37/37 [==============================] - 2s 60ms/step - loss: 7.8011 - accuracy: 0.0422 - val_loss: 8.5475 - val_accuracy: 0.0265\n",
            "Epoch 26/50\n",
            "37/37 [==============================] - 2s 60ms/step - loss: 8.4167 - accuracy: 0.0597 - val_loss: 7.5706 - val_accuracy: 0.0265\n",
            "Epoch 27/50\n",
            "37/37 [==============================] - 2s 59ms/step - loss: 8.0762 - accuracy: 0.0422 - val_loss: 7.5706 - val_accuracy: 0.0265\n",
            "Epoch 28/50\n",
            "37/37 [==============================] - 2s 61ms/step - loss: 7.8808 - accuracy: 0.0445 - val_loss: 7.5706 - val_accuracy: 0.0265\n",
            "Epoch 29/50\n",
            "37/37 [==============================] - 2s 62ms/step - loss: 7.3345 - accuracy: 0.0519 - val_loss: 7.5706 - val_accuracy: 0.0265\n",
            "Epoch 30/50\n",
            "37/37 [==============================] - 2s 60ms/step - loss: 7.5861 - accuracy: 0.0388 - val_loss: 7.5706 - val_accuracy: 0.0265\n",
            "Epoch 31/50\n",
            "37/37 [==============================] - 2s 60ms/step - loss: 7.9056 - accuracy: 0.0506 - val_loss: 7.5706 - val_accuracy: 0.0265\n",
            "Epoch 32/50\n",
            "37/37 [==============================] - 2s 60ms/step - loss: 8.2174 - accuracy: 0.0505 - val_loss: 8.5656 - val_accuracy: 0.0265\n",
            "Epoch 33/50\n",
            "37/37 [==============================] - 2s 61ms/step - loss: 8.1713 - accuracy: 0.0410 - val_loss: 8.5475 - val_accuracy: 0.0265\n",
            "Epoch 34/50\n",
            "37/37 [==============================] - 2s 60ms/step - loss: 8.0349 - accuracy: 0.0440 - val_loss: 7.5706 - val_accuracy: 0.0265\n",
            "Epoch 35/50\n",
            "37/37 [==============================] - 2s 60ms/step - loss: 8.0483 - accuracy: 0.0394 - val_loss: 7.5706 - val_accuracy: 0.0265\n",
            "Epoch 36/50\n",
            "37/37 [==============================] - 2s 61ms/step - loss: 7.7153 - accuracy: 0.0376 - val_loss: 7.5706 - val_accuracy: 0.0265\n",
            "Epoch 37/50\n",
            "37/37 [==============================] - 2s 61ms/step - loss: 8.3367 - accuracy: 0.0373 - val_loss: 8.5582 - val_accuracy: 0.0265\n",
            "Epoch 38/50\n",
            "37/37 [==============================] - 2s 60ms/step - loss: 8.3906 - accuracy: 0.0574 - val_loss: 8.5475 - val_accuracy: 0.1174\n",
            "Epoch 39/50\n",
            "37/37 [==============================] - 2s 60ms/step - loss: 8.3306 - accuracy: 0.0518 - val_loss: 8.5475 - val_accuracy: 0.1174\n",
            "Epoch 40/50\n",
            "37/37 [==============================] - 2s 60ms/step - loss: 7.6798 - accuracy: 0.0717 - val_loss: 7.5706 - val_accuracy: 0.1174\n",
            "Epoch 41/50\n",
            "37/37 [==============================] - 2s 61ms/step - loss: 7.9044 - accuracy: 0.0591 - val_loss: 8.5475 - val_accuracy: 0.1174\n",
            "Epoch 42/50\n",
            "37/37 [==============================] - 2s 61ms/step - loss: 8.3468 - accuracy: 0.0692 - val_loss: 8.5475 - val_accuracy: 0.1174\n",
            "Epoch 43/50\n",
            "37/37 [==============================] - 2s 60ms/step - loss: 8.3619 - accuracy: 0.0632 - val_loss: 8.5475 - val_accuracy: 0.0189\n",
            "Epoch 44/50\n",
            "37/37 [==============================] - 2s 60ms/step - loss: 8.5152 - accuracy: 0.0431 - val_loss: 8.5475 - val_accuracy: 0.0189\n",
            "Epoch 45/50\n",
            "37/37 [==============================] - 2s 60ms/step - loss: 8.1974 - accuracy: 0.0406 - val_loss: 8.5475 - val_accuracy: 0.0189\n",
            "Epoch 46/50\n",
            "37/37 [==============================] - 2s 60ms/step - loss: 7.9284 - accuracy: 0.0503 - val_loss: 8.5475 - val_accuracy: 0.0189\n",
            "Epoch 47/50\n",
            "37/37 [==============================] - 2s 61ms/step - loss: 8.4083 - accuracy: 0.0522 - val_loss: 7.5706 - val_accuracy: 0.0189\n",
            "Epoch 48/50\n",
            "37/37 [==============================] - 2s 61ms/step - loss: 8.3017 - accuracy: 0.0493 - val_loss: 8.0537 - val_accuracy: 0.0189\n",
            "Epoch 49/50\n",
            "37/37 [==============================] - 2s 60ms/step - loss: 8.0096 - accuracy: 0.0486 - val_loss: 8.5475 - val_accuracy: 0.0265\n",
            "Epoch 50/50\n",
            "37/37 [==============================] - 2s 60ms/step - loss: 7.8970 - accuracy: 0.0457 - val_loss: 9.2191 - val_accuracy: 0.0265\n"
          ],
          "name": "stdout"
        }
      ]
    },
    {
      "cell_type": "code",
      "metadata": {
        "colab": {
          "base_uri": "https://localhost:8080/"
        },
        "id": "LWXVvMm9NyTt",
        "outputId": "e41c16c9-59d3-40b1-9f86-c70b142f3039"
      },
      "source": [
        "accr = regressor.evaluate(X_test,y_test)\n",
        "print('Test set\\n  Loss: {:0.3f}\\n  Accuracy: {:0.3f}'.format(accr[0],accr[1]))"
      ],
      "execution_count": null,
      "outputs": [
        {
          "output_type": "stream",
          "text": [
            "21/21 [==============================] - 1s 28ms/step - loss: 9.4553 - accuracy: 0.0243\n",
            "Test set\n",
            "  Loss: 9.455\n",
            "  Accuracy: 0.024\n"
          ],
          "name": "stdout"
        }
      ]
    },
    {
      "cell_type": "code",
      "metadata": {
        "id": "fWmzgq6JO7Cr"
      },
      "source": [
        "y_test_pred= regressor.predict(X_test)"
      ],
      "execution_count": null,
      "outputs": []
    },
    {
      "cell_type": "code",
      "metadata": {
        "colab": {
          "base_uri": "https://localhost:8080/",
          "height": 337
        },
        "id": "uIU2wr90mbmv",
        "outputId": "26f63206-82fa-4ff2-92ff-913a68670066"
      },
      "source": [
        "from sklearn.metrics import confusion_matrix\n",
        "category_list = data.medical_specialty.unique()\n",
        "labels = category_list\n",
        "cm = confusion_matrix(Y_test, y_test_pred,labels)"
      ],
      "execution_count": null,
      "outputs": [
        {
          "output_type": "error",
          "ename": "ValueError",
          "evalue": "ignored",
          "traceback": [
            "\u001b[0;31m---------------------------------------------------------------------------\u001b[0m",
            "\u001b[0;31mValueError\u001b[0m                                Traceback (most recent call last)",
            "\u001b[0;32m<ipython-input-48-2bccf4ff8168>\u001b[0m in \u001b[0;36m<module>\u001b[0;34m()\u001b[0m\n\u001b[1;32m      2\u001b[0m \u001b[0mcategory_list\u001b[0m \u001b[0;34m=\u001b[0m \u001b[0mdata\u001b[0m\u001b[0;34m.\u001b[0m\u001b[0mmedical_specialty\u001b[0m\u001b[0;34m.\u001b[0m\u001b[0munique\u001b[0m\u001b[0;34m(\u001b[0m\u001b[0;34m)\u001b[0m\u001b[0;34m\u001b[0m\u001b[0;34m\u001b[0m\u001b[0m\n\u001b[1;32m      3\u001b[0m \u001b[0mlabels\u001b[0m \u001b[0;34m=\u001b[0m \u001b[0mcategory_list\u001b[0m\u001b[0;34m\u001b[0m\u001b[0;34m\u001b[0m\u001b[0m\n\u001b[0;32m----> 4\u001b[0;31m \u001b[0mcm\u001b[0m \u001b[0;34m=\u001b[0m \u001b[0mconfusion_matrix\u001b[0m\u001b[0;34m(\u001b[0m\u001b[0mY_test\u001b[0m\u001b[0;34m,\u001b[0m \u001b[0my_test_pred\u001b[0m\u001b[0;34m,\u001b[0m\u001b[0mlabels\u001b[0m\u001b[0;34m)\u001b[0m\u001b[0;34m\u001b[0m\u001b[0;34m\u001b[0m\u001b[0m\n\u001b[0m",
            "\u001b[0;32m/usr/local/lib/python3.7/dist-packages/sklearn/metrics/_classification.py\u001b[0m in \u001b[0;36mconfusion_matrix\u001b[0;34m(y_true, y_pred, labels, sample_weight, normalize)\u001b[0m\n\u001b[1;32m    266\u001b[0m \u001b[0;34m\u001b[0m\u001b[0m\n\u001b[1;32m    267\u001b[0m     \"\"\"\n\u001b[0;32m--> 268\u001b[0;31m     \u001b[0my_type\u001b[0m\u001b[0;34m,\u001b[0m \u001b[0my_true\u001b[0m\u001b[0;34m,\u001b[0m \u001b[0my_pred\u001b[0m \u001b[0;34m=\u001b[0m \u001b[0m_check_targets\u001b[0m\u001b[0;34m(\u001b[0m\u001b[0my_true\u001b[0m\u001b[0;34m,\u001b[0m \u001b[0my_pred\u001b[0m\u001b[0;34m)\u001b[0m\u001b[0;34m\u001b[0m\u001b[0;34m\u001b[0m\u001b[0m\n\u001b[0m\u001b[1;32m    269\u001b[0m     \u001b[0;32mif\u001b[0m \u001b[0my_type\u001b[0m \u001b[0;32mnot\u001b[0m \u001b[0;32min\u001b[0m \u001b[0;34m(\u001b[0m\u001b[0;34m\"binary\"\u001b[0m\u001b[0;34m,\u001b[0m \u001b[0;34m\"multiclass\"\u001b[0m\u001b[0;34m)\u001b[0m\u001b[0;34m:\u001b[0m\u001b[0;34m\u001b[0m\u001b[0;34m\u001b[0m\u001b[0m\n\u001b[1;32m    270\u001b[0m         \u001b[0;32mraise\u001b[0m \u001b[0mValueError\u001b[0m\u001b[0;34m(\u001b[0m\u001b[0;34m\"%s is not supported\"\u001b[0m \u001b[0;34m%\u001b[0m \u001b[0my_type\u001b[0m\u001b[0;34m)\u001b[0m\u001b[0;34m\u001b[0m\u001b[0;34m\u001b[0m\u001b[0m\n",
            "\u001b[0;32m/usr/local/lib/python3.7/dist-packages/sklearn/metrics/_classification.py\u001b[0m in \u001b[0;36m_check_targets\u001b[0;34m(y_true, y_pred)\u001b[0m\n\u001b[1;32m     88\u001b[0m     \u001b[0;32mif\u001b[0m \u001b[0mlen\u001b[0m\u001b[0;34m(\u001b[0m\u001b[0my_type\u001b[0m\u001b[0;34m)\u001b[0m \u001b[0;34m>\u001b[0m \u001b[0;36m1\u001b[0m\u001b[0;34m:\u001b[0m\u001b[0;34m\u001b[0m\u001b[0;34m\u001b[0m\u001b[0m\n\u001b[1;32m     89\u001b[0m         raise ValueError(\"Classification metrics can't handle a mix of {0} \"\n\u001b[0;32m---> 90\u001b[0;31m                          \"and {1} targets\".format(type_true, type_pred))\n\u001b[0m\u001b[1;32m     91\u001b[0m \u001b[0;34m\u001b[0m\u001b[0m\n\u001b[1;32m     92\u001b[0m     \u001b[0;31m# We can't have more than one value on y_type => The set is no more needed\u001b[0m\u001b[0;34m\u001b[0m\u001b[0;34m\u001b[0m\u001b[0;34m\u001b[0m\u001b[0m\n",
            "\u001b[0;31mValueError\u001b[0m: Classification metrics can't handle a mix of multilabel-indicator and continuous-multioutput targets"
          ]
        }
      ]
    },
    {
      "cell_type": "code",
      "metadata": {
        "colab": {
          "base_uri": "https://localhost:8080/"
        },
        "id": "qd0yfws6msH9",
        "outputId": "f9d2db82-0796-4619-b96e-a38fbeb0d921"
      },
      "source": [
        "y_test_pred"
      ],
      "execution_count": null,
      "outputs": [
        {
          "output_type": "execute_result",
          "data": {
            "text/plain": [
              "array([[ 1.7481626, -2.3375366, -1.2327421, ...,  1.759252 , -1.5568787,\n",
              "        -1.9060446],\n",
              "       [ 1.7478287, -2.337226 , -1.2326381, ...,  1.7587464, -1.5570353,\n",
              "        -1.9055557],\n",
              "       [ 1.7478858, -2.3373256, -1.2326593, ...,  1.7587773, -1.5569516,\n",
              "        -1.9056036],\n",
              "       ...,\n",
              "       [ 1.7480248, -2.3373876, -1.232707 , ...,  1.758926 , -1.556873 ,\n",
              "        -1.905756 ],\n",
              "       [ 1.7484607, -2.3376217, -1.2330002, ...,  1.7591311, -1.5565503,\n",
              "        -1.9061439],\n",
              "       [ 1.748035 , -2.3373375, -1.2327504, ...,  1.7588444, -1.5568148,\n",
              "        -1.9057348]], dtype=float32)"
            ]
          },
          "metadata": {
            "tags": []
          },
          "execution_count": 49
        }
      ]
    },
    {
      "cell_type": "code",
      "metadata": {
        "colab": {
          "base_uri": "https://localhost:8080/"
        },
        "id": "EqlaoQ_8neRs",
        "outputId": "e6a070d7-010e-4219-806c-4ef61285d3fb"
      },
      "source": [
        "model = Sequential()\n",
        "model.add(Embedding(MAX_NB_WORDS, 100, input_length=X.shape[1]))\n",
        "model.add(SpatialDropout1D(0.2))\n",
        "model.add(LSTM(100, dropout=0.2, recurrent_dropout=0.2))\n",
        "model.add(Dense(20, activation='softmax'))\n",
        "model.compile(loss='categorical_crossentropy', optimizer='adam', metrics=['accuracy'])\n",
        "print(model.summary())"
      ],
      "execution_count": null,
      "outputs": [
        {
          "output_type": "stream",
          "text": [
            "Model: \"sequential_2\"\n",
            "_________________________________________________________________\n",
            "Layer (type)                 Output Shape              Param #   \n",
            "=================================================================\n",
            "embedding_2 (Embedding)      (None, 250, 100)          5000000   \n",
            "_________________________________________________________________\n",
            "spatial_dropout1d (SpatialDr (None, 250, 100)          0         \n",
            "_________________________________________________________________\n",
            "lstm_8 (LSTM)                (None, 100)               80400     \n",
            "_________________________________________________________________\n",
            "dense_2 (Dense)              (None, 20)                2020      \n",
            "=================================================================\n",
            "Total params: 5,082,420\n",
            "Trainable params: 5,082,420\n",
            "Non-trainable params: 0\n",
            "_________________________________________________________________\n",
            "None\n"
          ],
          "name": "stdout"
        }
      ]
    },
    {
      "cell_type": "code",
      "metadata": {
        "colab": {
          "base_uri": "https://localhost:8080/"
        },
        "id": "x6ikKO8Ynz2C",
        "outputId": "b8335d9f-72c5-4be5-edf1-02ff05da306b"
      },
      "source": [
        "epochs = 10\n",
        "batch_size = 64\n",
        "\n",
        "history = regressor.fit(X_train, Y_train, epochs=epochs, batch_size=batch_size,validation_split=0.1)"
      ],
      "execution_count": null,
      "outputs": [
        {
          "output_type": "stream",
          "text": [
            "Epoch 1/10\n",
            "45/45 [==============================] - 32s 717ms/step - loss: 8.9670 - accuracy: 0.0545 - val_loss: 8.0590 - val_accuracy: 0.1203\n",
            "Epoch 2/10\n",
            "45/45 [==============================] - 32s 713ms/step - loss: 8.1221 - accuracy: 0.0693 - val_loss: 8.0590 - val_accuracy: 0.1203\n",
            "Epoch 3/10\n",
            "45/45 [==============================] - 32s 717ms/step - loss: 7.9136 - accuracy: 0.0619 - val_loss: 8.0590 - val_accuracy: 0.0443\n",
            "Epoch 4/10\n",
            "45/45 [==============================] - 32s 715ms/step - loss: 8.0132 - accuracy: 0.0686 - val_loss: 8.0590 - val_accuracy: 0.0443\n",
            "Epoch 5/10\n",
            "45/45 [==============================] - 32s 718ms/step - loss: 8.0757 - accuracy: 0.0721 - val_loss: 8.0590 - val_accuracy: 0.0443\n",
            "Epoch 6/10\n",
            "45/45 [==============================] - 32s 718ms/step - loss: 8.0388 - accuracy: 0.0647 - val_loss: 8.0590 - val_accuracy: 0.0443\n",
            "Epoch 7/10\n",
            "45/45 [==============================] - 32s 719ms/step - loss: 8.0586 - accuracy: 0.0598 - val_loss: 8.0590 - val_accuracy: 0.0443\n",
            "Epoch 8/10\n",
            "45/45 [==============================] - 32s 718ms/step - loss: 7.8816 - accuracy: 0.0623 - val_loss: 8.0590 - val_accuracy: 0.0443\n",
            "Epoch 9/10\n",
            "45/45 [==============================] - 32s 719ms/step - loss: 8.0625 - accuracy: 0.0704 - val_loss: 8.0590 - val_accuracy: 0.0443\n",
            "Epoch 10/10\n",
            "45/45 [==============================] - 32s 716ms/step - loss: 8.0934 - accuracy: 0.0651 - val_loss: 8.0590 - val_accuracy: 0.0443\n"
          ],
          "name": "stdout"
        }
      ]
    },
    {
      "cell_type": "code",
      "metadata": {
        "id": "5QK8BxqCn6-E"
      },
      "source": [
        "from sklearn.linear_model import LogisticRegression"
      ],
      "execution_count": null,
      "outputs": []
    },
    {
      "cell_type": "code",
      "metadata": {
        "colab": {
          "base_uri": "https://localhost:8080/",
          "height": 320
        },
        "id": "PIaF5lqxnf-Q",
        "outputId": "23c835cc-34b4-4770-c5ce-7944bd8f89a8"
      },
      "source": [
        ""
      ],
      "execution_count": null,
      "outputs": [
        {
          "output_type": "error",
          "ename": "ValueError",
          "evalue": "ignored",
          "traceback": [
            "\u001b[0;31m---------------------------------------------------------------------------\u001b[0m",
            "\u001b[0;31mValueError\u001b[0m                                Traceback (most recent call last)",
            "\u001b[0;32m<ipython-input-37-19fa3b26604b>\u001b[0m in \u001b[0;36m<module>\u001b[0;34m()\u001b[0m\n\u001b[0;32m----> 1\u001b[0;31m \u001b[0mclf\u001b[0m \u001b[0;34m=\u001b[0m \u001b[0mLogisticRegression\u001b[0m\u001b[0;34m(\u001b[0m\u001b[0mpenalty\u001b[0m\u001b[0;34m=\u001b[0m \u001b[0;34m'elasticnet'\u001b[0m\u001b[0;34m,\u001b[0m \u001b[0msolver\u001b[0m\u001b[0;34m=\u001b[0m \u001b[0;34m'saga'\u001b[0m\u001b[0;34m,\u001b[0m \u001b[0ml1_ratio\u001b[0m\u001b[0;34m=\u001b[0m\u001b[0;36m0.5\u001b[0m\u001b[0;34m,\u001b[0m \u001b[0mrandom_state\u001b[0m\u001b[0;34m=\u001b[0m\u001b[0;36m1\u001b[0m\u001b[0;34m)\u001b[0m\u001b[0;34m.\u001b[0m\u001b[0mfit\u001b[0m\u001b[0;34m(\u001b[0m\u001b[0mX_train\u001b[0m\u001b[0;34m,\u001b[0m \u001b[0my_train\u001b[0m\u001b[0;34m)\u001b[0m\u001b[0;34m\u001b[0m\u001b[0;34m\u001b[0m\u001b[0m\n\u001b[0m\u001b[1;32m      2\u001b[0m \u001b[0my_test_pred\u001b[0m\u001b[0;34m=\u001b[0m \u001b[0mclf\u001b[0m\u001b[0;34m.\u001b[0m\u001b[0mpredict\u001b[0m\u001b[0;34m(\u001b[0m\u001b[0mX_test\u001b[0m\u001b[0;34m)\u001b[0m\u001b[0;34m\u001b[0m\u001b[0;34m\u001b[0m\u001b[0m\n",
            "\u001b[0;32m/usr/local/lib/python3.7/dist-packages/sklearn/linear_model/_logistic.py\u001b[0m in \u001b[0;36mfit\u001b[0;34m(self, X, y, sample_weight)\u001b[0m\n\u001b[1;32m   1525\u001b[0m \u001b[0;34m\u001b[0m\u001b[0m\n\u001b[1;32m   1526\u001b[0m         X, y = check_X_y(X, y, accept_sparse='csr', dtype=_dtype, order=\"C\",\n\u001b[0;32m-> 1527\u001b[0;31m                          accept_large_sparse=solver != 'liblinear')\n\u001b[0m\u001b[1;32m   1528\u001b[0m         \u001b[0mcheck_classification_targets\u001b[0m\u001b[0;34m(\u001b[0m\u001b[0my\u001b[0m\u001b[0;34m)\u001b[0m\u001b[0;34m\u001b[0m\u001b[0;34m\u001b[0m\u001b[0m\n\u001b[1;32m   1529\u001b[0m         \u001b[0mself\u001b[0m\u001b[0;34m.\u001b[0m\u001b[0mclasses_\u001b[0m \u001b[0;34m=\u001b[0m \u001b[0mnp\u001b[0m\u001b[0;34m.\u001b[0m\u001b[0munique\u001b[0m\u001b[0;34m(\u001b[0m\u001b[0my\u001b[0m\u001b[0;34m)\u001b[0m\u001b[0;34m\u001b[0m\u001b[0;34m\u001b[0m\u001b[0m\n",
            "\u001b[0;32m/usr/local/lib/python3.7/dist-packages/sklearn/utils/validation.py\u001b[0m in \u001b[0;36mcheck_X_y\u001b[0;34m(X, y, accept_sparse, accept_large_sparse, dtype, order, copy, force_all_finite, ensure_2d, allow_nd, multi_output, ensure_min_samples, ensure_min_features, y_numeric, warn_on_dtype, estimator)\u001b[0m\n\u001b[1;32m    758\u001b[0m                         dtype=None)\n\u001b[1;32m    759\u001b[0m     \u001b[0;32melse\u001b[0m\u001b[0;34m:\u001b[0m\u001b[0;34m\u001b[0m\u001b[0;34m\u001b[0m\u001b[0m\n\u001b[0;32m--> 760\u001b[0;31m         \u001b[0my\u001b[0m \u001b[0;34m=\u001b[0m \u001b[0mcolumn_or_1d\u001b[0m\u001b[0;34m(\u001b[0m\u001b[0my\u001b[0m\u001b[0;34m,\u001b[0m \u001b[0mwarn\u001b[0m\u001b[0;34m=\u001b[0m\u001b[0;32mTrue\u001b[0m\u001b[0;34m)\u001b[0m\u001b[0;34m\u001b[0m\u001b[0;34m\u001b[0m\u001b[0m\n\u001b[0m\u001b[1;32m    761\u001b[0m         \u001b[0m_assert_all_finite\u001b[0m\u001b[0;34m(\u001b[0m\u001b[0my\u001b[0m\u001b[0;34m)\u001b[0m\u001b[0;34m\u001b[0m\u001b[0;34m\u001b[0m\u001b[0m\n\u001b[1;32m    762\u001b[0m     \u001b[0;32mif\u001b[0m \u001b[0my_numeric\u001b[0m \u001b[0;32mand\u001b[0m \u001b[0my\u001b[0m\u001b[0;34m.\u001b[0m\u001b[0mdtype\u001b[0m\u001b[0;34m.\u001b[0m\u001b[0mkind\u001b[0m \u001b[0;34m==\u001b[0m \u001b[0;34m'O'\u001b[0m\u001b[0;34m:\u001b[0m\u001b[0;34m\u001b[0m\u001b[0;34m\u001b[0m\u001b[0m\n",
            "\u001b[0;32m/usr/local/lib/python3.7/dist-packages/sklearn/utils/validation.py\u001b[0m in \u001b[0;36mcolumn_or_1d\u001b[0;34m(y, warn)\u001b[0m\n\u001b[1;32m    795\u001b[0m         \u001b[0;32mreturn\u001b[0m \u001b[0mnp\u001b[0m\u001b[0;34m.\u001b[0m\u001b[0mravel\u001b[0m\u001b[0;34m(\u001b[0m\u001b[0my\u001b[0m\u001b[0;34m)\u001b[0m\u001b[0;34m\u001b[0m\u001b[0;34m\u001b[0m\u001b[0m\n\u001b[1;32m    796\u001b[0m \u001b[0;34m\u001b[0m\u001b[0m\n\u001b[0;32m--> 797\u001b[0;31m     \u001b[0;32mraise\u001b[0m \u001b[0mValueError\u001b[0m\u001b[0;34m(\u001b[0m\u001b[0;34m\"bad input shape {0}\"\u001b[0m\u001b[0;34m.\u001b[0m\u001b[0mformat\u001b[0m\u001b[0;34m(\u001b[0m\u001b[0mshape\u001b[0m\u001b[0;34m)\u001b[0m\u001b[0;34m)\u001b[0m\u001b[0;34m\u001b[0m\u001b[0;34m\u001b[0m\u001b[0m\n\u001b[0m\u001b[1;32m    798\u001b[0m \u001b[0;34m\u001b[0m\u001b[0m\n\u001b[1;32m    799\u001b[0m \u001b[0;34m\u001b[0m\u001b[0m\n",
            "\u001b[0;31mValueError\u001b[0m: bad input shape (2631, 20)"
          ]
        }
      ]
    },
    {
      "cell_type": "code",
      "metadata": {
        "id": "Zp1Ct-7ynqRh"
      },
      "source": [
        "import gc\n",
        "gc.collect()\n",
        "pca = PCA(n_components=0.95)\n",
        "tfIdfMat_reduced = pca.fit_transform(tfIdfMat.toarray())\n",
        "labels = data['medical_specialty'].tolist()\n",
        "category_list = data.medical_specialty.unique()\n",
        "X_train, X_test, y_train, y_test = train_test_split(tfIdfMat_reduced, labels, stratify=labels,random_state=1)"
      ],
      "execution_count": null,
      "outputs": []
    },
    {
      "cell_type": "code",
      "metadata": {
        "id": "T_IhsxOBn7in"
      },
      "source": [
        "clf = LogisticRegression(penalty= 'elasticnet', solver= 'saga', l1_ratio=0.5, random_state=1).fit(X_train, y_train)\n",
        "y_test_pred= clf.predict(X_test)"
      ],
      "execution_count": null,
      "outputs": []
    },
    {
      "cell_type": "code",
      "metadata": {
        "id": "nmkksxTxoHop"
      },
      "source": [
        "\n",
        "labels = category_list\n",
        "cm = confusion_matrix(y_test, y_test_pred, labels)"
      ],
      "execution_count": null,
      "outputs": []
    },
    {
      "cell_type": "code",
      "metadata": {
        "colab": {
          "base_uri": "https://localhost:8080/",
          "height": 1000
        },
        "id": "aHBBSElboM5a",
        "outputId": "e6379ee7-24c1-49c5-baf2-3a4e6cb8d03b"
      },
      "source": [
        "fig = plt.figure(figsize=(20,20))\n",
        "ax= fig.add_subplot(1,1,1)\n",
        "sns.heatmap(cm, annot=True, cmap=\"Greens\",ax = ax,fmt='g'); #annot=True to annotate cells\n",
        "\n",
        "# labels, title and ticks\n",
        "ax.set_xlabel('Predicted labels');ax.set_ylabel('True labels'); \n",
        "ax.set_title('Confusion Matrix'); \n",
        "ax.xaxis.set_ticklabels(labels); ax.yaxis.set_ticklabels(labels);\n",
        "plt.setp(ax.get_yticklabels(), rotation=30, horizontalalignment='right')\n",
        "plt.setp(ax.get_xticklabels(), rotation=30, horizontalalignment='right')     \n",
        "plt.show()"
      ],
      "execution_count": null,
      "outputs": [
        {
          "output_type": "display_data",
          "data": {
            "image/png": "[encoded data removed]",
            "text/plain": [
              "<Figure size 1440x1440 with 2 Axes>"
            ]
          },
          "metadata": {
            "tags": [],
            "needs_background": "light"
          }
        }
      ]
    },
    {
      "cell_type": "code",
      "metadata": {
        "colab": {
          "base_uri": "https://localhost:8080/"
        },
        "id": "IE5_5w4noO6b",
        "outputId": "a25b7512-d68d-4f05-d9ab-73bfbd66c7c4"
      },
      "source": [
        "score = clf.score(X_test, y_test)\n",
        "print( score)"
      ],
      "execution_count": null,
      "outputs": [
        {
          "output_type": "stream",
          "text": [
            "0.6863354037267081\n"
          ],
          "name": "stdout"
        }
      ]
    },
    {
      "cell_type": "code",
      "metadata": {
        "colab": {
          "base_uri": "https://localhost:8080/",
          "height": 170
        },
        "id": "CKuOb9pEoYL_",
        "outputId": "aff78374-ed3f-4004-9dc1-29527bbbff53"
      },
      "source": [
        "classification_report(y_test, y_test_pred)"
      ],
      "execution_count": null,
      "outputs": [
        {
          "output_type": "execute_result",
          "data": {
            "application/vnd.google.colaboratory.intrinsic+json": {
              "type": "string"
            },
            "text/plain": [
              "'                                precision    recall  f1-score   support\\n\\n             Discharge Summary       0.67      0.96      0.79        27\\n          ENT - Otolaryngology       0.90      0.75      0.82        24\\n        Emergency Room Reports       0.52      0.58      0.55        19\\n         Hematology - Oncology       0.50      0.35      0.41        23\\n                    Nephrology       0.79      0.55      0.65        20\\n                  Neurosurgery       0.79      0.83      0.81        23\\n       Obstetrics / Gynecology       0.79      0.79      0.79        39\\n                 Ophthalmology       0.95      0.95      0.95        21\\n               Pain Management       0.71      0.67      0.69        15\\n         Pediatrics - Neonatal       0.67      0.24      0.35        17\\n       Psychiatry / Psychology       0.80      0.62      0.70        13\\n SOAP / Chart / Progress Notes       0.51      0.67      0.58        42\\n                       Urology       0.63      0.69      0.66        39\\n\\n                      accuracy                           0.69       322\\n                     macro avg       0.71      0.66      0.67       322\\n                  weighted avg       0.70      0.69      0.68       322\\n'"
            ]
          },
          "metadata": {
            "tags": []
          },
          "execution_count": 113
        }
      ]
    },
    {
      "cell_type": "code",
      "metadata": {
        "colab": {
          "base_uri": "https://localhost:8080/"
        },
        "id": "IrnvNNY3Sta7",
        "outputId": "db13a5db-c468-48db-f533-3967cd4e7594"
      },
      "source": [
        "X_train.shape"
      ],
      "execution_count": null,
      "outputs": [
        {
          "output_type": "execute_result",
          "data": {
            "text/plain": [
              "(966, 315)"
            ]
          },
          "metadata": {
            "tags": []
          },
          "execution_count": 115
        }
      ]
    },
    {
      "cell_type": "code",
      "metadata": {
        "colab": {
          "base_uri": "https://localhost:8080/"
        },
        "id": "Adiir9zASyj5",
        "outputId": "a76b329a-6354-4d91-b58a-497f32fe5c91"
      },
      "source": [
        "X_test.shape"
      ],
      "execution_count": null,
      "outputs": [
        {
          "output_type": "execute_result",
          "data": {
            "text/plain": [
              "(322, 315)"
            ]
          },
          "metadata": {
            "tags": []
          },
          "execution_count": 116
        }
      ]
    },
    {
      "cell_type": "code",
      "metadata": {
        "id": "GW3TxA6LoYm9"
      },
      "source": [
        "regressor = Sequential()\n",
        "regressor.add(Embedding(MAX_NB_WORDS, 100, input_length=X_train.shape[1]))\n",
        "regressor.add(LSTM(units = 100, return_sequences = True, input_shape = (X_train.shape[1], 1)))\n",
        "#regressor.add(Dropout(0.2))\n",
        "\n",
        "#regressor.add(LSTM(units = 50, return_sequences = True))\n",
        "#regressor.add(Dropout(0.2))\n",
        "\n",
        "#regressor.add(LSTM(units = 50, return_sequences = True))\n",
        "#regressor.add(Dropout(0.2))\n",
        "\n",
        "regressor.add(LSTM(units = 50))\n",
        "regressor.add(Dropout(0.2))\n",
        "\n",
        "regressor.add(Dense(units = 13))\n",
        "\n",
        "regressor.compile(optimizer = 'adam', loss = 'categorical_crossentropy', metrics=['accuracy'])\n"
      ],
      "execution_count": null,
      "outputs": []
    },
    {
      "cell_type": "code",
      "metadata": {
        "colab": {
          "base_uri": "https://localhost:8080/"
        },
        "id": "h0FeCZbioZOA",
        "outputId": "57fcc80b-d6b2-4665-e8f1-006c2fe8cd01"
      },
      "source": [
        "regressor.fit(X_train, y_train, epochs = 50, batch_size = 10)"
      ],
      "execution_count": null,
      "outputs": [
        {
          "output_type": "stream",
          "text": [
            "Epoch 1/50\n",
            "97/97 [==============================] - 6s 28ms/step - loss: 8.0114 - accuracy: 0.0986\n",
            "Epoch 2/50\n",
            "97/97 [==============================] - 3s 27ms/step - loss: 8.3012 - accuracy: 0.0771\n",
            "Epoch 3/50\n",
            "97/97 [==============================] - 3s 27ms/step - loss: 8.2334 - accuracy: 0.0879\n",
            "Epoch 4/50\n",
            "97/97 [==============================] - 3s 27ms/step - loss: 7.5654 - accuracy: 0.0765\n",
            "Epoch 5/50\n",
            "97/97 [==============================] - 3s 29ms/step - loss: 8.9145 - accuracy: 0.0811\n",
            "Epoch 6/50\n",
            "97/97 [==============================] - 3s 29ms/step - loss: 7.9433 - accuracy: 0.0885\n",
            "Epoch 7/50\n",
            "97/97 [==============================] - 3s 29ms/step - loss: 8.4355 - accuracy: 0.0793\n",
            "Epoch 8/50\n",
            "97/97 [==============================] - 3s 29ms/step - loss: 8.2524 - accuracy: 0.0923\n",
            "Epoch 9/50\n",
            "97/97 [==============================] - 3s 28ms/step - loss: 7.9581 - accuracy: 0.0554\n",
            "Epoch 10/50\n",
            "97/97 [==============================] - 3s 29ms/step - loss: 8.4583 - accuracy: 0.0677\n",
            "Epoch 11/50\n",
            "97/97 [==============================] - 3s 29ms/step - loss: 8.0738 - accuracy: 0.0656\n",
            "Epoch 12/50\n",
            "97/97 [==============================] - 3s 29ms/step - loss: 7.9519 - accuracy: 0.0652\n",
            "Epoch 13/50\n",
            "97/97 [==============================] - 3s 29ms/step - loss: 8.2352 - accuracy: 0.0690\n",
            "Epoch 14/50\n",
            "97/97 [==============================] - 3s 28ms/step - loss: 8.2445 - accuracy: 0.0534\n",
            "Epoch 15/50\n",
            "97/97 [==============================] - 3s 28ms/step - loss: 9.0143 - accuracy: 0.0569\n",
            "Epoch 16/50\n",
            "97/97 [==============================] - 3s 27ms/step - loss: 8.4006 - accuracy: 0.0557\n",
            "Epoch 17/50\n",
            "97/97 [==============================] - 3s 29ms/step - loss: 8.7411 - accuracy: 0.0652\n",
            "Epoch 18/50\n",
            "97/97 [==============================] - 3s 28ms/step - loss: 8.2525 - accuracy: 0.0601\n",
            "Epoch 19/50\n",
            "97/97 [==============================] - 3s 28ms/step - loss: 8.7287 - accuracy: 0.0654\n",
            "Epoch 20/50\n",
            "97/97 [==============================] - 3s 28ms/step - loss: 8.1103 - accuracy: 0.0669\n",
            "Epoch 21/50\n",
            "97/97 [==============================] - 3s 27ms/step - loss: 8.9875 - accuracy: 0.0635\n",
            "Epoch 22/50\n",
            "97/97 [==============================] - 3s 27ms/step - loss: 7.9241 - accuracy: 0.0526\n",
            "Epoch 23/50\n",
            "97/97 [==============================] - 3s 27ms/step - loss: 8.3916 - accuracy: 0.0821\n",
            "Epoch 24/50\n",
            "97/97 [==============================] - 3s 27ms/step - loss: 7.7164 - accuracy: 0.0622\n",
            "Epoch 25/50\n",
            "97/97 [==============================] - 3s 28ms/step - loss: 8.8090 - accuracy: 0.0730\n",
            "Epoch 26/50\n",
            "97/97 [==============================] - 3s 27ms/step - loss: 8.8499 - accuracy: 0.0606\n",
            "Epoch 27/50\n",
            "97/97 [==============================] - 3s 27ms/step - loss: 8.6360 - accuracy: 0.0563\n",
            "Epoch 28/50\n",
            "97/97 [==============================] - 3s 28ms/step - loss: 9.0978 - accuracy: 0.0537\n",
            "Epoch 29/50\n",
            "97/97 [==============================] - 3s 28ms/step - loss: 8.8292 - accuracy: 0.0772\n",
            "Epoch 30/50\n",
            "97/97 [==============================] - 3s 29ms/step - loss: 9.3727 - accuracy: 0.0918\n",
            "Epoch 31/50\n",
            "97/97 [==============================] - 3s 29ms/step - loss: 9.1675 - accuracy: 0.0634\n",
            "Epoch 32/50\n",
            "97/97 [==============================] - 3s 29ms/step - loss: 7.9540 - accuracy: 0.0686\n",
            "Epoch 33/50\n",
            "97/97 [==============================] - 3s 29ms/step - loss: 8.1340 - accuracy: 0.0669\n",
            "Epoch 34/50\n",
            "97/97 [==============================] - 3s 29ms/step - loss: 8.9359 - accuracy: 0.0759\n",
            "Epoch 35/50\n",
            "97/97 [==============================] - 3s 29ms/step - loss: 8.5905 - accuracy: 0.0758\n",
            "Epoch 36/50\n",
            "97/97 [==============================] - 3s 29ms/step - loss: 8.6670 - accuracy: 0.0619\n",
            "Epoch 37/50\n",
            "97/97 [==============================] - 3s 29ms/step - loss: 8.8606 - accuracy: 0.0625\n",
            "Epoch 38/50\n",
            "97/97 [==============================] - 3s 29ms/step - loss: 9.0280 - accuracy: 0.0617\n",
            "Epoch 39/50\n",
            "97/97 [==============================] - 3s 28ms/step - loss: 8.8813 - accuracy: 0.0564\n",
            "Epoch 40/50\n",
            "97/97 [==============================] - 3s 27ms/step - loss: 8.6084 - accuracy: 0.0885\n",
            "Epoch 41/50\n",
            "97/97 [==============================] - 3s 28ms/step - loss: 7.7516 - accuracy: 0.0915\n",
            "Epoch 42/50\n",
            "97/97 [==============================] - 3s 28ms/step - loss: 8.8612 - accuracy: 0.0646\n",
            "Epoch 43/50\n",
            "97/97 [==============================] - 3s 28ms/step - loss: 9.4029 - accuracy: 0.0734\n",
            "Epoch 44/50\n",
            "97/97 [==============================] - 3s 28ms/step - loss: 8.7604 - accuracy: 0.0794\n",
            "Epoch 45/50\n",
            "97/97 [==============================] - 3s 27ms/step - loss: 9.0953 - accuracy: 0.0626\n",
            "Epoch 46/50\n",
            "97/97 [==============================] - 3s 27ms/step - loss: 8.5622 - accuracy: 0.0708\n",
            "Epoch 47/50\n",
            "97/97 [==============================] - 3s 27ms/step - loss: 9.0041 - accuracy: 0.0820\n",
            "Epoch 48/50\n",
            "97/97 [==============================] - 3s 28ms/step - loss: 8.9468 - accuracy: 0.0735\n",
            "Epoch 49/50\n",
            "97/97 [==============================] - 3s 27ms/step - loss: 9.0175 - accuracy: 0.0749\n",
            "Epoch 50/50\n",
            "97/97 [==============================] - 3s 27ms/step - loss: 8.4836 - accuracy: 0.0784\n"
          ],
          "name": "stdout"
        },
        {
          "output_type": "execute_result",
          "data": {
            "text/plain": [
              "<keras.callbacks.History at 0x7f9afdbda9d0>"
            ]
          },
          "metadata": {
            "tags": []
          },
          "execution_count": 98
        }
      ]
    },
    {
      "cell_type": "code",
      "metadata": {
        "colab": {
          "base_uri": "https://localhost:8080/"
        },
        "id": "_F6--WgDogRn",
        "outputId": "b63b2baf-e1f4-4a22-fac1-9a405feef472"
      },
      "source": [
        "X_train[100]"
      ],
      "execution_count": null,
      "outputs": [
        {
          "output_type": "execute_result",
          "data": {
            "text/plain": [
              "array([ 1.50632192e-01,  2.47474066e-02, -2.25083366e-02,  1.10709559e-01,\n",
              "       -4.82914220e-02, -1.74124087e-02, -8.00030204e-02,  8.51674070e-02,\n",
              "        1.60964025e-01, -1.75464645e-02, -1.15570415e-01,  2.07893203e-01,\n",
              "        1.78018279e-01, -5.50708193e-02, -1.60008245e-01, -4.07185405e-02,\n",
              "       -2.94706196e-02, -7.93152574e-02, -8.34387680e-02, -3.54347461e-02,\n",
              "        5.99634110e-02, -3.61664616e-02,  5.31082376e-02, -1.71028508e-02,\n",
              "        4.23860423e-02,  9.67169771e-02, -1.64271603e-02, -6.89175438e-02,\n",
              "        2.22716147e-02,  9.79583141e-02,  4.10359882e-02,  1.50614384e-01,\n",
              "       -2.51135870e-02, -2.41835542e-02,  2.26130237e-01,  2.98222928e-02,\n",
              "        1.02360256e-01, -5.70375531e-02, -3.40975975e-02,  1.88016926e-01,\n",
              "        1.62537084e-01,  3.82642611e-02, -4.30938295e-02, -9.99191324e-02,\n",
              "       -2.75571125e-02, -1.14643739e-01,  1.13720350e-02,  2.00716669e-03,\n",
              "       -4.17276218e-02,  4.60187913e-02,  1.09676847e-01,  1.36235749e-02,\n",
              "       -7.99580948e-02, -9.17540451e-02, -7.02686403e-03,  5.78778483e-02,\n",
              "       -4.23478628e-03,  8.68684672e-02,  4.85972140e-02,  2.19442325e-01,\n",
              "       -3.58056877e-02, -8.68843841e-02,  1.00628666e-01,  6.54760423e-02,\n",
              "        2.52368891e-02,  6.23023967e-02,  2.36317004e-02,  1.00218192e-01,\n",
              "       -1.31961869e-01,  7.78131672e-03, -4.84283311e-02,  3.97696182e-02,\n",
              "        2.72623669e-02,  1.23999923e-01, -8.27568338e-02, -6.64505617e-03,\n",
              "       -4.56491191e-02,  7.38799667e-03, -1.78167789e-02,  9.66176036e-02,\n",
              "       -2.75113768e-02,  5.96940821e-02, -4.22915307e-02,  5.96368247e-03,\n",
              "        1.53577018e-01,  1.72400066e-02,  7.81831990e-02, -3.86352468e-02,\n",
              "        7.36628906e-02,  5.78814181e-02, -1.31581831e-01,  5.05323199e-02,\n",
              "       -2.72214365e-02, -7.68564428e-02, -3.07440278e-02, -5.40573985e-02,\n",
              "        6.38642241e-02, -5.02134485e-02,  3.23388442e-02, -2.16858960e-02,\n",
              "       -2.11162832e-02, -1.73246305e-02, -2.42990991e-02,  3.45290386e-02,\n",
              "       -1.49025244e-02,  1.14495850e-02,  1.15421610e-02, -5.08189369e-02,\n",
              "        2.22293877e-03,  7.02582800e-02,  4.63182610e-02,  6.23125151e-02,\n",
              "        2.01037419e-02,  8.24687342e-02, -2.52453085e-02, -4.94786174e-03,\n",
              "        1.52820919e-02,  9.90457563e-02,  1.02848163e-01,  6.13663924e-02,\n",
              "        5.59026152e-02, -5.11546333e-02, -3.86069027e-02, -1.75540929e-02,\n",
              "       -1.06575414e-02, -8.51259000e-03,  5.92640215e-02, -5.01316455e-02,\n",
              "       -7.75441370e-02, -3.60465587e-02, -4.75495656e-02,  2.19441665e-02,\n",
              "        2.53265114e-02, -6.10652637e-02,  5.20726003e-02,  7.81378135e-04,\n",
              "        5.30947948e-02,  3.13889557e-02, -1.34055125e-02, -5.50198205e-03,\n",
              "       -4.19302847e-03,  2.16373089e-02, -9.11252853e-03,  6.41746917e-02,\n",
              "       -7.91028532e-02, -1.50400716e-02,  2.32749416e-02, -5.24189789e-02,\n",
              "       -3.76125203e-02, -6.65941443e-02,  2.38770921e-02, -4.91898905e-02,\n",
              "       -3.55226026e-02,  2.02048216e-02, -1.45376988e-02, -1.45520983e-03,\n",
              "       -2.67552638e-02, -7.17842878e-03, -5.56395473e-02,  2.12670349e-02,\n",
              "       -1.86593550e-02,  3.38842623e-02,  6.71627821e-02, -2.91618031e-02,\n",
              "       -1.78266746e-02, -2.58247310e-02,  1.67788106e-02,  1.33258868e-02,\n",
              "        6.62328079e-03, -2.06218701e-02, -1.01867396e-02, -2.87888861e-03,\n",
              "       -2.65838411e-02,  3.06692173e-02, -5.24808434e-02, -6.22346148e-02,\n",
              "       -7.15901990e-02, -1.48154053e-02,  4.37830832e-02, -5.88118379e-03,\n",
              "        1.81034289e-03,  7.65237104e-02,  3.61808710e-02,  8.63180417e-03,\n",
              "       -5.61460684e-04, -2.16902665e-02, -2.86457865e-02,  1.87921608e-02,\n",
              "        8.89246219e-02, -7.11681610e-02, -1.59650829e-02, -3.72217436e-02,\n",
              "        6.53826321e-02,  5.81290344e-03,  5.73948191e-04, -1.19704443e-02,\n",
              "       -4.45896372e-02, -1.17871462e-02,  6.33763822e-03,  6.40612557e-02,\n",
              "       -4.78668283e-03,  3.15610884e-02, -3.36537824e-02,  2.60374185e-02,\n",
              "       -2.54350387e-02, -1.10914935e-02, -7.22721435e-03, -9.53337780e-03,\n",
              "       -2.74298699e-02,  3.38515004e-02,  6.17648668e-02, -5.47589277e-04,\n",
              "        3.63860907e-02, -1.09806296e-02, -3.42016872e-04, -1.72262920e-02,\n",
              "        2.23399994e-02,  2.49780279e-02, -4.66490504e-03,  5.43232130e-02,\n",
              "        2.70871863e-02,  2.78121306e-02,  1.45006619e-02, -1.92654199e-02,\n",
              "       -1.29175990e-02, -1.54509899e-02,  3.85652682e-02, -4.97434498e-02,\n",
              "        3.88111960e-06,  3.09515715e-02,  2.71510502e-02, -1.78143915e-02,\n",
              "        6.98231703e-02, -2.32001989e-02,  5.05267715e-03,  2.84864028e-03,\n",
              "       -1.88438095e-02,  4.22848829e-02,  1.28782224e-02,  2.49721101e-02,\n",
              "        6.17652832e-02,  2.25065936e-02, -1.79909877e-02,  3.29222214e-02,\n",
              "       -3.11705953e-02, -3.18788713e-02,  7.07515792e-03, -1.02784080e-02,\n",
              "        1.53850157e-03, -2.81487971e-02, -9.53770384e-04,  1.85820476e-02,\n",
              "        5.54490133e-03,  1.02857690e-02, -2.54650873e-02,  1.36120463e-02,\n",
              "        3.20484026e-03, -3.21074254e-02, -2.44907652e-02, -1.02375081e-02,\n",
              "        4.58412698e-03,  1.70006437e-02,  1.61956976e-02,  2.30448021e-02,\n",
              "       -1.49773436e-02,  2.20818597e-02, -1.00300966e-02,  7.91808755e-05,\n",
              "       -2.45779759e-02,  1.57315544e-03, -1.18190270e-02,  3.28641927e-02,\n",
              "        1.79742718e-02, -1.29899132e-02,  1.46049524e-02, -1.82365502e-02,\n",
              "        5.37840126e-03,  5.58644171e-02,  2.66198780e-03, -8.39082880e-03,\n",
              "       -2.77158111e-02, -1.84565751e-02,  1.31857429e-02,  2.99744467e-02,\n",
              "        1.62938067e-02,  1.31005435e-02,  1.17687614e-02,  6.12880028e-02,\n",
              "       -1.17508150e-02, -2.50254117e-03, -3.04306643e-02, -1.78135084e-02,\n",
              "       -1.12258737e-02,  1.17929351e-02,  7.78754256e-03, -7.66759205e-03,\n",
              "       -1.17225918e-03, -1.68131857e-02, -1.87300124e-02, -5.30587200e-03,\n",
              "       -3.74497567e-03,  2.16684506e-03,  1.07913153e-03,  4.55178991e-02,\n",
              "       -7.37498473e-03,  1.08624278e-02, -1.56183041e-02, -3.70017375e-03,\n",
              "       -8.02780549e-03,  4.54575336e-02,  1.72975569e-02, -1.79493568e-02,\n",
              "        9.06634615e-03, -5.88260904e-03,  2.72660427e-03])"
            ]
          },
          "metadata": {
            "tags": []
          },
          "execution_count": 99
        }
      ]
    },
    {
      "cell_type": "code",
      "metadata": {
        "colab": {
          "base_uri": "https://localhost:8080/"
        },
        "id": "AYR_t-EduK49",
        "outputId": "dc85f487-8844-4ef9-cbcf-e2908d0cebda"
      },
      "source": [
        "y_train[100]"
      ],
      "execution_count": null,
      "outputs": [
        {
          "output_type": "execute_result",
          "data": {
            "text/plain": [
              "array([0, 0, 0, 0, 0, 0, 0, 0, 0, 0, 1, 0, 0], dtype=uint8)"
            ]
          },
          "metadata": {
            "tags": []
          },
          "execution_count": 100
        }
      ]
    },
    {
      "cell_type": "code",
      "metadata": {
        "colab": {
          "base_uri": "https://localhost:8080/",
          "height": 128
        },
        "id": "cZSu7n4u1occ",
        "outputId": "1ed8f84e-b82c-448e-e22c-ae8e425066e5"
      },
      "source": [
        ""
      ],
      "execution_count": null,
      "outputs": [
        {
          "output_type": "error",
          "ename": "SyntaxError",
          "evalue": "ignored",
          "traceback": [
            "\u001b[0;36m  File \u001b[0;32m\"<ipython-input-102-5803b30be4f5>\"\u001b[0;36m, line \u001b[0;32m1\u001b[0m\n\u001b[0;31m    Normalize the data\u001b[0m\n\u001b[0m                ^\u001b[0m\n\u001b[0;31mSyntaxError\u001b[0m\u001b[0;31m:\u001b[0m invalid syntax\n"
          ]
        }
      ]
    },
    {
      "cell_type": "markdown",
      "metadata": {
        "id": "vJ8V4gOK1tmr"
      },
      "source": [
        "Normalize the data"
      ]
    },
    {
      "cell_type": "code",
      "metadata": {
        "id": "ZiXd34vhuNVe"
      },
      "source": [
        "dataf=((tfIdfMat_reduced-tfIdfMat_reduced.min())/(tfIdfMat_reduced.max()-tfIdfMat_reduced.min()))"
      ],
      "execution_count": null,
      "outputs": []
    },
    {
      "cell_type": "code",
      "metadata": {
        "colab": {
          "base_uri": "https://localhost:8080/"
        },
        "id": "XEquPZjF9O8L",
        "outputId": "049d4ade-22e2-4f0d-c7be-e219e6e01f34"
      },
      "source": [
        "dataf"
      ],
      "execution_count": null,
      "outputs": [
        {
          "output_type": "execute_result",
          "data": {
            "text/plain": [
              "array([[0.12629381, 0.3931784 , 0.43435352, ..., 0.44118454, 0.40988889,\n",
              "        0.40469909],\n",
              "       [0.41117292, 0.39141896, 0.43581319, ..., 0.36298682, 0.40917619,\n",
              "        0.40832346],\n",
              "       [0.11260529, 0.37010499, 0.43005888, ..., 0.36923973, 0.40206273,\n",
              "        0.369016  ],\n",
              "       ...,\n",
              "       [0.62058005, 0.53030051, 0.70531682, ..., 0.3718179 , 0.4537711 ,\n",
              "        0.38847691],\n",
              "       [0.44101208, 0.46373289, 0.52612498, ..., 0.41556403, 0.40145683,\n",
              "        0.40923983],\n",
              "       [0.50470071, 0.41321205, 0.52692931, ..., 0.38860297, 0.43217053,\n",
              "        0.36680733]])"
            ]
          },
          "metadata": {
            "tags": []
          },
          "execution_count": 118
        }
      ]
    },
    {
      "cell_type": "code",
      "metadata": {
        "id": "mFxVV-Ix0-f9"
      },
      "source": [
        "X_train, X_test, y_train, y_test = train_test_split(dataf, Y,random_state=1)"
      ],
      "execution_count": null,
      "outputs": []
    },
    {
      "cell_type": "code",
      "metadata": {
        "colab": {
          "base_uri": "https://localhost:8080/"
        },
        "id": "l7UnYQDk9y5g",
        "outputId": "224e0536-4791-49fc-8938-b2f2a69ebfaa"
      },
      "source": [
        "X_train"
      ],
      "execution_count": null,
      "outputs": [
        {
          "output_type": "execute_result",
          "data": {
            "text/plain": [
              "array([[0.77459529, 0.49158918, 0.46824448, ..., 0.46108275, 0.38705992,\n",
              "        0.38597057],\n",
              "       [0.24276837, 0.489586  , 0.52357733, ..., 0.41751251, 0.43179965,\n",
              "        0.39994763],\n",
              "       [0.67718208, 0.2764841 , 0.29923147, ..., 0.41507605, 0.42581109,\n",
              "        0.3836391 ],\n",
              "       ...,\n",
              "       [0.1013605 , 0.40276546, 0.4094686 , ..., 0.41414355, 0.40914304,\n",
              "        0.4031749 ],\n",
              "       [0.76176319, 0.491826  , 0.46208878, ..., 0.37262483, 0.41354794,\n",
              "        0.41043154],\n",
              "       [0.61360599, 0.44209791, 0.53101779, ..., 0.41660906, 0.3904839 ,\n",
              "        0.40710904]])"
            ]
          },
          "metadata": {
            "tags": []
          },
          "execution_count": 122
        }
      ]
    },
    {
      "cell_type": "code",
      "metadata": {
        "colab": {
          "base_uri": "https://localhost:8080/"
        },
        "id": "pYJ0C081-wIE",
        "outputId": "81b177cc-a282-41ce-fed3-29fe83c48701"
      },
      "source": [
        "y_test"
      ],
      "execution_count": null,
      "outputs": [
        {
          "output_type": "execute_result",
          "data": {
            "text/plain": [
              "array([[0, 0, 0, ..., 0, 0, 0],\n",
              "       [0, 1, 0, ..., 0, 0, 0],\n",
              "       [0, 0, 0, ..., 0, 0, 0],\n",
              "       ...,\n",
              "       [0, 0, 0, ..., 0, 0, 0],\n",
              "       [0, 0, 1, ..., 0, 0, 0],\n",
              "       [0, 0, 0, ..., 0, 0, 0]], dtype=uint8)"
            ]
          },
          "metadata": {
            "tags": []
          },
          "execution_count": 127
        }
      ]
    },
    {
      "cell_type": "code",
      "metadata": {
        "id": "owZw6ZBo2iWy"
      },
      "source": [
        "regressor = Sequential()\n",
        "regressor.add(Embedding(MAX_NB_WORDS, 100, input_length=X_train.shape[1]))\n",
        "regressor.add(LSTM(units = 100, return_sequences = True, input_shape = (X_train.shape[1], 1)))\n",
        "#regressor.add(Dropout(0.2))\n",
        "\n",
        "#regressor.add(LSTM(units = 50, return_sequences = True))\n",
        "#regressor.add(Dropout(0.2))\n",
        "\n",
        "#regressor.add(LSTM(units = 50, return_sequences = True))\n",
        "#regressor.add(Dropout(0.2))\n",
        "\n",
        "regressor.add(LSTM(units = 50))\n",
        "regressor.add(Dropout(0.2))\n",
        "\n",
        "regressor.add(Dense(units = 13))\n",
        "\n",
        "regressor.compile(optimizer = 'adam', loss = 'categorical_crossentropy', metrics=['accuracy'])\n"
      ],
      "execution_count": null,
      "outputs": []
    },
    {
      "cell_type": "code",
      "metadata": {
        "colab": {
          "base_uri": "https://localhost:8080/"
        },
        "id": "UbWGtI1d2l4F",
        "outputId": "6580453d-b19b-4a59-c30b-6b721b0b61f3"
      },
      "source": [
        "regressor.fit(X_train, y_train, epochs = 50, batch_size = 10)"
      ],
      "execution_count": null,
      "outputs": [
        {
          "output_type": "stream",
          "text": [
            "Epoch 1/50\n",
            "97/97 [==============================] - 6s 30ms/step - loss: 7.5418 - accuracy: 0.0994\n",
            "Epoch 2/50\n",
            "97/97 [==============================] - 3s 29ms/step - loss: 8.1214 - accuracy: 0.0720\n",
            "Epoch 3/50\n",
            "97/97 [==============================] - 3s 29ms/step - loss: 8.3287 - accuracy: 0.0626\n",
            "Epoch 4/50\n",
            "97/97 [==============================] - 3s 29ms/step - loss: 7.5956 - accuracy: 0.0747\n",
            "Epoch 5/50\n",
            "97/97 [==============================] - 3s 29ms/step - loss: 8.3478 - accuracy: 0.0867\n",
            "Epoch 6/50\n",
            "97/97 [==============================] - 3s 29ms/step - loss: 8.0044 - accuracy: 0.0713\n",
            "Epoch 7/50\n",
            "97/97 [==============================] - 3s 28ms/step - loss: 7.8871 - accuracy: 0.0892\n",
            "Epoch 8/50\n",
            "97/97 [==============================] - 3s 27ms/step - loss: 8.8180 - accuracy: 0.0732\n",
            "Epoch 9/50\n",
            "97/97 [==============================] - 3s 28ms/step - loss: 8.0954 - accuracy: 0.0812\n",
            "Epoch 10/50\n",
            "97/97 [==============================] - 3s 27ms/step - loss: 7.7599 - accuracy: 0.1090\n",
            "Epoch 11/50\n",
            "97/97 [==============================] - 3s 27ms/step - loss: 8.0124 - accuracy: 0.0725\n",
            "Epoch 12/50\n",
            "97/97 [==============================] - 3s 28ms/step - loss: 8.2955 - accuracy: 0.0883\n",
            "Epoch 13/50\n",
            "97/97 [==============================] - 3s 27ms/step - loss: 8.5549 - accuracy: 0.0723\n",
            "Epoch 14/50\n",
            "97/97 [==============================] - 3s 27ms/step - loss: 7.9944 - accuracy: 0.0678\n",
            "Epoch 15/50\n",
            "97/97 [==============================] - 3s 27ms/step - loss: 7.8439 - accuracy: 0.0675\n",
            "Epoch 16/50\n",
            "97/97 [==============================] - 3s 27ms/step - loss: 8.4850 - accuracy: 0.0528\n",
            "Epoch 17/50\n",
            "97/97 [==============================] - 3s 28ms/step - loss: 7.5025 - accuracy: 0.0581\n",
            "Epoch 18/50\n",
            "97/97 [==============================] - 3s 27ms/step - loss: 8.2186 - accuracy: 0.0502\n",
            "Epoch 19/50\n",
            "97/97 [==============================] - 3s 27ms/step - loss: 7.4568 - accuracy: 0.0571\n",
            "Epoch 20/50\n",
            "97/97 [==============================] - 3s 27ms/step - loss: 7.9321 - accuracy: 0.0469\n",
            "Epoch 21/50\n",
            "97/97 [==============================] - 3s 28ms/step - loss: 7.6763 - accuracy: 0.0546\n",
            "Epoch 22/50\n",
            "97/97 [==============================] - 3s 29ms/step - loss: 7.5924 - accuracy: 0.0392\n",
            "Epoch 23/50\n",
            "97/97 [==============================] - 3s 29ms/step - loss: 7.8603 - accuracy: 0.0471\n",
            "Epoch 24/50\n",
            "97/97 [==============================] - 3s 29ms/step - loss: 8.2029 - accuracy: 0.0422\n",
            "Epoch 25/50\n",
            "97/97 [==============================] - 3s 29ms/step - loss: 8.8815 - accuracy: 0.0418\n",
            "Epoch 26/50\n",
            "97/97 [==============================] - 3s 29ms/step - loss: 8.9572 - accuracy: 0.0572\n",
            "Epoch 27/50\n",
            "97/97 [==============================] - 3s 29ms/step - loss: 7.9853 - accuracy: 0.0453\n",
            "Epoch 28/50\n",
            "97/97 [==============================] - 3s 29ms/step - loss: 8.5187 - accuracy: 0.0430\n",
            "Epoch 29/50\n",
            "97/97 [==============================] - 3s 29ms/step - loss: 8.4142 - accuracy: 0.0605\n",
            "Epoch 30/50\n",
            "97/97 [==============================] - 3s 29ms/step - loss: 8.2661 - accuracy: 0.0630\n",
            "Epoch 31/50\n",
            "97/97 [==============================] - 3s 28ms/step - loss: 8.4722 - accuracy: 0.0552\n",
            "Epoch 32/50\n",
            "97/97 [==============================] - 3s 28ms/step - loss: 8.4467 - accuracy: 0.0535\n",
            "Epoch 33/50\n",
            "97/97 [==============================] - 3s 28ms/step - loss: 8.4773 - accuracy: 0.0546\n",
            "Epoch 34/50\n",
            "97/97 [==============================] - 3s 28ms/step - loss: 8.0473 - accuracy: 0.0533\n",
            "Epoch 35/50\n",
            "97/97 [==============================] - 3s 28ms/step - loss: 7.7902 - accuracy: 0.0512\n",
            "Epoch 36/50\n",
            "97/97 [==============================] - 3s 28ms/step - loss: 8.0405 - accuracy: 0.0364\n",
            "Epoch 37/50\n",
            "97/97 [==============================] - 3s 28ms/step - loss: 8.2045 - accuracy: 0.0458\n",
            "Epoch 38/50\n",
            "97/97 [==============================] - 3s 28ms/step - loss: 8.4823 - accuracy: 0.0482\n",
            "Epoch 39/50\n",
            "97/97 [==============================] - 3s 28ms/step - loss: 7.9349 - accuracy: 0.0505\n",
            "Epoch 40/50\n",
            "97/97 [==============================] - 3s 28ms/step - loss: 8.2743 - accuracy: 0.0628\n",
            "Epoch 41/50\n",
            "97/97 [==============================] - 3s 28ms/step - loss: 8.6247 - accuracy: 0.0490\n",
            "Epoch 42/50\n",
            "97/97 [==============================] - 3s 28ms/step - loss: 7.6521 - accuracy: 0.0561\n",
            "Epoch 43/50\n",
            "97/97 [==============================] - 3s 28ms/step - loss: 8.7931 - accuracy: 0.0626\n",
            "Epoch 44/50\n",
            "97/97 [==============================] - 3s 28ms/step - loss: 8.5465 - accuracy: 0.0606\n",
            "Epoch 45/50\n",
            "97/97 [==============================] - 3s 28ms/step - loss: 8.9732 - accuracy: 0.0662\n",
            "Epoch 46/50\n",
            "97/97 [==============================] - 3s 29ms/step - loss: 8.7954 - accuracy: 0.0805\n",
            "Epoch 47/50\n",
            "97/97 [==============================] - 3s 30ms/step - loss: 8.7740 - accuracy: 0.0681\n",
            "Epoch 48/50\n",
            "97/97 [==============================] - 3s 29ms/step - loss: 8.7453 - accuracy: 0.0743\n",
            "Epoch 49/50\n",
            "97/97 [==============================] - 3s 29ms/step - loss: 8.8205 - accuracy: 0.0777\n",
            "Epoch 50/50\n",
            "97/97 [==============================] - 3s 29ms/step - loss: 8.6433 - accuracy: 0.0574\n"
          ],
          "name": "stdout"
        },
        {
          "output_type": "execute_result",
          "data": {
            "text/plain": [
              "<keras.callbacks.History at 0x7f9afda0ecd0>"
            ]
          },
          "metadata": {
            "tags": []
          },
          "execution_count": 124
        }
      ]
    },
    {
      "cell_type": "code",
      "metadata": {
        "colab": {
          "base_uri": "https://localhost:8080/"
        },
        "id": "JsTwD8UR-icI",
        "outputId": "e2ddd935-eeca-42e4-8f44-25cb4e245fa7"
      },
      "source": [
        "accr = regressor.evaluate(X_test,y_test)\n",
        "print('Test set\\n  Loss: {:0.3f}\\n  Accuracy: {:0.3f}'.format(accr[0],accr[1]))"
      ],
      "execution_count": null,
      "outputs": [
        {
          "output_type": "stream",
          "text": [
            "11/11 [==============================] - 1s 21ms/step - loss: 8.8599 - accuracy: 0.0342\n",
            "Test set\n",
            "  Loss: 8.860\n",
            "  Accuracy: 0.034\n"
          ],
          "name": "stdout"
        }
      ]
    },
    {
      "cell_type": "code",
      "metadata": {
        "colab": {
          "base_uri": "https://localhost:8080/",
          "height": 370
        },
        "id": "ZkVYQc8s2pEy",
        "outputId": "b9e0f832-7d71-4211-a2dd-7a86b39b9772"
      },
      "source": [
        "import gc\n",
        "gc.collect()\n",
        "\n",
        "labels = data['medical_specialty'].tolist()\n",
        "category_list = data.medical_specialty.unique()\n",
        "\n",
        "y_test_pred= regressor.predict(X_test)\n",
        "labels = category_list\n",
        "cm = confusion_matrix(y_test, y_test_pred, labels)\n",
        "fig = plt.figure(figsize=(20,20))\n",
        "ax= fig.add_subplot(1,1,1)\n",
        "sns.heatmap(cm, annot=True, cmap=\"Greens\",ax = ax,fmt='g'); #annot=True to annotate cells\n",
        "\n",
        "# labels, title and ticks\n",
        "ax.set_xlabel('Predicted labels');ax.set_ylabel('True labels'); \n",
        "ax.set_title('Confusion Matrix'); \n",
        "ax.xaxis.set_ticklabels(labels); ax.yaxis.set_ticklabels(labels);\n",
        "plt.setp(ax.get_yticklabels(), rotation=30, horizontalalignment='right')\n",
        "plt.setp(ax.get_xticklabels(), rotation=30, horizontalalignment='right')     \n",
        "plt.show()"
      ],
      "execution_count": null,
      "outputs": [
        {
          "output_type": "error",
          "ename": "ValueError",
          "evalue": "ignored",
          "traceback": [
            "\u001b[0;31m---------------------------------------------------------------------------\u001b[0m",
            "\u001b[0;31mValueError\u001b[0m                                Traceback (most recent call last)",
            "\u001b[0;32m<ipython-input-131-adf2c1864fbd>\u001b[0m in \u001b[0;36m<module>\u001b[0;34m()\u001b[0m\n\u001b[1;32m      7\u001b[0m \u001b[0my_test_pred\u001b[0m\u001b[0;34m=\u001b[0m \u001b[0mregressor\u001b[0m\u001b[0;34m.\u001b[0m\u001b[0mpredict\u001b[0m\u001b[0;34m(\u001b[0m\u001b[0mX_test\u001b[0m\u001b[0;34m)\u001b[0m\u001b[0;34m\u001b[0m\u001b[0;34m\u001b[0m\u001b[0m\n\u001b[1;32m      8\u001b[0m \u001b[0mlabels\u001b[0m \u001b[0;34m=\u001b[0m \u001b[0mcategory_list\u001b[0m\u001b[0;34m\u001b[0m\u001b[0;34m\u001b[0m\u001b[0m\n\u001b[0;32m----> 9\u001b[0;31m \u001b[0mcm\u001b[0m \u001b[0;34m=\u001b[0m \u001b[0mconfusion_matrix\u001b[0m\u001b[0;34m(\u001b[0m\u001b[0my_test\u001b[0m\u001b[0;34m,\u001b[0m \u001b[0my_test_pred\u001b[0m\u001b[0;34m,\u001b[0m \u001b[0mlabels\u001b[0m\u001b[0;34m)\u001b[0m\u001b[0;34m\u001b[0m\u001b[0;34m\u001b[0m\u001b[0m\n\u001b[0m\u001b[1;32m     10\u001b[0m \u001b[0mfig\u001b[0m \u001b[0;34m=\u001b[0m \u001b[0mplt\u001b[0m\u001b[0;34m.\u001b[0m\u001b[0mfigure\u001b[0m\u001b[0;34m(\u001b[0m\u001b[0mfigsize\u001b[0m\u001b[0;34m=\u001b[0m\u001b[0;34m(\u001b[0m\u001b[0;36m20\u001b[0m\u001b[0;34m,\u001b[0m\u001b[0;36m20\u001b[0m\u001b[0;34m)\u001b[0m\u001b[0;34m)\u001b[0m\u001b[0;34m\u001b[0m\u001b[0;34m\u001b[0m\u001b[0m\n\u001b[1;32m     11\u001b[0m \u001b[0max\u001b[0m\u001b[0;34m=\u001b[0m \u001b[0mfig\u001b[0m\u001b[0;34m.\u001b[0m\u001b[0madd_subplot\u001b[0m\u001b[0;34m(\u001b[0m\u001b[0;36m1\u001b[0m\u001b[0;34m,\u001b[0m\u001b[0;36m1\u001b[0m\u001b[0;34m,\u001b[0m\u001b[0;36m1\u001b[0m\u001b[0;34m)\u001b[0m\u001b[0;34m\u001b[0m\u001b[0;34m\u001b[0m\u001b[0m\n",
            "\u001b[0;32m/usr/local/lib/python3.7/dist-packages/sklearn/metrics/_classification.py\u001b[0m in \u001b[0;36mconfusion_matrix\u001b[0;34m(y_true, y_pred, labels, sample_weight, normalize)\u001b[0m\n\u001b[1;32m    266\u001b[0m \u001b[0;34m\u001b[0m\u001b[0m\n\u001b[1;32m    267\u001b[0m     \"\"\"\n\u001b[0;32m--> 268\u001b[0;31m     \u001b[0my_type\u001b[0m\u001b[0;34m,\u001b[0m \u001b[0my_true\u001b[0m\u001b[0;34m,\u001b[0m \u001b[0my_pred\u001b[0m \u001b[0;34m=\u001b[0m \u001b[0m_check_targets\u001b[0m\u001b[0;34m(\u001b[0m\u001b[0my_true\u001b[0m\u001b[0;34m,\u001b[0m \u001b[0my_pred\u001b[0m\u001b[0;34m)\u001b[0m\u001b[0;34m\u001b[0m\u001b[0;34m\u001b[0m\u001b[0m\n\u001b[0m\u001b[1;32m    269\u001b[0m     \u001b[0;32mif\u001b[0m \u001b[0my_type\u001b[0m \u001b[0;32mnot\u001b[0m \u001b[0;32min\u001b[0m \u001b[0;34m(\u001b[0m\u001b[0;34m\"binary\"\u001b[0m\u001b[0;34m,\u001b[0m \u001b[0;34m\"multiclass\"\u001b[0m\u001b[0;34m)\u001b[0m\u001b[0;34m:\u001b[0m\u001b[0;34m\u001b[0m\u001b[0;34m\u001b[0m\u001b[0m\n\u001b[1;32m    270\u001b[0m         \u001b[0;32mraise\u001b[0m \u001b[0mValueError\u001b[0m\u001b[0;34m(\u001b[0m\u001b[0;34m\"%s is not supported\"\u001b[0m \u001b[0;34m%\u001b[0m \u001b[0my_type\u001b[0m\u001b[0;34m)\u001b[0m\u001b[0;34m\u001b[0m\u001b[0;34m\u001b[0m\u001b[0m\n",
            "\u001b[0;32m/usr/local/lib/python3.7/dist-packages/sklearn/metrics/_classification.py\u001b[0m in \u001b[0;36m_check_targets\u001b[0;34m(y_true, y_pred)\u001b[0m\n\u001b[1;32m     88\u001b[0m     \u001b[0;32mif\u001b[0m \u001b[0mlen\u001b[0m\u001b[0;34m(\u001b[0m\u001b[0my_type\u001b[0m\u001b[0;34m)\u001b[0m \u001b[0;34m>\u001b[0m \u001b[0;36m1\u001b[0m\u001b[0;34m:\u001b[0m\u001b[0;34m\u001b[0m\u001b[0;34m\u001b[0m\u001b[0m\n\u001b[1;32m     89\u001b[0m         raise ValueError(\"Classification metrics can't handle a mix of {0} \"\n\u001b[0;32m---> 90\u001b[0;31m                          \"and {1} targets\".format(type_true, type_pred))\n\u001b[0m\u001b[1;32m     91\u001b[0m \u001b[0;34m\u001b[0m\u001b[0m\n\u001b[1;32m     92\u001b[0m     \u001b[0;31m# We can't have more than one value on y_type => The set is no more needed\u001b[0m\u001b[0;34m\u001b[0m\u001b[0;34m\u001b[0m\u001b[0;34m\u001b[0m\u001b[0m\n",
            "\u001b[0;31mValueError\u001b[0m: Classification metrics can't handle a mix of multilabel-indicator and continuous-multioutput targets"
          ]
        }
      ]
    },
    {
      "cell_type": "code",
      "metadata": {
        "colab": {
          "base_uri": "https://localhost:8080/"
        },
        "id": "7V4EgiWN8jK1",
        "outputId": "066d9c94-ef0d-42dc-9802-f146a06ae432"
      },
      "source": [
        "\n",
        "labels"
      ],
      "execution_count": null,
      "outputs": [
        {
          "output_type": "execute_result",
          "data": {
            "text/plain": [
              "array([' Urology', ' SOAP / Chart / Progress Notes',\n",
              "       ' Psychiatry / Psychology', ' Pediatrics - Neonatal',\n",
              "       ' Pain Management', ' Ophthalmology', ' Obstetrics / Gynecology',\n",
              "       ' Neurosurgery', ' Nephrology', ' Hematology - Oncology',\n",
              "       ' ENT - Otolaryngology', ' Emergency Room Reports',\n",
              "       ' Discharge Summary'], dtype=object)"
            ]
          },
          "metadata": {
            "tags": []
          },
          "execution_count": 111
        }
      ]
    },
    {
      "cell_type": "code",
      "metadata": {
        "colab": {
          "base_uri": "https://localhost:8080/"
        },
        "id": "6mAA5s9T85Im",
        "outputId": "53c1db20-78a1-41a2-9864-5c46cef1cce3"
      },
      "source": [
        "X_train"
      ],
      "execution_count": null,
      "outputs": [
        {
          "output_type": "execute_result",
          "data": {
            "text/plain": [
              "array([[15.49190574,  9.83178361,  9.36488962, ...,  9.22165495,\n",
              "         7.74119847,  7.71941142],\n",
              "       [ 4.85536736,  9.79172007, 10.47154657, ...,  8.35025014,\n",
              "         8.63599293,  7.99895257],\n",
              "       [13.54364165,  5.52968206,  5.98462945, ...,  8.30152104,\n",
              "         8.51622184,  7.67278194],\n",
              "       ...,\n",
              "       [ 2.02721002,  8.05530914,  8.18937196, ...,  8.28287094,\n",
              "         8.18286079,  8.06349808],\n",
              "       [15.23526377,  9.83651994,  9.24177556, ...,  7.45249661,\n",
              "         8.27095881,  8.20863073],\n",
              "       [12.27211984,  8.84195811, 10.62035575, ...,  8.33218126,\n",
              "         7.80967805,  8.14218086]])"
            ]
          },
          "metadata": {
            "tags": []
          },
          "execution_count": 120
        }
      ]
    },
    {
      "cell_type": "code",
      "metadata": {
        "colab": {
          "base_uri": "https://localhost:8080/"
        },
        "id": "fEhvLGmL9C40",
        "outputId": "7aba51c0-d849-487a-ca88-e5d3369fd459"
      },
      "source": [
        "dataf"
      ],
      "execution_count": null,
      "outputs": [
        {
          "output_type": "execute_result",
          "data": {
            "text/plain": [
              "array([[1.64181957, 5.11131919, 5.6465957 , ..., 5.735399  , 5.32855554,\n",
              "        5.26108817],\n",
              "       [5.34524801, 5.08844642, 5.66557142, ..., 4.71882864, 5.3192905 ,\n",
              "        5.30820492],\n",
              "       [1.46386881, 4.81136492, 5.59076541, ..., 4.8001165 , 5.22681555,\n",
              "        4.79720796],\n",
              "       ...,\n",
              "       [8.06754067, 6.89390667, 9.1691187 , ..., 4.83363274, 5.8990243 ,\n",
              "        5.05019984],\n",
              "       [5.73315705, 6.02852752, 6.8396247 , ..., 5.40233234, 5.2189388 ,\n",
              "        5.32011777],\n",
              "       [6.56110929, 5.37175661, 6.850081  , ..., 5.05183863, 5.61821688,\n",
              "        4.76849525]])"
            ]
          },
          "metadata": {
            "tags": []
          },
          "execution_count": 115
        }
      ]
    },
    {
      "cell_type": "code",
      "metadata": {
        "colab": {
          "base_uri": "https://localhost:8080/"
        },
        "id": "gihD9VbA9L5a",
        "outputId": "2fc50c07-89c0-4284-f729-03c9fcf407de"
      },
      "source": [
        "y_test_pred.argmax"
      ],
      "execution_count": null,
      "outputs": [
        {
          "output_type": "execute_result",
          "data": {
            "text/plain": [
              "<function ndarray.argmax>"
            ]
          },
          "metadata": {
            "tags": []
          },
          "execution_count": 129
        }
      ]
    },
    {
      "cell_type": "code",
      "metadata": {
        "colab": {
          "base_uri": "https://localhost:8080/"
        },
        "id": "kaikRywz_Mt1",
        "outputId": "e55ecd9d-28ad-4578-9c8c-d50b3e404c96"
      },
      "source": [
        "a = y_test_pred"
      ],
      "execution_count": null,
      "outputs": [
        {
          "output_type": "execute_result",
          "data": {
            "text/plain": [
              "array([-1.793158 , -1.3184744, -1.4377089,  1.2688776, -1.7868288,\n",
              "        0.9149689,  1.2805475,  1.2327125, -1.1542467,  1.0500038,\n",
              "        1.418888 , -1.3139422,  1.2899303], dtype=float32)"
            ]
          },
          "metadata": {
            "tags": []
          },
          "execution_count": 132
        }
      ]
    },
    {
      "cell_type": "code",
      "metadata": {
        "colab": {
          "base_uri": "https://localhost:8080/"
        },
        "id": "oUGxayIK_qPj",
        "outputId": "f916fe11-1233-4d38-f9f5-bb04d1135ed4"
      },
      "source": [
        "y_test_pred= regressor.predict_proba(X_test)"
      ],
      "execution_count": null,
      "outputs": [
        {
          "output_type": "stream",
          "text": [
            "/usr/local/lib/python3.7/dist-packages/keras/engine/sequential.py:425: UserWarning: `model.predict_proba()` is deprecated and will be removed after 2021-01-01. Please use `model.predict()` instead.\n",
            "  warnings.warn('`model.predict_proba()` is deprecated and '\n"
          ],
          "name": "stderr"
        },
        {
          "output_type": "stream",
          "text": [
            "WARNING:tensorflow:Network returning invalid probability values. The last layer might not normalize predictions into probabilities (like softmax or sigmoid would).\n"
          ],
          "name": "stdout"
        }
      ]
    },
    {
      "cell_type": "code",
      "metadata": {
        "colab": {
          "base_uri": "https://localhost:8080/"
        },
        "id": "1vNwny2JAXkS",
        "outputId": "39829495-eeee-4e25-bb95-01fb3e327b7f"
      },
      "source": [
        "print(y_test_pred)"
      ],
      "execution_count": null,
      "outputs": [
        {
          "output_type": "stream",
          "text": [
            "[[-1.793158  -1.3184744 -1.4377089 ...  1.418888  -1.3139422  1.2899303]\n",
            " [-1.793158  -1.3184744 -1.4377089 ...  1.418888  -1.3139422  1.2899303]\n",
            " [-1.793158  -1.3184744 -1.4377089 ...  1.418888  -1.3139422  1.2899303]\n",
            " ...\n",
            " [-1.793158  -1.3184744 -1.4377089 ...  1.418888  -1.3139422  1.2899303]\n",
            " [-1.7931582 -1.3184744 -1.4377087 ...  1.418888  -1.3139422  1.2899303]\n",
            " [-1.7931582 -1.3184744 -1.4377087 ...  1.418888  -1.3139422  1.2899303]]\n"
          ],
          "name": "stdout"
        }
      ]
    },
    {
      "cell_type": "code",
      "metadata": {
        "id": "AlsdI309AbU3"
      },
      "source": [
        ""
      ],
      "execution_count": null,
      "outputs": []
    }
  ]
}